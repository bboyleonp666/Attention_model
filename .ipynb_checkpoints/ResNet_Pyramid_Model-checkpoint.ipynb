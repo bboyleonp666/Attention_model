{
 "cells": [
  {
   "cell_type": "code",
   "execution_count": 1,
   "metadata": {},
   "outputs": [
    {
     "name": "stdout",
     "output_type": "stream",
     "text": [
      "Tensorflow Version: 2.0.0\n",
      "\n",
      "GPU available: True\n",
      "CUDA enabled: True\n"
     ]
    }
   ],
   "source": [
    "'''\n",
    "reference: \n",
    "    https://arxiv.org/abs/1508.01211\n",
    "    https://www.tensorflow.org/tutorials/text/nmt_with_attention\n",
    "    https://github.com/jameslyons/python_speech_features\n",
    "    https://www.tensorflow.org/tutorials/customization/custom_layers\n",
    "    \n",
    "data source: \n",
    "    https://www.kaggle.com/c/tensorflow-speech-recognition-challenge\n",
    "'''\n",
    "\n",
    "import tensorflow as tf\n",
    "\n",
    "import matplotlib.pyplot as plt\n",
    "import matplotlib.ticker as ticker\n",
    "# from sklearn.model_selection import train_test_split\n",
    "\n",
    "import io\n",
    "import time\n",
    "\n",
    "print(f\"Tensorflow Version: {tf.__version__}\")\n",
    "print()\n",
    "print(f\"GPU available: {tf.test.is_gpu_available()}\")\n",
    "print(f\"CUDA enabled: {tf.test.is_built_with_cuda()}\")"
   ]
  },
  {
   "cell_type": "code",
   "execution_count": 2,
   "metadata": {},
   "outputs": [],
   "source": [
    "import os\n",
    "import librosa # for audio processing\n",
    "import IPython.display as ipd\n",
    "import matplotlib.pyplot as plt\n",
    "import numpy as np\n",
    "import pandas as pd\n",
    "from scipy.io import wavfile # for audio processing\n",
    "import warnings\n",
    "warnings.filterwarnings(\"ignore\")"
   ]
  },
  {
   "cell_type": "code",
   "execution_count": 3,
   "metadata": {},
   "outputs": [],
   "source": [
    "class WaveReader:\n",
    "    def __init__(self, path, sample_rate, padding_type, read_size):\n",
    "        '''\n",
    "        Args:\n",
    "            path: train path containing directory which one would like to load\n",
    "            sample_rate: sample rate for reading .wav file\n",
    "            padding_type: padding for .wav data length less than 1 second\n",
    "            read_size: size that one would like to read\n",
    "        '''\n",
    "        \n",
    "        self.path = path\n",
    "        self.sample_rate = sample_rate\n",
    "        self.padding_type = padding_type\n",
    "        self.read_size = read_size\n",
    "\n",
    "    def read(self, labels=None):\n",
    "        '''\n",
    "        read all the data under the labels(directories) one select\n",
    "        \n",
    "        Args:\n",
    "            labels: labels(directories) one would like to load\n",
    "                    None means read all the directories under that directory\n",
    "        '''\n",
    "        print(\"LABEL\\tTOTAL\\tREAD\\tSAVED\\t<1s COUNT\")\n",
    "        print(\"-----\\t-----\\t----\\t-----\\t---------\")\n",
    "        \n",
    "        if labels is None:\n",
    "            labels = [f for f in os.listdir(path) if os.path.isdir(path + \"\\\\\" + f)]\n",
    "            \n",
    "        elif type(labels) == str:\n",
    "            samples, total_wave_count, total_wave_read, total_loss_count = self.read_dir(dir_name=labels)\n",
    "            sample_labels = np.repeat(labels, total_wave_read)\n",
    "            \n",
    "            print(\"\\nMISSION COMPELTE!!!\")\n",
    "            return samples, sample_labels, total_wave_count, total_loss_count\n",
    "                    \n",
    "        label_len = len(labels)\n",
    "        total_wave_count = np.zeros(label_len, dtype=np.int32)\n",
    "        total_wave_read = np.zeros(label_len, dtype=np.int32)\n",
    "        total_loss_count = np.zeros(label_len, dtype=np.int32)\n",
    "\n",
    "        \n",
    "        for i, lab in enumerate(labels):\n",
    "            samp, total_wave_count[i], total_wave_read[i], total_loss_count[i] = self.read_dir(dir_name=lab)\n",
    "            \n",
    "            if i == 0:\n",
    "                samples = samp\n",
    "                sample_labels = np.repeat(lab, total_wave_read[i])\n",
    "            else:\n",
    "                samples = np.concatenate((samples, samp), axis=0)\n",
    "                sample_labels = np.concatenate((sample_labels, np.repeat(lab, total_wave_read[i])), axis=None)\n",
    "        \n",
    "        print(\"\\nMISSION COMPELTE!!!\")\n",
    "        return samples, sample_labels, total_wave_count, total_loss_count\n",
    "    \n",
    "    def read_dir(self, dir_name):\n",
    "        '''\n",
    "        read one directory of given directory name\n",
    "        \n",
    "        Args:\n",
    "            dir_name: directory name\n",
    "        '''\n",
    "        dir_path = os.path.join(self.path, dir_name)\n",
    "        wave_files = [f for f in os.listdir(dir_path) if f.endswith('.wav')]\n",
    "        total_wave_files = len(wave_files)\n",
    "\n",
    "        if self.read_size is not None:\n",
    "            wave_files_read = self.read_size\n",
    "        else:\n",
    "            wave_files_read = total_wave_files\n",
    "\n",
    "        samples = np.zeros((wave_files_read, self.sample_rate))\n",
    "        less_than_1s_count = 0\n",
    "        num_of_file_read = 0\n",
    "        for i, wav_file in enumerate(wave_files):\n",
    "            wave_file_path = os.path.join(dir_path, wav_file)\n",
    "            samp, _ = librosa.load(wave_file_path, sr=self.sample_rate)\n",
    "\n",
    "            pad_size = self.sample_rate - len(samp)\n",
    "            if pad_size > 0:\n",
    "                less_than_1s_count += 1\n",
    "                if self.padding_type is None:\n",
    "                    # None: than skip this wave file\n",
    "                    continue\n",
    "\n",
    "                elif self.padding_type == \"white_noise\":\n",
    "                    # white_noise: pad white noise data behind\n",
    "                    padding = np.random.normal(0, 0.02, pad_size)\n",
    "                    samples[num_of_file_read, :] = np.concatenate((samp, padding), axis=None)\n",
    "                    num_of_file_read += 1\n",
    "\n",
    "\n",
    "                elif self.padding_type == \"zero\":\n",
    "                    # zero: pad zeros behind\n",
    "                    padding = np.zeros(pad_size)\n",
    "                    samples[num_of_file_read, :] = np.concatenate((samp, padding), axis=None)\n",
    "                    num_of_file_read += 1\n",
    "            else:\n",
    "                samples[num_of_file_read, :] = samp\n",
    "                num_of_file_read += 1\n",
    "\n",
    "            print(\"{}\\t{}\\t{}\\t{}\\t{}\".format(dir_name, \n",
    "                                              total_wave_files, \n",
    "                                              i+1, \n",
    "                                              num_of_file_read, \n",
    "                                              less_than_1s_count), end=\"\\r\")\n",
    "            \n",
    "            if num_of_file_read == wave_files_read:\n",
    "                break\n",
    "                \n",
    "        print()\n",
    "\n",
    "        return samples, total_wave_files, wave_files_read, less_than_1s_count"
   ]
  },
  {
   "cell_type": "code",
   "execution_count": 4,
   "metadata": {
    "scrolled": false
   },
   "outputs": [
    {
     "name": "stdout",
     "output_type": "stream",
     "text": [
      "LABEL\tTOTAL\tREAD\tSAVED\t<1s COUNT\n",
      "-----\t-----\t----\t-----\t---------\n",
      "zero\t2376\t2160\t2000\t160\n",
      "one\t2370\t2262\t2000\t262\n",
      "two\t2373\t2222\t2000\t222\n",
      "three\t2356\t2207\t2000\t207\n",
      "four\t2372\t2201\t2000\t201\n",
      "five\t2357\t2185\t2000\t185\n",
      "six\t2369\t2164\t2000\t164\n",
      "seven\t2377\t2194\t2000\t194\n",
      "eight\t2352\t2232\t2000\t232\n",
      "nine\t2364\t2178\t2000\t178\n",
      "\n",
      "MISSION COMPELTE!!!\n"
     ]
    }
   ],
   "source": [
    "SAMPLE_RATE = 16000\n",
    "\n",
    "train_audio_path = os.path.join(os.path.dirname(os.getcwd()), \"data\", \"train\", \"audio\")\n",
    "phoneme_path = os.path.join(os.getcwd(), \"Phonemes\")\n",
    "phoneme_dataframe = pd.read_csv(os.path.join(phoneme_path, \"phonemes.csv\"))\n",
    "\n",
    "reader = WaveReader(path=train_audio_path, \n",
    "                    sample_rate=SAMPLE_RATE, \n",
    "                    padding_type=None, \n",
    "                    read_size=2000)\n",
    "\n",
    "wav_array, label_array, total, loss = reader.read(labels=phoneme_dataframe.words)\n",
    "# wav_array, label_array, total, loss = reader.read(labels=phoneme_dataframe.words[0])\n",
    "\n",
    "# print(\"\\nCheck the existence of NaN and Inf\")\n",
    "# print(f\"NaN Number: {np.sum(np.isnan(wav_array))}\")\n",
    "# print(f\"Inf Number: {np.sum(np.isinf(wav_array))}\")"
   ]
  },
  {
   "cell_type": "code",
   "execution_count": 101,
   "metadata": {},
   "outputs": [],
   "source": [
    "class Preprocesser:\n",
    "    def __init__(self, min_sz=6, max_sz=8, padding_type=\"zero\"):\n",
    "        '''\n",
    "        Args:\n",
    "            create_size: size of binding wave one would like to create\n",
    "            min_sz: minimum size of wave data\n",
    "            max_sz: maximum size of wave data\n",
    "            padding_type: padding for .wav data length less than 1 second\n",
    "        '''\n",
    "        self.min_sz = min_sz\n",
    "        self.max_sz = max_sz\n",
    "        self.padding_type = padding_type\n",
    "        \n",
    "    def get_picker(self):\n",
    "        '''\n",
    "        picker stands for index pick\n",
    "        this is for combining audio data with decided minimum and maximum size\n",
    "        '''\n",
    "        size = np.random.randint(low=self.min_sz, \n",
    "                                 high=self.max_sz+1, \n",
    "                                 size=self.create_size)\n",
    "\n",
    "        picker = np.zeros(self.create_size, dtype=np.object)\n",
    "        for i, s in enumerate(size):\n",
    "            picker[i] = np.random.choice(self.wave_shape[0]-1, size=self.max_sz, replace=False)[:s]\n",
    "            \n",
    "        return picker\n",
    "\n",
    "    def simulate_wave(self, waves, create_size=None):\n",
    "        '''\n",
    "        method for simulating wave inputs\n",
    "        which will concatenate audio inputs for building longer audio dataset\n",
    "        \n",
    "        Args:\n",
    "            waves: input wave data\n",
    "        '''\n",
    "        # get picker for combining waves and labels(phonemes)\n",
    "        self.wave_shape = waves.shape\n",
    "        if create_size is not None:\n",
    "            self.create_size = create_size\n",
    "        else:\n",
    "            self.create_size = self.wave_shape[0]\n",
    "            \n",
    "        self.pickers = self.get_picker()\n",
    "        \n",
    "        print(\"Wave Data Simulation ... \", end=\"\")\n",
    "        \n",
    "        binded_length = self.wave_shape[1]*self.max_sz\n",
    "        simu_wave = np.zeros((self.create_size, binded_length))\n",
    "        \n",
    "        \n",
    "        for i, picker in enumerate(self.pickers):        \n",
    "            tmp_simu_wave = np.array([waves[p] for p in picker]).flatten()\n",
    "            \n",
    "            pad_size = binded_length - len(tmp_simu_wave)\n",
    "            if pad_size > 0:\n",
    "                if self.padding_type == \"white_noise\":\n",
    "                    # padding white noise\n",
    "                    padding = np.random.normal(0, 0.02, size=pad_size)\n",
    "\n",
    "                elif self.padding_type == \"zero\":\n",
    "                    # padding zeros\n",
    "                    padding = np.zeros(pad_size)\n",
    "\n",
    "                simu_wave[i] = np.concatenate((tmp_simu_wave, padding), axis=None)\n",
    "                \n",
    "            else:\n",
    "                simu_wave[i] = tmp_simu_wave\n",
    "            \n",
    "        print(\"Done\")\n",
    "        return simu_wave\n",
    "\n",
    "    def simulate_label(self, labels):\n",
    "        '''\n",
    "        method for simulating label inputs which will concatenate labels following simulated waves\n",
    "        \n",
    "        Args:\n",
    "            labels: input labels following with audio dataset\n",
    "        '''\n",
    "        print(\"Label Simulation ... \", end=\"\")\n",
    "        \n",
    "        simu_label = np.zeros(self.create_size, dtype=np.object)\n",
    "        for i, picker in enumerate(self.pickers):\n",
    "            simu_label[i] = np.array([labels[p] for p in picker])\n",
    "            \n",
    "        print(\"Done\")\n",
    "        return simu_label\n",
    "\n",
    "    def simulate_phoneme(self, labels, label_dict, phoneme_dict):\n",
    "        '''\n",
    "        method for sumulating phoneme inputs\n",
    "        which will concatenate audio phonemes with labels we concated by simulate_label()\n",
    "        \n",
    "        Args:\n",
    "            labels: labels that one would like to transfer\n",
    "            label_dict: label dictionary\n",
    "            phoneme_dict: phoneme dictionary\n",
    "        '''\n",
    "        print(\"Phoneme Simulation... \", end=\"\")\n",
    "        \n",
    "        self.label_dict = label_dict\n",
    "        self.phoneme_dict = phoneme_dict\n",
    "\n",
    "        simu_phoneme = np.empty(self.create_size, dtype=np.object)\n",
    "        for i, label in enumerate(labels):\n",
    "            simu_phoneme[i] = \" \".join([self.phoneme_translator(lab) for lab in label])\n",
    "            simu_phoneme[i] = \"<start> \" + simu_phoneme[i] + \" <end>\"\n",
    "            \n",
    "        print(\"Done\")\n",
    "        return simu_phoneme\n",
    "\n",
    "    def phoneme_translator(self, input_label):\n",
    "        '''\n",
    "        translate labels to phoneme if simulate_phoneme is called\n",
    "        \n",
    "        Args:\n",
    "            input_label: label that one would like to transfer into phonemes\n",
    "        '''\n",
    "        for i, label in enumerate(self.label_dict):\n",
    "            if input_label == label:\n",
    "                return self.phoneme_dict[i]\n",
    "            \n",
    "    def tokenize(self, phoneme):\n",
    "        '''\n",
    "        with tensorflow we can simply apply Tokenizer for text(in our case, phoneme)\n",
    "        to generate phoneme outputs\n",
    "        \n",
    "        Args:\n",
    "            phoneme: phoneme string with '<start>' and '<end>'\n",
    "        '''\n",
    "        tokenizer = tf.keras.preprocessing.text.Tokenizer(filters='')\n",
    "        tokenizer.fit_on_texts(phoneme)\n",
    "        tensor = tokenizer.texts_to_sequences(phoneme)\n",
    "        tensor = tf.keras.preprocessing.sequence.pad_sequences(tensor, padding='post')\n",
    "\n",
    "        return tensor, tokenizer\n",
    "\n",
    "    def show_convert(self, tensor, tokenizer):\n",
    "        '''\n",
    "        showing case of tokenized word according to its index\n",
    "        \n",
    "        Args:\n",
    "            tensor: phoneme tensor\n",
    "            tokenizer: phoneme tokenizer\n",
    "        '''\n",
    "        print(\"\\nTOKEN\\t--->\\tWORDS\")\n",
    "        print(\"=======================\")\n",
    "        for t in tensor:\n",
    "            if t != 0:\n",
    "                print(\"{}\\t--->\\t{}\".format(t, tokenizer.index_word[t]))"
   ]
  },
  {
   "cell_type": "code",
   "execution_count": 6,
   "metadata": {
    "scrolled": true
   },
   "outputs": [
    {
     "name": "stdout",
     "output_type": "stream",
     "text": [
      "Wave Data Simulation ... Done\n",
      "Label Simulation ... Done\n",
      "Phoneme Simulation... Done\n",
      "\n",
      "Example Label Display: ['five']\n",
      "Example Phoneme Display: <start> F AY V <end>\n"
     ]
    }
   ],
   "source": [
    "CREATE_SIZE = 20000\n",
    "MIN_BINDING_SIZE = 1\n",
    "MAX_BINDING_SIZE = 1\n",
    "\n",
    "preprocesser = Preprocesser(min_sz=MIN_BINDING_SIZE, \n",
    "                            max_sz=MAX_BINDING_SIZE, \n",
    "                            padding_type=\"white_noise\")\n",
    "\n",
    "simu_wave = preprocesser.simulate_wave(wav_array, create_size=CREATE_SIZE)\n",
    "simu_label = preprocesser.simulate_label(label_array)\n",
    "simu_phoneme = preprocesser.simulate_phoneme(labels=simu_label, \n",
    "                                             label_dict=phoneme_dataframe.words.values, \n",
    "                                             phoneme_dict=phoneme_dataframe.phonemes.values)\n",
    "\n",
    "print(f\"\\nExample Label Display: {simu_label[0]}\")\n",
    "print(f\"Example Phoneme Display: {simu_phoneme[0]}\")"
   ]
  },
  {
   "cell_type": "code",
   "execution_count": 7,
   "metadata": {},
   "outputs": [
    {
     "name": "stdout",
     "output_type": "stream",
     "text": [
      "Index: [13817]\n",
      "[array(['four'], dtype='<U4')]\n",
      "['<start> F AO R <end>']\n"
     ]
    },
    {
     "data": {
      "text/html": [
       "\n",
       "                <audio  controls=\"controls\" >\n",
       "                    <source src=\"data:audio/wav;base64,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\" type=\"audio/wav\" />\n",
       "                    Your browser does not support the audio element.\n",
       "                </audio>\n",
       "              "
      ],
      "text/plain": [
       "<IPython.lib.display.Audio object>"
      ]
     },
     "execution_count": 7,
     "metadata": {},
     "output_type": "execute_result"
    }
   ],
   "source": [
    "import IPython.display as ipd\n",
    "\n",
    "index = np.random.randint(len(simu_wave), size=1)\n",
    "print(f\"Index: {index}\")\n",
    "print(simu_label[index])\n",
    "print(simu_phoneme[index])\n",
    "ipd.Audio(simu_wave[index], rate=SAMPLE_RATE)"
   ]
  },
  {
   "cell_type": "code",
   "execution_count": 8,
   "metadata": {},
   "outputs": [],
   "source": [
    "class MFCC:\n",
    "    '''\n",
    "    This is the Mel-Frequency Cepstral Coefficients, MFCCs Transformation\n",
    "    including\n",
    "        1. Pre-emphasis\n",
    "        2. Framing\n",
    "        3. Hamming window\n",
    "        4. Short-time Fourier Transform\n",
    "        5. Mel triangular bandpass filters\n",
    "        6. Log energy\n",
    "        \n",
    "    not including\n",
    "        7. Discrete cosine transform\n",
    "        8. Delta cepstrum\n",
    "    '''\n",
    "    def __init__(self, alpha, frame_size, frame_stride, n_fft, n_filter, apply_delta=False):\n",
    "        '''\n",
    "        Args:\n",
    "            alpha: coefficient applied when applying pre-emphasis, usually between (0.95, 0.98)\n",
    "            frame_size: duration of one frame in second\n",
    "            frame_stride: stride duration of one frame in second\n",
    "            n_fft: decided number while applying Fast Fourier Transformation\n",
    "        '''\n",
    "        self.alpha = alpha\n",
    "        self.frame_size = frame_size\n",
    "        self.frame_stride = frame_stride\n",
    "        self.n_fft = n_fft\n",
    "        self.n_filter = n_filter\n",
    "        self.apply_delta = apply_delta\n",
    "        \n",
    "    def mfcc(self, samples, sample_rate):\n",
    "        samples_emphasized = self.pre_emphasis(samples)\n",
    "        frames, total_samples_in_frame = self.framing(samples_emphasized, sample_rate)\n",
    "        frames = self.hamming_window(frames, total_samples_in_frame)\n",
    "        power_spectrum = self.stft(frames)\n",
    "        fbank = self.filter_bank(power_spectrum, sample_rate)\n",
    "        energy = self.log_energy(fbank)\n",
    "        mfcc_features = np.column_stack((energy, fbank))\n",
    "        \n",
    "        if self.apply_delta:\n",
    "            mfcc_feat = mfcc_features.T\n",
    "            \n",
    "            d_mfcc_feat = self.delta(mfcc_feat, 2)\n",
    "            mfcc_features = np.concatenate((mfcc_feat.T, d_mfcc_feat.T), axis=1)\n",
    "\n",
    "            dd_mfcc_feat = self.delta(d_mfcc_feat, 2)\n",
    "            mfcc_features = np.concatenate((mfcc_features, dd_mfcc_feat.T), axis=1)\n",
    "\n",
    "        return mfcc_features\n",
    "    \n",
    "    def pre_emphasis(self, samples):\n",
    "        return np.append(samples[0], samples[1:] - self.alpha*samples[:-1])\n",
    "    \n",
    "    def framing(self, samples, sample_rate):\n",
    "        samples_in_frame = int(np.ceil(self.frame_size*sample_rate))                           # number of samples in one frame\n",
    "        sample_stride = int(np.ceil(self.frame_stride*sample_rate))                            # sample stride in each iteration\n",
    "        frame_num = int(np.ceil(\n",
    "            (len(samples) - samples_in_frame)/sample_stride) + 1)                              # number of iterations\n",
    "\n",
    "        padding_num = (frame_num-1)*sample_stride + samples_in_frame - len(samples)            # length for padding\n",
    "        padding = np.zeros(padding_num)                                                        # prepare the padding array\n",
    "        samples_padded = np.append(samples, padding)                                           # padded sample array\n",
    "\n",
    "        # index to pick all the overlapping samples\n",
    "        index_each_frame = np.arange(samples_in_frame)\n",
    "        index_each_stride = np.linspace(0, len(samples_padded) - samples_in_frame, frame_num).astype(np.int32)\n",
    "        index = np.tile(index_each_frame, reps=(frame_num, 1)) + np.tile(index_each_stride, reps=(samples_in_frame, 1)).T\n",
    "\n",
    "        return np.array([samples_padded[[i]] for i in index]), samples_in_frame                # frames is a 2D array\n",
    "    \n",
    "        \n",
    "    def hamming_window(self, frames, samples_in_frame):\n",
    "        # self.frames *= 0.54 - 0.46 * numpy.cos((2 * numpy.pi * n) / (self.total_samples_in_one_frame - 1))\n",
    "        frames *= np.hamming(samples_in_frame)\n",
    "        return frames\n",
    "        \n",
    "    def stft(self, frames):\n",
    "        magnitude = np.abs(np.fft.rfft(frames, n=self.n_fft))                                  # magnitude of the FFT\n",
    "        return (1.0/self.n_fft) * magnitude**2                                                 # power spectrum\n",
    "    \n",
    "    def filter_bank(self, frames, sample_rate):\n",
    "        low_freq_mel = 0\n",
    "        high_freq_mel = self.hz2mel(sample_rate/2)                                             # highest frequency of the Mel\n",
    "        mel_points = np.linspace(low_freq_mel, high_freq_mel, self.n_filter+2)                 # Equally spaced in Mel scale\n",
    "        bins = np.floor((self.n_fft+1) * self.mel2hz(mel_points) / sample_rate)                # bins for FFT\n",
    "        \n",
    "        fbank = np.zeros((self.n_filter, self.n_fft//2 + 1))\n",
    "        for j in range(self.n_filter):\n",
    "            for i in range(int(bins[j]), int(bins[j+1])):\n",
    "                fbank[j, i] = (i - bins[j]) / (bins[j+1] - bins[j])\n",
    "            for i in range(int(bins[j+1]), int(bins[j+2])):\n",
    "                fbank[j, i] = (bins[j+2] - i) / (bins[j+2] - bins[j+1])\n",
    "        \n",
    "        mel_fbanks = np.dot(frames, fbank.T)\n",
    "        mel_fbanks = np.where(mel_fbanks == 0, np.finfo(float).eps, mel_fbanks)\n",
    "        mel_fbanks = 20 * np.log10(mel_fbanks)                                                 # dB\n",
    "        \n",
    "        return mel_fbanks\n",
    "        \n",
    "    def log_energy(self, mel_fbanks):\n",
    "        return np.log(np.sum(mel_fbanks**2, axis=1))\n",
    "\n",
    "    def hz2mel(self, hz):\n",
    "        return 2595 * np.log10(1 + hz/700)  # Convert Hz to Mel\n",
    "    \n",
    "    def mel2hz(self, mel):\n",
    "        return 700 * (10**(mel/2595.0) - 1) # Convert Mel to Hz\n",
    "    \n",
    "    def delta(self, mfcc_features, neighbor_len=2):\n",
    "        denominator = 2 * sum([i**2 for i in np.arange(1, neighbor_len+1)])\n",
    "        delta_feat = np.empty_like(mfcc_features)\n",
    "        padded = np.pad(mfcc_features, ((neighbor_len, neighbor_len), (0, 0)), mode='edge') # padded version of feat\n",
    "        for t in range(len(mfcc_features)):\n",
    "            delta_feat[t] = np.dot(np.arange(-neighbor_len, neighbor_len+1), \n",
    "                                      padded[t : t+2*neighbor_len+1]) / denominator\n",
    "        return delta_feat"
   ]
  },
  {
   "cell_type": "code",
   "execution_count": 9,
   "metadata": {},
   "outputs": [],
   "source": [
    "class MFCCApplier:\n",
    "    '''\n",
    "    This is the MFCC applier for applying MFCC \n",
    "    and pad zeros for fitting the data into Encoder-Decoder Model with Attention\n",
    "    which we will build later\n",
    "    '''\n",
    "    def __init__(self, alpha, frame_size, frame_stride, n_fft, n_filter, apply_delta=False):\n",
    "        '''\n",
    "        Arg:\n",
    "            mfcc: build by MFCC class for transform inputs\n",
    "            decide_size: a 2^k number which will make the inputs reshape into X*decide_size\n",
    "                         which will help us build the pyramidal RNN encoder\n",
    "        '''\n",
    "        self.mfcc = MFCC(alpha=alpha, \n",
    "                         frame_size=frame_size, \n",
    "                         frame_stride=frame_stride, \n",
    "                         n_fft=n_fft, \n",
    "                         n_filter=n_filter, \n",
    "                         apply_delta=apply_delta)\n",
    "        \n",
    "        \n",
    "    def apply(self, inputs, sample_rate):\n",
    "        '''\n",
    "        Args:\n",
    "            inputs: wave data that one would like to process\n",
    "        '''\n",
    "        input_shape = inputs.shape\n",
    "        \n",
    "        sample = self.mfcc.mfcc(inputs[0, :], sample_rate)\n",
    "        sample_shape = sample.shape\n",
    "        \n",
    "        outputs = np.zeros(((input_shape[0], sample_shape[0], sample_shape[1])))\n",
    "        \n",
    "        for i in np.arange(input_shape[0]):\n",
    "            outputs[i, :, :] = self.mfcc.mfcc(inputs[i, :], sample_rate)\n",
    "            print(f\"Applying MFCC to {i+1}th case\", end=\"\\r\")\n",
    "            \n",
    "        print()\n",
    "        return outputs"
   ]
  },
  {
   "cell_type": "code",
   "execution_count": 10,
   "metadata": {},
   "outputs": [
    {
     "name": "stdout",
     "output_type": "stream",
     "text": [
      "Applying MFCC to 20000th case\n",
      "Simulated MFCC wave: (input size, time steps, MFCC dimension) (20000, 99, 39)\n"
     ]
    }
   ],
   "source": [
    "ALPHA = 0.95\n",
    "FRAME_SIZE = 0.025\n",
    "FRAME_STRIDE = 0.01\n",
    "N_FFT = 512\n",
    "N_FILTER = 12\n",
    "\n",
    "mfcc_applier = MFCCApplier(alpha=ALPHA, \n",
    "                           frame_size=FRAME_SIZE, \n",
    "                           frame_stride=FRAME_STRIDE, \n",
    "                           n_fft=N_FFT, \n",
    "                           n_filter=N_FILTER, \n",
    "                           apply_delta=True)\n",
    "\n",
    "mfcced_simu_wave = mfcc_applier.apply(simu_wave, sample_rate=SAMPLE_RATE)\n",
    "print(\"Simulated MFCC wave: (input size, time steps, MFCC dimension) {}\".format(mfcced_simu_wave.shape))"
   ]
  },
  {
   "cell_type": "code",
   "execution_count": 11,
   "metadata": {},
   "outputs": [],
   "source": [
    "def train_test_split(waves, labels, phonemes, train_size, random_seed=None):\n",
    "    total_wave_count = len(waves)\n",
    "    \n",
    "    # decide the training and validation size\n",
    "    if train_size < 1:\n",
    "        train_size = int(total_wave_count * train_size)\n",
    "    test_size = total_wave_count - train_size\n",
    "    \n",
    "    print(f\"Train Size: {train_size} Test Size: {test_size}\")\n",
    "    \n",
    "    # create a shuffled index for split training and validation\n",
    "    idx = np.arange(total_wave_count)\n",
    "    np.random.seed(seed=random_seed)\n",
    "    np.random.shuffle(idx)\n",
    "    \n",
    "    # assign memory to train dataset\n",
    "    train_wav = np.zeros(((train_size, waves.shape[1], waves.shape[2])))\n",
    "    train_lab = np.zeros(train_size, dtype=np.object)\n",
    "    train_pho = np.zeros((train_size, phonemes.shape[1]), dtype=np.int32)\n",
    "    \n",
    "    # assign memory to test dataset\n",
    "    test_wav = np.zeros(((test_size, waves.shape[1], waves.shape[2])))\n",
    "    test_lab = np.zeros(test_size, dtype=np.object)\n",
    "    test_pho = np.zeros((test_size, phonemes.shape[1]), dtype=np.int32)\n",
    "\n",
    "    # create dataset\n",
    "    train_count = 0\n",
    "    test_count = 0\n",
    "    IsTrain = True\n",
    "    print(\"Spliting Train-Test ... \", end=\"\")\n",
    "    for i in idx:\n",
    "        if IsTrain:\n",
    "            train_wav[train_count] = waves[i]\n",
    "            train_lab[train_count] = labels[i]\n",
    "            train_pho[train_count] = phonemes[i]\n",
    "        \n",
    "            train_count += 1            \n",
    "            if train_count == train_size:\n",
    "                IsTrain = False\n",
    "            continue\n",
    "        \n",
    "        test_wav[test_count] = waves[i]\n",
    "        test_lab[test_count] = labels[i]\n",
    "        test_pho[test_count] = phonemes[i]\n",
    "        \n",
    "        test_count += 1\n",
    "    \n",
    "    print(\"Done\")\n",
    "    \n",
    "    train_lab = np.array([lab for lab in train_lab])\n",
    "    test_lab = np.array([lab for lab in test_lab])\n",
    "    return (train_wav, train_lab, train_pho), (test_wav, test_lab, test_pho)"
   ]
  },
  {
   "cell_type": "code",
   "execution_count": 12,
   "metadata": {
    "scrolled": false
   },
   "outputs": [
    {
     "name": "stdout",
     "output_type": "stream",
     "text": [
      "Input Shape: (20000, 99, 39)\n",
      "Output Shape: (20000, 7)\n",
      "\n",
      "TOKEN\t--->\tWORDS\n",
      "=======================\n",
      "1\t--->\t<start>\n",
      "8\t--->\tf\n",
      "6\t--->\tay\n",
      "7\t--->\tv\n",
      "2\t--->\t<end>\n",
      "\n"
     ]
    }
   ],
   "source": [
    "phoneme_tensor, phoneme_tokenizer = preprocesser.tokenize(simu_phoneme)\n",
    "\n",
    "print(\"Input Shape: {}\".format(mfcced_simu_wave.shape))\n",
    "print(\"Output Shape: {}\".format(phoneme_tensor.shape))\n",
    "\n",
    "\n",
    "for tensor in phoneme_tensor[:1]:\n",
    "    preprocesser.show_convert(tensor, phoneme_tokenizer)\n",
    "    print()"
   ]
  },
  {
   "cell_type": "code",
   "execution_count": 13,
   "metadata": {},
   "outputs": [
    {
     "name": "stdout",
     "output_type": "stream",
     "text": [
      "Train Size: 19000 Test Size: 1000\n",
      "Spliting Train-Test ... Done\n",
      "\n",
      "Train Wave Tensor Shape: (19000, 99, 39)\n",
      "Train Label Tensor Shape: (19000, 1)\n",
      "Train Phoneme Tensor Shape: (19000, 7)\n"
     ]
    }
   ],
   "source": [
    "# Split the data into size (training set, testing set) (18000, 2000)\n",
    "TRAIN_SIZE = 0.95\n",
    "\n",
    "(wav_tensor, label_tensor, phoneme_tensor), (wav_tensor_val, label_tensor_val, phoneme_tensor_val) = train_test_split(\n",
    "    mfcced_simu_wave, simu_label, phoneme_tensor, train_size=TRAIN_SIZE, random_seed=777)\n",
    "\n",
    "print()\n",
    "print(f\"Train Wave Tensor Shape: {wav_tensor.shape}\")\n",
    "print(f\"Train Label Tensor Shape: {label_tensor.shape}\")\n",
    "print(f\"Train Phoneme Tensor Shape: {phoneme_tensor.shape}\")"
   ]
  },
  {
   "cell_type": "code",
   "execution_count": 14,
   "metadata": {},
   "outputs": [],
   "source": [
    "BATCH_SIZE = 4\n",
    "LSTM_UNITS = 256\n",
    "EMBEDDING_DIM = 128\n",
    "WAV_SIZE = len(wav_tensor)\n",
    "VAL_WAV_SIZE = len(wav_tensor_val)\n",
    "PHONEME_SIZE = len(phoneme_tokenizer.word_index) + 1\n",
    "STEP_PER_EPOCH = WAV_SIZE // BATCH_SIZE\n",
    "\n",
    "wav_tensor = tf.convert_to_tensor(wav_tensor, dtype=tf.float32)\n",
    "dataset = tf.data.Dataset.from_tensor_slices((wav_tensor, phoneme_tensor)).shuffle(WAV_SIZE)\n",
    "dataset = dataset.batch(BATCH_SIZE, drop_remainder=True)\n",
    "\n",
    "wav_tensor_val = tf.convert_to_tensor(wav_tensor_val, dtype=tf.float32)\n",
    "dataset_val = tf.data.Dataset.from_tensor_slices((wav_tensor_val, phoneme_tensor_val)).shuffle(VAL_WAV_SIZE)\n",
    "\n",
    "# avoid running out of memory\n",
    "simu_wave = None\n",
    "mfcced_simu_wave = None"
   ]
  },
  {
   "cell_type": "code",
   "execution_count": 15,
   "metadata": {
    "scrolled": true
   },
   "outputs": [
    {
     "name": "stdout",
     "output_type": "stream",
     "text": [
      "Example Input Shape: (4, 99, 39)\n",
      "Example Output Shape: (4, 7)\n"
     ]
    }
   ],
   "source": [
    "example_input_batch, example_target_batch = next(iter(dataset))\n",
    "print(f\"Example Input Shape: {example_input_batch.shape}\")\n",
    "print(f\"Example Output Shape: {example_target_batch.shape}\")"
   ]
  },
  {
   "cell_type": "code",
   "execution_count": 16,
   "metadata": {},
   "outputs": [],
   "source": [
    "class ResnetIdentityBlock(tf.keras.layers.Layer):\n",
    "    def __init__(self, kernel_size, filters):\n",
    "        super(ResnetIdentityBlock, self).__init__()\n",
    "        self.filters1, self.filters2, self.filters3 = filters\n",
    "\n",
    "        self.conv1 = tf.keras.layers.Conv1D(self.filters1, 1, padding='valid')\n",
    "        self.bn1 = tf.keras.layers.BatchNormalization()\n",
    "\n",
    "        self.conv2 = tf.keras.layers.Conv1D(self.filters2, kernel_size, padding='same')\n",
    "        self.bn2 = tf.keras.layers.BatchNormalization()\n",
    "\n",
    "        self.conv3 = tf.keras.layers.Conv1D(self.filters3, 1, padding='valid')\n",
    "        self.bn3 = tf.keras.layers.BatchNormalization()\n",
    "\n",
    "    def call(self, input_tensor, training=False):\n",
    "        x = self.conv1(input_tensor)\n",
    "        x = self.bn1(x, training=training)\n",
    "        x = tf.nn.relu(x)\n",
    "\n",
    "        x = self.conv2(x)\n",
    "        x = self.bn2(x, training=training)\n",
    "        x = tf.nn.relu(x)\n",
    "\n",
    "        x = self.conv3(x)\n",
    "        x = self.bn3(x, training=training)\n",
    "\n",
    "        x += input_tensor\n",
    "        return tf.nn.relu(x)"
   ]
  },
  {
   "cell_type": "code",
   "execution_count": 17,
   "metadata": {},
   "outputs": [
    {
     "name": "stdout",
     "output_type": "stream",
     "text": [
      "Attention result shape: (batch size, units) (4, 99, 39)\n"
     ]
    }
   ],
   "source": [
    "resnet_block = ResnetIdentityBlock(32, [1, 2, example_input_batch.shape[-1]])\n",
    "resnet_output = resnet_block(example_input_batch)\n",
    "\n",
    "print(\"Attention result shape: (batch size, units) {}\".format(resnet_output.shape))"
   ]
  },
  {
   "cell_type": "code",
   "execution_count": 18,
   "metadata": {},
   "outputs": [],
   "source": [
    "# resnet_block.summary()"
   ]
  },
  {
   "cell_type": "code",
   "execution_count": 19,
   "metadata": {},
   "outputs": [],
   "source": [
    "class Encoder(tf.keras.Model):\n",
    "    '''\n",
    "    Encoder for MFCC transformed wave data\n",
    "    '''\n",
    "    def __init__(self, \n",
    "                 lstm_units, \n",
    "                 batch_sz, \n",
    "                 dropout_rate, \n",
    "                 units,\n",
    "                 squeeze_time):\n",
    "        '''\n",
    "        Args:\n",
    "            lstm_units: LSTM units number\n",
    "            batch_sz: batch size            \n",
    "            dropout_rate: layer dropout ratio\n",
    "            rnn_initial_weight: type of weight initialization\n",
    "        '''\n",
    "        super(Encoder, self).__init__()\n",
    "        self.lstm_units = lstm_units    \n",
    "        self.squeeze_time = squeeze_time\n",
    "        \n",
    "        # conv1d\n",
    "        self.feat_extract = tf.keras.layers.Dense(units=units, activation=\"relu\")\n",
    "        self.feat_dropout = tf.keras.layers.Dropout(dropout_rate)\n",
    "        \n",
    "        # ResNet\n",
    "        self.resnet1 = ResnetIdentityBlock(kernel_size=11, filters=[units, units, units])\n",
    "        \n",
    "        units *= squeeze_time\n",
    "        self.resnet2 = ResnetIdentityBlock(kernel_size=7, filters=[units, units, units])\n",
    "        \n",
    "        units *= squeeze_time\n",
    "        self.resnet3 = ResnetIdentityBlock(kernel_size=3, filters=[units, units, units])\n",
    "        \n",
    "        # Encoder lstm\n",
    "        self.enc_lstm = tf.keras.layers.LSTM(units=lstm_units, \n",
    "                                             return_sequences=True, \n",
    "                                             return_state=True, \n",
    "                                             kernel_initializer=\"lecun_normal\",\n",
    "                                             activation='tanh', \n",
    "                                             recurrent_activation='sigmoid', \n",
    "                                             recurrent_initializer='orthogonal', \n",
    "                                             dropout=dropout_rate)\n",
    "\n",
    "    def call(self, inputs):\n",
    "        '''\n",
    "        call pyramidal LSTM neural network encoder\n",
    "        \n",
    "        Args:\n",
    "            inputs: wave input\n",
    "        '''\n",
    "        x = self.feat_extract(inputs)\n",
    "        x = self.feat_dropout(x)\n",
    "\n",
    "        # ResNet\n",
    "        x = self.resnet1(x)\n",
    "        x = self.reshape_pyramidal(x)\n",
    "        \n",
    "        x = self.resnet2(x)\n",
    "        x = self.reshape_pyramidal(x)\n",
    "        \n",
    "        x = self.resnet3(x)\n",
    "        \n",
    "        # encoder output layer\n",
    "        fw_outputs, fw_state_h, fw_state_c = self.enc_lstm(x)\n",
    "            \n",
    "        return fw_outputs, fw_state_h, fw_state_c\n",
    "    \n",
    "    def reshape_pyramidal(self, outputs):\n",
    "        '''\n",
    "        After concatenating forward and backward outputs\n",
    "        return the reshaped output\n",
    "        \n",
    "        Args:\n",
    "            outputs: outputs from LSTM\n",
    "            squeeze_time: time step one would like to squeeze in pyramidal LSTM\n",
    "        '''\n",
    "        batch_size, time_steps, num_units = outputs.shape\n",
    "\n",
    "        return tf.reshape(outputs, (batch_size, -1, num_units * self.squeeze_time))    "
   ]
  },
  {
   "cell_type": "code",
   "execution_count": 20,
   "metadata": {},
   "outputs": [
    {
     "name": "stdout",
     "output_type": "stream",
     "text": [
      "Encoder output shape: (batch size, sequence length, units) (4, 11, 256)\n",
      "Encoder forward state h shape: (batch size, units) (4, 256)\n"
     ]
    }
   ],
   "source": [
    "ENCODER_DROPOUT_RATE = 0.2\n",
    "encoder = Encoder(lstm_units=LSTM_UNITS, \n",
    "                  batch_sz=BATCH_SIZE, \n",
    "                  dropout_rate=ENCODER_DROPOUT_RATE, \n",
    "                  squeeze_time=3, \n",
    "                  units=64)\n",
    "\n",
    "# If set the batch size greater than 4, memory of GPU will run out\n",
    "sample_output, fw_sample_state_h, fw_sample_state_c = encoder(example_input_batch)\n",
    "# sample_output, sample_state = encoder(example_input_batch)\n",
    "\n",
    "print ('Encoder output shape: (batch size, sequence length, units) {}'.format(sample_output.shape))\n",
    "print ('Encoder forward state h shape: (batch size, units) {}'.format(fw_sample_state_h.shape))"
   ]
  },
  {
   "cell_type": "code",
   "execution_count": 21,
   "metadata": {},
   "outputs": [
    {
     "name": "stdout",
     "output_type": "stream",
     "text": [
      "Model: \"encoder\"\n",
      "_________________________________________________________________\n",
      "Layer (type)                 Output Shape              Param #   \n",
      "=================================================================\n",
      "dense (Dense)                multiple                  2560      \n",
      "_________________________________________________________________\n",
      "dropout (Dropout)            multiple                  0         \n",
      "_________________________________________________________________\n",
      "resnet_identity_block_1 (Res multiple                  54208     \n",
      "_________________________________________________________________\n",
      "resnet_identity_block_2 (Res multiple                  334656    \n",
      "_________________________________________________________________\n",
      "resnet_identity_block_3 (Res multiple                  1667520   \n",
      "_________________________________________________________________\n",
      "lstm (LSTM)                  multiple                  852992    \n",
      "=================================================================\n",
      "Total params: 2,911,936\n",
      "Trainable params: 2,906,944\n",
      "Non-trainable params: 4,992\n",
      "_________________________________________________________________\n"
     ]
    }
   ],
   "source": [
    "encoder.summary()"
   ]
  },
  {
   "cell_type": "code",
   "execution_count": 22,
   "metadata": {},
   "outputs": [],
   "source": [
    "class LuongAttention(tf.keras.layers.Layer):\n",
    "    def __init__(self, units):\n",
    "        super(LuongAttention, self).__init__()\n",
    "        self.W1 = tf.keras.layers.Dense(units, activation=\"relu\")\n",
    "        self.W2 = tf.keras.layers.Dense(units, activation=\"relu\")\n",
    "        self.V = tf.keras.layers.Dense(1, activation=\"relu\")\n",
    "\n",
    "    def call(self, query, values):\n",
    "        # query hidden state shape == (batch_size, hidden size)\n",
    "        # query_with_time_axis shape == (batch_size, 1, hidden size)\n",
    "        # values shape == (batch_size, max_len, hidden size)\n",
    "        # we are doing this to broadcast addition along the time axis to calculate the score\n",
    "        query_with_time_axis = tf.expand_dims(query, 1)\n",
    "\n",
    "        # score shape == (batch_size, max_length, 1)\n",
    "        # we get 1 at the last axis because we are applying score to self.V\n",
    "        # the shape of the tensor before applying self.V is (batch_size, max_length, units)\n",
    "        score = self.V(tf.nn.tanh(\n",
    "            self.W1(query_with_time_axis) + self.W2(values)))\n",
    "\n",
    "        # attention_weights shape == (batch_size, max_length, 1)\n",
    "        attention_weights = tf.nn.softmax(score, axis=1)\n",
    "\n",
    "        # context_vector shape after sum == (batch_size, hidden_size)\n",
    "        context_vector = attention_weights * values\n",
    "        context_vector = tf.reduce_sum(context_vector, axis=1)\n",
    "\n",
    "        return context_vector, attention_weights"
   ]
  },
  {
   "cell_type": "code",
   "execution_count": 23,
   "metadata": {},
   "outputs": [
    {
     "name": "stdout",
     "output_type": "stream",
     "text": [
      "Attention result shape: (batch size, units) (4, 256)\n",
      "Attention weights shape: (batch_size, sequence_length, 1) (4, 11, 1)\n"
     ]
    }
   ],
   "source": [
    "attention_layer = LuongAttention(10)\n",
    "attention_result, attention_weights = attention_layer(fw_sample_state_h, sample_output)\n",
    "\n",
    "print(\"Attention result shape: (batch size, units) {}\".format(attention_result.shape))\n",
    "print(\"Attention weights shape: (batch_size, sequence_length, 1) {}\".format(attention_weights.shape))"
   ]
  },
  {
   "cell_type": "code",
   "execution_count": 24,
   "metadata": {},
   "outputs": [],
   "source": [
    "class Decoder(tf.keras.Model):\n",
    "    '''\n",
    "    Decoder for output phonemes\n",
    "    '''\n",
    "    def __init__(self, \n",
    "                 target_sz, \n",
    "                 embedding_dim, \n",
    "                 lstm_units, \n",
    "                 batch_sz, \n",
    "                 dropout_rate):\n",
    "        '''\n",
    "        Args:\n",
    "            target_sz: target size, total phoneme size in this case\n",
    "            embedding_dim: embedding dimension\n",
    "            lstm_units: LSTM units number\n",
    "            batch_sz: batch size\n",
    "            dropout_rate: dropout ratio\n",
    "            rnn_initial_weight: type of weight initialization\n",
    "        '''\n",
    "        super(Decoder, self).__init__()\n",
    "        self.batch_sz = batch_sz\n",
    "        self.target_sz = target_sz\n",
    "        self.lstm_units = lstm_units\n",
    "        self.embedding = tf.keras.layers.Embedding(target_sz, embedding_dim)\n",
    "        \n",
    "        # attention model\n",
    "        self.attention = LuongAttention(lstm_units)\n",
    "        \n",
    "        # decoder rnn            \n",
    "        self.lstm1 = tf.keras.layers.LSTM(units=lstm_units, \n",
    "                                          return_sequences=True, \n",
    "                                          return_state=True, \n",
    "                                          kernel_initializer=\"lecun_normal\",\n",
    "                                          activation='tanh',\n",
    "                                          recurrent_activation='sigmoid', \n",
    "                                          recurrent_initializer='orthogonal', \n",
    "                                          dropout=dropout_rate)\n",
    "    \n",
    "        # Fully-connected\n",
    "        self.fc1 = tf.keras.layers.Dense(64, activation=\"relu\")\n",
    "        self.fc1_dropout = tf.keras.layers.Dropout(dropout_rate)\n",
    "        \n",
    "        self.fc2 = tf.keras.layers.Dense(target_sz, activation=\"softmax\")\n",
    "        \n",
    "        # build layer info dictionary\n",
    "        self.layer_info = dict()\n",
    "\n",
    "\n",
    "    def call(self, inputs, enc_hidden_h, enc_hidden_c, enc_output):\n",
    "        '''\n",
    "        call LSTM decoder\n",
    "        \n",
    "        Args:\n",
    "            inputs: target output, following phoneme for wave data input in this case\n",
    "            enc_hidden_h: encoder hidden state h\n",
    "            enc_hidden_c: encoder hidden state c\n",
    "            enc_output: encoder outputs\n",
    "        '''\n",
    "        # x shape after passing through embedding == (batch_size, 1, embedding_dim)\n",
    "        x = self.embedding(inputs)\n",
    "\n",
    "        # enc_output shape == (batch_size, max_length, hidden_size)\n",
    "        context_vector, attention_weights = self.attention(enc_hidden_h, enc_output)\n",
    "        \n",
    "        # x shape after concatenation == (batch_size, 1, embedding_dim + hidden_size)\n",
    "        x = tf.concat([tf.expand_dims(context_vector, 1), x], axis=-1)\n",
    "\n",
    "        # passing the concatenated vector to the 2-layer LSTM (Decoder)\n",
    "        x, state_h, state_c = self.lstm1(x)\n",
    "\n",
    "        # dense layer before final predict output dense layer\n",
    "        x = tf.reshape(x, (-1, x.shape[-1]))\n",
    "        x = self.fc1(x)\n",
    "        x = self.fc1_dropout(x)\n",
    "        \n",
    "        # output shape == (batch_size, phoneme size)\n",
    "        x = self.fc2(x)\n",
    "\n",
    "        return x, (state_h, state_c), attention_weights"
   ]
  },
  {
   "cell_type": "code",
   "execution_count": 25,
   "metadata": {
    "scrolled": false
   },
   "outputs": [
    {
     "name": "stdout",
     "output_type": "stream",
     "text": [
      "Decoder output shape: (batch_size, phoneme size) (4, 22)\n"
     ]
    }
   ],
   "source": [
    "DECODER_DROPOUT_RATE = 0.2\n",
    "decoder = Decoder(target_sz=PHONEME_SIZE, \n",
    "                  embedding_dim=EMBEDDING_DIM, \n",
    "                  lstm_units=LSTM_UNITS, \n",
    "                  batch_sz=BATCH_SIZE, \n",
    "                  dropout_rate=DECODER_DROPOUT_RATE)\n",
    "\n",
    "sample_target_size = tf.random.uniform((BATCH_SIZE, 1))\n",
    "sample_decoder_output, sample_decoder_hidden, attention_weights = decoder(\n",
    "    inputs=sample_target_size, \n",
    "    enc_hidden_h=fw_sample_state_h, \n",
    "    enc_hidden_c=fw_sample_state_c, \n",
    "    enc_output=sample_output)\n",
    "\n",
    "print ('Decoder output shape: (batch_size, phoneme size) {}'.format(sample_decoder_output.shape))"
   ]
  },
  {
   "cell_type": "code",
   "execution_count": 26,
   "metadata": {},
   "outputs": [
    {
     "name": "stdout",
     "output_type": "stream",
     "text": [
      "Model: \"decoder\"\n",
      "_________________________________________________________________\n",
      "Layer (type)                 Output Shape              Param #   \n",
      "=================================================================\n",
      "embedding (Embedding)        multiple                  2816      \n",
      "_________________________________________________________________\n",
      "luong_attention_1 (LuongAtte multiple                  131841    \n",
      "_________________________________________________________________\n",
      "lstm_1 (LSTM)                multiple                  656384    \n",
      "_________________________________________________________________\n",
      "dense_7 (Dense)              multiple                  16448     \n",
      "_________________________________________________________________\n",
      "dropout_1 (Dropout)          multiple                  0         \n",
      "_________________________________________________________________\n",
      "dense_8 (Dense)              multiple                  1430      \n",
      "=================================================================\n",
      "Total params: 808,919\n",
      "Trainable params: 808,919\n",
      "Non-trainable params: 0\n",
      "_________________________________________________________________\n"
     ]
    }
   ],
   "source": [
    "decoder.summary()"
   ]
  },
  {
   "cell_type": "code",
   "execution_count": 27,
   "metadata": {},
   "outputs": [],
   "source": [
    "# adjust learning rate\n",
    "LEARNING_RATE = 0.0001\n",
    "\n",
    "'''\n",
    "Candidate optimizer:\n",
    "    1. Adam\n",
    "    2. Nadam\n",
    "    \n",
    "    the preformence of other optimizers are not good\n",
    "'''\n",
    "optimizer = tf.keras.optimizers.Adam(learning_rate=LEARNING_RATE)\n",
    "loss_object = tf.keras.losses.SparseCategoricalCrossentropy(from_logits=False, \n",
    "                                                            reduction='none')\n",
    "\n",
    "def loss_function(real, pred):\n",
    "    mask = tf.math.logical_not(tf.math.equal(real, 0))\n",
    "    loss_ = loss_object(real, pred)\n",
    "\n",
    "    mask = tf.cast(mask, dtype=loss_.dtype)\n",
    "    loss_ *= mask\n",
    "\n",
    "    return tf.math.reduce_mean(loss_)\n",
    "\n",
    "def accuracy_function(real, pred):\n",
    "    if tf.is_tensor(real):\n",
    "        real = real.numpy()\n",
    "        \n",
    "    if tf.is_tensor(pred):\n",
    "        pred = pred.numpy()\n",
    "        \n",
    "    if np.isscalar(real):\n",
    "        if real == pred:\n",
    "            return 1\n",
    "        else:\n",
    "            return 0\n",
    "    \n",
    "    length = len(real)\n",
    "    count_ = 0\n",
    "    for i in range(length):\n",
    "        if real[i] == pred[i]:\n",
    "            count_ += 1\n",
    "\n",
    "    return tf.math.reduce_sum(count_) / length"
   ]
  },
  {
   "cell_type": "code",
   "execution_count": 28,
   "metadata": {},
   "outputs": [],
   "source": [
    "encoder = Encoder(lstm_units=LSTM_UNITS, \n",
    "                  batch_sz=BATCH_SIZE, \n",
    "                  dropout_rate=ENCODER_DROPOUT_RATE, \n",
    "                  squeeze_time=3, \n",
    "                  units=64)\n",
    "\n",
    "decoder = Decoder(target_sz=PHONEME_SIZE, \n",
    "                  embedding_dim=EMBEDDING_DIM, \n",
    "                  lstm_units=LSTM_UNITS, \n",
    "                  batch_sz=BATCH_SIZE, \n",
    "                  dropout_rate=DECODER_DROPOUT_RATE)"
   ]
  },
  {
   "cell_type": "code",
   "execution_count": 29,
   "metadata": {},
   "outputs": [],
   "source": [
    "checkpoint_dir = './training_checkpoints/ResNet_LSTM'\n",
    "checkpoint_prefix = os.path.join(checkpoint_dir, \"ckpt\")\n",
    "checkpoint = tf.train.Checkpoint(optimizer=optimizer,\n",
    "                                 encoder=encoder,\n",
    "                                 decoder=decoder)"
   ]
  },
  {
   "cell_type": "code",
   "execution_count": 30,
   "metadata": {},
   "outputs": [],
   "source": [
    "@tf.function\n",
    "def train_step(inp, targ, targ_tokenizer):\n",
    "    loss = 0\n",
    "    acc = 0\n",
    "    \n",
    "    with tf.GradientTape() as tape:\n",
    "        # forward algorithm\n",
    "        enc_output, enc_hidden_h, enc_hidden_c = encoder(inp)\n",
    "        dec_hidden_h, dec_hidden_c = enc_hidden_h, enc_hidden_c\n",
    "        dec_input = tf.expand_dims([targ_tokenizer.word_index['<start>']] * BATCH_SIZE, 1)\n",
    "\n",
    "        # Teacher forcing - feeding the target as the next input\n",
    "        for t in range(1, targ.shape[1]):\n",
    "            # passing enc_output to the decoder\n",
    "            predictions, (dec_hidden_h, dec_hidden_c), _ = decoder(dec_input, dec_hidden_h, dec_hidden_c, enc_output)\n",
    "            \n",
    "            target_id = targ[:, t]\n",
    "            loss += loss_function(target_id, predictions)\n",
    "            \n",
    "            predicted_id = tf.math.argmax(predictions, axis=1)\n",
    "            acc += accuracy_function(target_id, predicted_id)\n",
    "\n",
    "            # using teacher forcing\n",
    "            dec_input = tf.expand_dims(targ[:, t], 1)\n",
    "    \n",
    "    # backward algorithm\n",
    "    variables = encoder.trainable_variables + decoder.trainable_variables\n",
    "    gradients = tape.gradient(loss, variables)\n",
    "    optimizer.apply_gradients(zip(gradients, variables))\n",
    "#     clipped_gradients, _ = tf.clip_by_global_norm(gradients, 5)  # clipping for avoiding gradient explosion\n",
    "#     optimizer.apply_gradients(zip(clipped_gradients, variables))\n",
    "\n",
    "    batch_loss = (loss / int(targ.shape[1]))\n",
    "    batch_accuracy = (acc / int(targ.shape[1]))\n",
    "\n",
    "    return batch_loss, batch_accuracy"
   ]
  },
  {
   "cell_type": "code",
   "execution_count": 31,
   "metadata": {},
   "outputs": [],
   "source": [
    "def validate_step(inp, targ, targ_tokenizer):\n",
    "    loss = 0\n",
    "    acc = 0\n",
    "\n",
    "    inp = tf.expand_dims(inp, 0)\n",
    "    enc_output, enc_hidden_h, enc_hidden_c = encoder(inp)\n",
    "    dec_hidden_h, dec_hidden_c = enc_hidden_h, enc_hidden_c\n",
    "    dec_input = tf.expand_dims([targ_tokenizer.word_index['<start>']], 1)\n",
    "\n",
    "    for t in range(1, targ.shape[0]):\n",
    "        predictions, (dec_hidden_h, dec_hidden_c), _ = decoder(dec_input, dec_hidden_h, dec_hidden_c, enc_output)\n",
    "        \n",
    "        target_id = targ[t]\n",
    "        loss += loss_function(target_id, predictions)\n",
    "\n",
    "        predicted_id = tf.argmax(predictions[0]).numpy()\n",
    "        acc += accuracy_function(target_id, predicted_id)\n",
    "        \n",
    "        if targ_tokenizer.index_word[predicted_id] == '<end>':\n",
    "            return loss / int(targ.shape[0]), acc / int(targ.shape[0])\n",
    "        \n",
    "        dec_input = tf.expand_dims([predicted_id], 0)\n",
    "        \n",
    "    return loss / int(targ.shape[0]), acc / int(targ.shape[0])"
   ]
  },
  {
   "cell_type": "code",
   "execution_count": 32,
   "metadata": {
    "scrolled": false
   },
   "outputs": [
    {
     "name": "stdout",
     "output_type": "stream",
     "text": [
      "Epoch: 1/20  Batch: 1000  Loss: 0.5983  Accuracy: 0.5000  Time: 179s\n",
      "Epoch: 1/20  Batch: 2000  Loss: 0.4587  Accuracy: 0.3929  Time: 351s\n",
      "Epoch: 1/20  Batch: 3000  Loss: 0.5498  Accuracy: 0.3214  Time: 532s\n",
      "Epoch: 1/20  Batch: 4000  Loss: 0.3282  Accuracy: 0.4286  Time: 714s\n",
      "Epoch: 1/20  Batch: 4750  Loss: 0.1952  Accuracy: 0.5714  Time: 850s\n",
      "\n",
      "================================\n",
      "Epoch 1/20\n",
      "Accuracy: 0.3954  Loss: 0.5666  val_acc: 0.3234  val_loss: 1.2295\n",
      "Time taken for epoch 1: 15.45 min\n",
      "Total Time taken: 15.45 min\n",
      "================================\n",
      "\n",
      "Epoch: 2/20  Batch: 1000  Loss: 0.2066  Accuracy: 0.5357  Time: 176s\n",
      "Epoch: 2/20  Batch: 2000  Loss: 0.3743  Accuracy: 0.5357  Time: 353s\n",
      "Epoch: 2/20  Batch: 3000  Loss: 0.4051  Accuracy: 0.4643  Time: 534s\n",
      "Epoch: 2/20  Batch: 4000  Loss: 0.1251  Accuracy: 0.5357  Time: 709s\n",
      "Epoch: 2/20  Batch: 4750  Loss: 0.1313  Accuracy: 0.5357  Time: 841s\n",
      "\n",
      "================================\n",
      "Epoch 2/20\n",
      "Accuracy: 0.5146  Loss: 0.2127  val_acc: 0.4269  val_loss: 0.6737\n",
      "Time taken for epoch 2: 15.25 min\n",
      "Total Time taken: 30.70 min\n",
      "================================\n",
      "\n",
      "Epoch: 3/20  Batch: 1000  Loss: 0.1770  Accuracy: 0.6071  Time: 179s\n",
      "Epoch: 3/20  Batch: 2000  Loss: 0.0274  Accuracy: 0.6071  Time: 362s\n",
      "Epoch: 3/20  Batch: 3000  Loss: 0.2529  Accuracy: 0.5000  Time: 536s\n",
      "Epoch: 3/20  Batch: 4000  Loss: 0.0995  Accuracy: 0.5357  Time: 708s\n",
      "Epoch: 3/20  Batch: 4750  Loss: 0.0530  Accuracy: 0.6071  Time: 838s\n",
      "\n",
      "================================\n",
      "Epoch 3/20\n",
      "Accuracy: 0.5399  Loss: 0.1397  val_acc: 0.4701  val_loss: 0.5941\n",
      "Time taken for epoch 3: 15.19 min\n",
      "Total Time taken: 45.89 min\n",
      "================================\n",
      "\n",
      "Epoch: 4/20  Batch: 1000  Loss: 0.1432  Accuracy: 0.5357  Time: 172s\n",
      "Epoch: 4/20  Batch: 2000  Loss: 0.0896  Accuracy: 0.4643  Time: 344s\n",
      "Epoch: 4/20  Batch: 3000  Loss: 0.0236  Accuracy: 0.5000  Time: 516s\n",
      "Epoch: 4/20  Batch: 4000  Loss: 0.1596  Accuracy: 0.5000  Time: 687s\n",
      "Epoch: 4/20  Batch: 4750  Loss: 0.0195  Accuracy: 0.5357  Time: 815s\n",
      "\n",
      "================================\n",
      "Epoch 4/20\n",
      "Accuracy: 0.5596  Loss: 0.0966  val_acc: 0.5061  val_loss: 0.4629\n",
      "Time taken for epoch 4: 14.80 min\n",
      "Total Time taken: 60.69 min\n",
      "================================\n",
      "\n",
      "Epoch: 5/20  Batch: 1000  Loss: 0.3191  Accuracy: 0.4286  Time: 172s\n",
      "Epoch: 5/20  Batch: 2000  Loss: 0.0205  Accuracy: 0.5714  Time: 355s\n",
      "Epoch: 5/20  Batch: 3000  Loss: 0.0591  Accuracy: 0.5357  Time: 527s\n",
      "Epoch: 5/20  Batch: 4000  Loss: 0.1054  Accuracy: 0.5357  Time: 703s\n",
      "Epoch: 5/20  Batch: 4750  Loss: 0.1122  Accuracy: 0.5357  Time: 839s\n",
      "\n",
      "================================\n",
      "Epoch 5/20\n",
      "Accuracy: 0.5685  Loss: 0.0720  val_acc: 0.5270  val_loss: 0.3013\n",
      "Time taken for epoch 5: 15.22 min\n",
      "Total Time taken: 75.91 min\n",
      "================================\n",
      "\n",
      "Epoch: 6/20  Batch: 1000  Loss: 0.0537  Accuracy: 0.5714  Time: 177s\n",
      "Epoch: 6/20  Batch: 2000  Loss: 0.1193  Accuracy: 0.4643  Time: 352s\n",
      "Epoch: 6/20  Batch: 3000  Loss: 0.0061  Accuracy: 0.5000  Time: 525s\n",
      "Epoch: 6/20  Batch: 4000  Loss: 0.0064  Accuracy: 0.5357  Time: 701s\n",
      "Epoch: 6/20  Batch: 4750  Loss: 0.0567  Accuracy: 0.5357  Time: 835s\n",
      "\n",
      "================================\n",
      "Epoch 6/20\n",
      "Accuracy: 0.5719  Loss: 0.0616  val_acc: 0.5211  val_loss: 0.4878\n",
      "Time taken for epoch 6: 15.24 min\n",
      "Total Time taken: 91.15 min\n",
      "================================\n",
      "\n",
      "Epoch: 7/20  Batch: 1000  Loss: 0.0021  Accuracy: 0.5357  Time: 179s\n",
      "Epoch: 7/20  Batch: 2000  Loss: 0.0025  Accuracy: 0.5714  Time: 353s\n",
      "Epoch: 7/20  Batch: 3000  Loss: 0.3235  Accuracy: 0.5000  Time: 528s\n",
      "Epoch: 7/20  Batch: 4000  Loss: 0.0047  Accuracy: 0.5714  Time: 702s\n",
      "Epoch: 7/20  Batch: 4750  Loss: 0.0092  Accuracy: 0.5714  Time: 833s\n",
      "\n",
      "================================\n",
      "Epoch 7/20\n",
      "Accuracy: 0.5740  Loss: 0.0549  val_acc: 0.5317  val_loss: 0.3296\n",
      "Time taken for epoch 7: 15.13 min\n",
      "Total Time taken: 106.29 min\n",
      "================================\n",
      "\n",
      "Epoch: 8/20  Batch: 1000  Loss: 0.0010  Accuracy: 0.5357  Time: 177s\n",
      "Epoch: 8/20  Batch: 2000  Loss: 0.0265  Accuracy: 0.5714  Time: 352s\n",
      "Epoch: 8/20  Batch: 3000  Loss: 0.0007  Accuracy: 0.7143  Time: 546s\n",
      "Epoch: 8/20  Batch: 4000  Loss: 0.1794  Accuracy: 0.7143  Time: 717s\n",
      "Epoch: 8/20  Batch: 4750  Loss: 0.0013  Accuracy: 0.6429  Time: 847s\n",
      "\n",
      "================================\n",
      "Epoch 8/20\n",
      "Accuracy: 0.5751  Loss: 0.0509  val_acc: 0.5294  val_loss: 0.2722\n",
      "Time taken for epoch 8: 15.36 min\n",
      "Total Time taken: 121.64 min\n",
      "================================\n",
      "\n",
      "Epoch: 9/20  Batch: 1000  Loss: 0.1076  Accuracy: 0.5000  Time: 178s\n",
      "Epoch: 9/20  Batch: 2000  Loss: 0.0541  Accuracy: 0.6071  Time: 362s\n",
      "Epoch: 9/20  Batch: 3000  Loss: 0.0054  Accuracy: 0.5714  Time: 543s\n",
      "Epoch: 9/20  Batch: 4000  Loss: 0.0618  Accuracy: 0.5357  Time: 723s\n",
      "Epoch: 9/20  Batch: 4750  Loss: 0.0509  Accuracy: 0.5000  Time: 854s\n",
      "\n",
      "================================\n",
      "Epoch 9/20\n",
      "Accuracy: 0.5765  Loss: 0.0467  val_acc: 0.5397  val_loss: 0.1828\n",
      "Time taken for epoch 9: 15.47 min\n",
      "Total Time taken: 137.11 min\n",
      "================================\n",
      "\n",
      "Epoch: 10/20  Batch: 1000  Loss: 0.0005  Accuracy: 0.6429  Time: 180s\n",
      "Epoch: 10/20  Batch: 2000  Loss: 0.0016  Accuracy: 0.6429  Time: 363s\n",
      "Epoch: 10/20  Batch: 3000  Loss: 0.0017  Accuracy: 0.6071  Time: 545s\n",
      "Epoch: 10/20  Batch: 4000  Loss: 0.0003  Accuracy: 0.5714  Time: 722s\n",
      "Epoch: 10/20  Batch: 4750  Loss: 0.0004  Accuracy: 0.7143  Time: 854s\n",
      "\n",
      "================================\n",
      "Epoch 10/20\n",
      "Accuracy: 0.5770  Loss: 0.0452  val_acc: 0.5336  val_loss: 0.2192\n",
      "Time taken for epoch 10: 15.51 min\n",
      "Total Time taken: 152.62 min\n",
      "================================\n",
      "\n",
      "Epoch: 11/20  Batch: 1000  Loss: 0.0343  Accuracy: 0.5357  Time: 178s\n",
      "Epoch: 11/20  Batch: 2000  Loss: 0.0008  Accuracy: 0.5714  Time: 355s\n",
      "Epoch: 11/20  Batch: 3000  Loss: 0.0003  Accuracy: 0.6786  Time: 534s\n",
      "Epoch: 11/20  Batch: 4000  Loss: 0.0522  Accuracy: 0.6429  Time: 709s\n",
      "Epoch: 11/20  Batch: 4750  Loss: 0.0003  Accuracy: 0.6071  Time: 844s\n",
      "\n",
      "================================\n",
      "Epoch 11/20\n",
      "Accuracy: 0.5776  Loss: 0.0432  val_acc: 0.5356  val_loss: 0.3197\n",
      "Time taken for epoch 11: 15.34 min\n",
      "Total Time taken: 167.96 min\n",
      "================================\n",
      "\n",
      "Epoch: 12/20  Batch: 1000  Loss: 0.0004  Accuracy: 0.6786  Time: 178s\n",
      "Epoch: 12/20  Batch: 2000  Loss: 0.0022  Accuracy: 0.5714  Time: 353s\n",
      "Epoch: 12/20  Batch: 3000  Loss: 0.0008  Accuracy: 0.5714  Time: 535s\n",
      "Epoch: 12/20  Batch: 4000  Loss: 0.0540  Accuracy: 0.6071  Time: 726s\n",
      "Epoch: 12/20  Batch: 4750  Loss: 0.0005  Accuracy: 0.7143  Time: 866s\n",
      "\n",
      "================================\n",
      "Epoch 12/20\n",
      "Accuracy: 0.5774  Loss: 0.0429  val_acc: 0.5340  val_loss: 0.2422\n",
      "Time taken for epoch 12: 15.77 min\n",
      "Total Time taken: 183.73 min\n",
      "================================\n",
      "\n",
      "Epoch: 13/20  Batch: 1000  Loss: 0.0498  Accuracy: 0.5714  Time: 198s\n",
      "Epoch: 13/20  Batch: 2000  Loss: 0.0453  Accuracy: 0.5357  Time: 390s\n",
      "Epoch: 13/20  Batch: 3000  Loss: 0.0529  Accuracy: 0.6429  Time: 577s\n",
      "Epoch: 13/20  Batch: 4000  Loss: 0.1689  Accuracy: 0.6071  Time: 761s\n",
      "Epoch: 13/20  Batch: 4750  Loss: 0.0914  Accuracy: 0.4286  Time: 897s\n",
      "\n",
      "================================\n",
      "Epoch 13/20\n",
      "Accuracy: 0.5784  Loss: 0.0410  val_acc: 0.5441  val_loss: 0.2087\n",
      "Time taken for epoch 13: 16.25 min\n",
      "Total Time taken: 199.97 min\n",
      "================================\n",
      "\n",
      "Epoch: 14/20  Batch: 1000  Loss: 0.0501  Accuracy: 0.5714  Time: 182s\n",
      "Epoch: 14/20  Batch: 2000  Loss: 0.1151  Accuracy: 0.6071  Time: 366s\n",
      "Epoch: 14/20  Batch: 3000  Loss: 0.0003  Accuracy: 0.6786  Time: 555s\n",
      "Epoch: 14/20  Batch: 4000  Loss: 0.0506  Accuracy: 0.5714  Time: 738s\n",
      "Epoch: 14/20  Batch: 4750  Loss: 0.1363  Accuracy: 0.6071  Time: 878s\n",
      "\n",
      "================================\n",
      "Epoch 14/20\n",
      "Accuracy: 0.5783  Loss: 0.0414  val_acc: 0.5416  val_loss: 0.1810\n",
      "Time taken for epoch 14: 15.94 min\n",
      "Total Time taken: 215.91 min\n",
      "================================\n",
      "\n",
      "Epoch: 15/20  Batch: 1000  Loss: 0.0501  Accuracy: 0.6786  Time: 185s\n",
      "Epoch: 15/20  Batch: 2000  Loss: 0.0009  Accuracy: 0.6071  Time: 366s\n",
      "Epoch: 15/20  Batch: 3000  Loss: 0.1670  Accuracy: 0.5000  Time: 545s\n",
      "Epoch: 15/20  Batch: 4000  Loss: 0.0502  Accuracy: 0.6786  Time: 729s\n",
      "Epoch: 15/20  Batch: 4750  Loss: 0.0020  Accuracy: 0.5357  Time: 866s\n",
      "\n",
      "================================\n",
      "Epoch 15/20\n",
      "Accuracy: 0.5789  Loss: 0.0393  val_acc: 0.5286  val_loss: 0.2369\n",
      "Time taken for epoch 15: 15.74 min\n",
      "Total Time taken: 231.66 min\n",
      "================================\n",
      "\n"
     ]
    },
    {
     "name": "stdout",
     "output_type": "stream",
     "text": [
      "Epoch: 16/20  Batch: 1000  Loss: 0.0002  Accuracy: 0.5000  Time: 181s\n",
      "Epoch: 16/20  Batch: 2000  Loss: 0.0002  Accuracy: 0.4643  Time: 358s\n",
      "Epoch: 16/20  Batch: 3000  Loss: 0.1026  Accuracy: 0.5357  Time: 537s\n",
      "Epoch: 16/20  Batch: 4000  Loss: 0.0015  Accuracy: 0.7857  Time: 707s\n",
      "Epoch: 16/20  Batch: 4750  Loss: 0.0885  Accuracy: 0.5714  Time: 835s\n",
      "\n",
      "================================\n",
      "Epoch 16/20\n",
      "Accuracy: 0.5789  Loss: 0.0390  val_acc: 0.5370  val_loss: 0.2433\n",
      "Time taken for epoch 16: 15.12 min\n",
      "Total Time taken: 246.78 min\n",
      "================================\n",
      "\n",
      "Epoch: 17/20  Batch: 1000  Loss: 0.0501  Accuracy: 0.5357  Time: 171s\n",
      "Epoch: 17/20  Batch: 2000  Loss: 0.0001  Accuracy: 0.5714  Time: 342s\n",
      "Epoch: 17/20  Batch: 3000  Loss: 0.0995  Accuracy: 0.5357  Time: 512s\n",
      "Epoch: 17/20  Batch: 4000  Loss: 0.0500  Accuracy: 0.6786  Time: 683s\n",
      "Epoch: 17/20  Batch: 4750  Loss: 0.0004  Accuracy: 0.5714  Time: 811s\n",
      "\n",
      "================================\n",
      "Epoch 17/20\n",
      "Accuracy: 0.5790  Loss: 0.0392  val_acc: 0.5343  val_loss: 0.2508\n",
      "Time taken for epoch 17: 14.72 min\n",
      "Total Time taken: 261.50 min\n",
      "================================\n",
      "\n",
      "Epoch: 18/20  Batch: 1000  Loss: 0.0002  Accuracy: 0.5357  Time: 171s\n",
      "Epoch: 18/20  Batch: 2000  Loss: 0.0013  Accuracy: 0.7857  Time: 341s\n",
      "Epoch: 18/20  Batch: 3000  Loss: 0.0499  Accuracy: 0.6786  Time: 513s\n",
      "Epoch: 18/20  Batch: 4000  Loss: 0.0034  Accuracy: 0.5357  Time: 690s\n",
      "Epoch: 18/20  Batch: 4750  Loss: 0.0993  Accuracy: 0.6071  Time: 824s\n",
      "\n",
      "================================\n",
      "Epoch 18/20\n",
      "Accuracy: 0.5796  Loss: 0.0375  val_acc: 0.5440  val_loss: 0.1887\n",
      "Time taken for epoch 18: 15.01 min\n",
      "Total Time taken: 276.51 min\n",
      "================================\n",
      "\n",
      "Epoch: 19/20  Batch: 1000  Loss: 0.0002  Accuracy: 0.6071  Time: 179s\n",
      "Epoch: 19/20  Batch: 2000  Loss: 0.1388  Accuracy: 0.4643  Time: 357s\n",
      "Epoch: 19/20  Batch: 3000  Loss: 0.0995  Accuracy: 0.6071  Time: 536s\n",
      "Epoch: 19/20  Batch: 4000  Loss: 0.0998  Accuracy: 0.5714  Time: 713s\n",
      "Epoch: 19/20  Batch: 4750  Loss: 0.0152  Accuracy: 0.5714  Time: 853s\n",
      "\n",
      "================================\n",
      "Epoch 19/20\n",
      "Accuracy: 0.5796  Loss: 0.0371  val_acc: 0.5386  val_loss: 0.1669\n",
      "Time taken for epoch 19: 15.47 min\n",
      "Total Time taken: 291.98 min\n",
      "================================\n",
      "\n",
      "Epoch: 20/20  Batch: 1000  Loss: 0.0008  Accuracy: 0.6786  Time: 184s\n",
      "Epoch: 20/20  Batch: 2000  Loss: 0.0798  Accuracy: 0.5000  Time: 368s\n",
      "Epoch: 20/20  Batch: 3000  Loss: 0.0002  Accuracy: 0.5714  Time: 552s\n",
      "Epoch: 20/20  Batch: 4000  Loss: 0.0538  Accuracy: 0.4286  Time: 731s\n",
      "Epoch: 20/20  Batch: 4750  Loss: 0.0018  Accuracy: 0.5357  Time: 866s\n",
      "\n",
      "================================\n",
      "Epoch 20/20\n",
      "Accuracy: 0.5789  Loss: 0.0386  val_acc: 0.5547  val_loss: 0.2214\n",
      "Time taken for epoch 20: 15.75 min\n",
      "Total Time taken: 307.72 min\n",
      "================================\n",
      "\n"
     ]
    }
   ],
   "source": [
    "# run eagerly will make tensorflow run step by step or else it will raise\n",
    "# ValueError: tf.function-decorated function tried to create variables on non-first call.\n",
    "# similar to Pytorch, which is a dynamic graph for deep learning\n",
    "tf.config.experimental_run_functions_eagerly(True)\n",
    "\n",
    "EPOCHS = 20\n",
    "TOLERANCE = 0.015\n",
    "\n",
    "start = time.time()\n",
    "for epoch in range(1, EPOCHS+1):\n",
    "    epoch_start = time.time()\n",
    "    \n",
    "    # train the encoder-decoder model\n",
    "    batch = 0\n",
    "    total_loss = 0\n",
    "    total_accuracy = 0\n",
    "    for inp, targ in dataset.take(STEP_PER_EPOCH):\n",
    "        batch += 1\n",
    "        \n",
    "        batch_loss, batch_accuracy = train_step(inp, targ, phoneme_tokenizer)\n",
    "        total_loss += batch_loss\n",
    "        total_accuracy += batch_accuracy\n",
    "            \n",
    "        print(\"Epoch: {}/{}  Batch: {}  Loss: {:.4f}  Accuracy: {:.4f}  Time: {:.0f}s\".\n",
    "              format(epoch, EPOCHS, batch, batch_loss.numpy(), batch_accuracy.numpy(), time.time()-epoch_start), \n",
    "              end=\"\\r\")\n",
    "        \n",
    "        if batch % 1000 == 0:\n",
    "            print()\n",
    "    print()\n",
    "    # saving (checkpoint) the model when total loss is less than 0.9\n",
    "    checkpoint.save(file_prefix=checkpoint_prefix)\n",
    "    \n",
    "    # validation process\n",
    "    total_val_loss = 0\n",
    "    total_val_acc = 0\n",
    "    for val_inp, val_targ in dataset_val.take(VAL_WAV_SIZE):\n",
    "        val_loss, val_acc = validate_step(val_inp, val_targ, phoneme_tokenizer)\n",
    "        total_val_loss += val_loss\n",
    "        total_val_acc += val_acc\n",
    "\n",
    "    # print out the epoch results\n",
    "    mean_total_acc = total_accuracy / STEP_PER_EPOCH\n",
    "    mean_total_loss = total_loss / STEP_PER_EPOCH\n",
    "    \n",
    "    mean_val_acc = total_val_acc / VAL_WAV_SIZE\n",
    "    mean_val_loss = total_val_loss / VAL_WAV_SIZE\n",
    "    \n",
    "    print(\"\\n================================\")\n",
    "    print(\"Epoch {}/{}\".format(epoch, EPOCHS))\n",
    "    print('Accuracy: {:.4f}  Loss: {:.4f}  val_acc: {:.4f}  val_loss: {:.4f}'.format(\n",
    "        mean_total_acc, \n",
    "        mean_total_loss, \n",
    "        mean_val_acc,\n",
    "        mean_val_loss))\n",
    "    print('Time taken for epoch {}: {:.2f} min'.format(epoch, (time.time() - epoch_start)/60))\n",
    "    print('Total Time taken: {:.2f} min'.format((time.time() - start)/60))\n",
    "    print(\"================================\\n\")\n",
    "    \n",
    "    if mean_total_loss < TOLERANCE and mean_val_acc > 0.5:\n",
    "        break"
   ]
  },
  {
   "cell_type": "code",
   "execution_count": 33,
   "metadata": {},
   "outputs": [],
   "source": [
    "def predict(inputs, max_input_len, max_output_len, tokenizer):\n",
    "    inputs = tf.expand_dims(inputs, 0)\n",
    "    inputs = tf.convert_to_tensor(inputs)\n",
    "    result = ''\n",
    "    \n",
    "    \n",
    "    enc_out, enc_hidden_h, enc_hidden_c = encoder(inputs)\n",
    "    dec_hidden_h, dec_hidden_c = enc_hidden_h, enc_hidden_c\n",
    "    dec_input = tf.expand_dims([tokenizer.word_index['<start>']], 0)\n",
    "\n",
    "    attention_plot = np.zeros((max_output_len, max_input_len))\n",
    "    predicted_ids = np.zeros(max_output_len, dtype=np.int32)\n",
    "    for t in np.arange(max_output_len):\n",
    "        predictions, dec_hidden, attention_weights = decoder(\n",
    "            inputs=dec_input, \n",
    "            enc_hidden_h=dec_hidden_h, \n",
    "            enc_hidden_c=dec_hidden_c, \n",
    "            enc_output=enc_out)\n",
    "\n",
    "        # storing the attention weights to plot later on\n",
    "        attention_weights = tf.reshape(attention_weights, (-1, ))\n",
    "        attention_plot[t] = attention_weights.numpy()\n",
    "\n",
    "        pred_id = tf.argmax(predictions[0]).numpy()\n",
    "        predicted_ids[t] = pred_id\n",
    "\n",
    "        result += tokenizer.index_word[pred_id] + ' '\n",
    "\n",
    "        if tokenizer.index_word[pred_id] == '<end>':\n",
    "            return result, predicted_ids, attention_plot\n",
    "\n",
    "        # the predicted ID is fed back into the model\n",
    "        dec_input = tf.expand_dims([pred_id], 0)\n",
    "\n",
    "    return result, predicted_ids, attention_plot"
   ]
  },
  {
   "cell_type": "code",
   "execution_count": 34,
   "metadata": {},
   "outputs": [],
   "source": [
    "# function for plotting the attention weights\n",
    "def plot_attention(attention, input_wav, output_phoneme):\n",
    "    fig = plt.figure(figsize=(10, 10))\n",
    "    ax = fig.add_subplot(1, 1, 1)\n",
    "    ax.matshow(attention, cmap='viridis')\n",
    "\n",
    "    fontdict = {'fontsize': 14}\n",
    "#     ax.set_yticklabels([''] + output_phoneme, fontdict=fontdict)\n",
    "    ax.set_yticklabels(\"\", fontdict=fontdict)\n",
    "    \n",
    "#     ax.xaxis.set_major_locator(ticker.MultipleLocator(1))\n",
    "    ax.yaxis.set_major_locator(ticker.MultipleLocator(1))\n",
    "\n",
    "    plt.show()"
   ]
  },
  {
   "cell_type": "code",
   "execution_count": 35,
   "metadata": {},
   "outputs": [],
   "source": [
    "def translate(wave, max_in, max_out, tokenizer):\n",
    "    result, _, attention_plot = predict(wave, max_in, max_out, tokenizer)\n",
    "    print(f'Predicted translation: {result}')\n",
    "\n",
    "#     attention_plot = attention_plot[:len(result.split(' ')), :50]\n",
    "#     plot_attention(attention_plot, np.arange(len(wave)), result.split(' '))\n",
    "    \n",
    "    attention_plot = attention_plot[:1, :50]\n",
    "    plot_attention(attention_plot, np.arange(len(wave)), result.split(' '))"
   ]
  },
  {
   "cell_type": "code",
   "execution_count": 36,
   "metadata": {},
   "outputs": [
    {
     "data": {
      "text/plain": [
       "<tensorflow.python.training.tracking.util.CheckpointLoadStatus at 0x2177f575ef0>"
      ]
     },
     "execution_count": 36,
     "metadata": {},
     "output_type": "execute_result"
    }
   ],
   "source": [
    "# restoring the latest checkpoint in checkpoint_dir\n",
    "# checkpoint.restore(tf.train.latest_checkpoint(checkpoint_dir))"
   ]
  },
  {
   "cell_type": "code",
   "execution_count": 49,
   "metadata": {
    "scrolled": false
   },
   "outputs": [
    {
     "name": "stdout",
     "output_type": "stream",
     "text": [
      "Index: [332]\n",
      "Predicted translation: z iy r ow <end> \n"
     ]
    },
    {
     "data": {
      "image/png": "[encoded data removed]",
      "text/plain": [
       "<Figure size 720x720 with 1 Axes>"
      ]
     },
     "metadata": {
      "needs_background": "light"
     },
     "output_type": "display_data"
    },
    {
     "name": "stdout",
     "output_type": "stream",
     "text": [
      "\n",
      "TOKEN\t--->\tWORDS\n",
      "=======================\n",
      "1\t--->\t<start>\n",
      "20\t--->\tz\n",
      "11\t--->\tiy\n",
      "5\t--->\tr\n",
      "21\t--->\tow\n",
      "2\t--->\t<end>\n"
     ]
    }
   ],
   "source": [
    "# testing with test wave data\n",
    "index = [i for i in np.random.randint(len(wav_tensor_val), size=1)]\n",
    "print(f\"Index: {index}\")\n",
    "test_wave = wav_tensor_val[index]\n",
    "test_phoneme = phoneme_tensor_val[index, :]\n",
    "\n",
    "max_input_length = sample_output.shape[1]\n",
    "max_output_length = test_phoneme.shape[1] - 1 # minus the '<start>' since it won't show up in prediction\n",
    "\n",
    "translate(test_wave, max_input_length, max_output_length, phoneme_tokenizer)\n",
    "for tensor in test_phoneme:\n",
    "    preprocesser.show_convert(tensor, phoneme_tokenizer)"
   ]
  },
  {
   "cell_type": "code",
   "execution_count": 38,
   "metadata": {},
   "outputs": [
    {
     "name": "stdout",
     "output_type": "stream",
     "text": [
      "Classes: ['eight' 'five' 'four' 'nine' 'one' 'seven' 'six' 'three' 'two' 'zero']\n",
      "Classes integer: [0 1 2 3 4 5 6 7 8 9]\n"
     ]
    }
   ],
   "source": [
    "from sklearn.preprocessing import LabelEncoder\n",
    "\n",
    "label_tensor = np.array([label for label in label_tensor])\n",
    "label_tensor_val = np.array([label for label in label_tensor_val])\n",
    "le = LabelEncoder().fit(label_tensor)\n",
    "print(f\"Classes: {le.classes_}\")\n",
    "print(f\"Classes integer: {le.transform(le.classes_)}\")\n",
    "\n",
    "labels = le.transform(label_tensor)\n",
    "# labels_val = le.transform(label_tensor_val)"
   ]
  },
  {
   "cell_type": "code",
   "execution_count": 50,
   "metadata": {
    "scrolled": true
   },
   "outputs": [
    {
     "name": "stdout",
     "output_type": "stream",
     "text": [
      "predicting 19000th wave tensor - time 38.01 min\r"
     ]
    }
   ],
   "source": [
    "start = time.time()\n",
    "\n",
    "total_iter = len(wav_tensor)\n",
    "pred_id = np.zeros((total_iter, max_output_length))\n",
    "for i in range(total_iter):\n",
    "    _, IDs, _ = predict(wav_tensor[i], max_input_length, max_output_length, phoneme_tokenizer)\n",
    "    pred_id[i] = IDs.astype(np.int32)\n",
    "    \n",
    "    time_consumed = (time.time() - start) / 60\n",
    "    print(\"predicting {}th wave tensor - time {:.2f} min\".format(i+1, time_consumed), end=\"\\r\")"
   ]
  },
  {
   "cell_type": "code",
   "execution_count": 51,
   "metadata": {},
   "outputs": [
    {
     "name": "stdout",
     "output_type": "stream",
     "text": [
      "predicting 1000th wave tensor - time 1.19 min\r"
     ]
    }
   ],
   "source": [
    "start = time.time()\n",
    "\n",
    "total_iter_val = len(wav_tensor_val)\n",
    "pred_id_val = np.zeros((total_iter_val, max_output_length))\n",
    "for i in range(total_iter_val):\n",
    "    _, IDs, _ = predict(wav_tensor_val[i], max_input_length, max_output_length, phoneme_tokenizer)\n",
    "    pred_id_val[i] = IDs.astype(np.int32)\n",
    "    \n",
    "    time_consumed = (time.time() - start) / 60\n",
    "    print(\"predicting {}th wave tensor - time {:.2f} min\".format(i+1, time_consumed), end=\"\\r\")"
   ]
  },
  {
   "cell_type": "code",
   "execution_count": 52,
   "metadata": {},
   "outputs": [
    {
     "name": "stdout",
     "output_type": "stream",
     "text": [
      "Model: \"sequential\"\n",
      "_________________________________________________________________\n",
      "Layer (type)                 Output Shape              Param #   \n",
      "=================================================================\n",
      "embedding_2 (Embedding)      (None, None, 256)         5632      \n",
      "_________________________________________________________________\n",
      "global_average_pooling1d (Gl (None, 256)               0         \n",
      "_________________________________________________________________\n",
      "dense_15 (Dense)             (None, 10)                2570      \n",
      "=================================================================\n",
      "Total params: 8,202\n",
      "Trainable params: 8,202\n",
      "Non-trainable params: 0\n",
      "_________________________________________________________________\n"
     ]
    }
   ],
   "source": [
    "# max_output_length = 6\n",
    "phoneme2label = tf.keras.Sequential([\n",
    "    tf.keras.layers.Embedding(len(phoneme_tokenizer.word_index)+1, 256), \n",
    "    tf.keras.layers.GlobalAveragePooling1D(),\n",
    "    tf.keras.layers.Dense(10, activation=\"softmax\"),\n",
    "])\n",
    "\n",
    "phoneme2label.compile(loss='sparse_categorical_crossentropy', \n",
    "                      optimizer='adam', \n",
    "                      metrics=['accuracy'])\n",
    "\n",
    "phoneme2label.summary()"
   ]
  },
  {
   "cell_type": "code",
   "execution_count": 53,
   "metadata": {},
   "outputs": [
    {
     "name": "stdout",
     "output_type": "stream",
     "text": [
      "Input:\n",
      " [[ 4. 12. 13.  4. 12. 13.]\n",
      " [ 4.  2.  0.  0.  0.  0.]\n",
      " [14.  5. 11.  2.  0.  0.]\n",
      " ...\n",
      " [14.  5. 11.  2.  0.  0.]\n",
      " [ 4. 17.  7.  9.  3. 17.]\n",
      " [15.  9.  3.  6.  3.  6.]]\n",
      "\n",
      "Target:\n",
      " [6 6 7 ... 7 5 4]\n"
     ]
    }
   ],
   "source": [
    "print(f\"Input:\\n {pred_id}\")\n",
    "print()\n",
    "print(f\"Target:\\n {labels}\")"
   ]
  },
  {
   "cell_type": "code",
   "execution_count": 54,
   "metadata": {
    "scrolled": false
   },
   "outputs": [
    {
     "name": "stdout",
     "output_type": "stream",
     "text": [
      "Train on 15200 samples, validate on 3800 samples\n",
      "Epoch 1/5\n",
      "15200/15200 [==============================] - 10s 630us/sample - loss: 0.6735 - accuracy: 0.9234 - val_loss: 0.2038 - val_accuracy: 0.9708\n",
      "Epoch 2/5\n",
      "15200/15200 [==============================] - 9s 623us/sample - loss: 0.2002 - accuracy: 0.9670 - val_loss: 0.1693 - val_accuracy: 0.9708\n",
      "Epoch 3/5\n",
      "15200/15200 [==============================] - 9s 617us/sample - loss: 0.1800 - accuracy: 0.9672 - val_loss: 0.1630 - val_accuracy: 0.9708\n",
      "Epoch 4/5\n",
      "15200/15200 [==============================] - 9s 618us/sample - loss: 0.1729 - accuracy: 0.9672 - val_loss: 0.1610 - val_accuracy: 0.9708\n",
      "Epoch 5/5\n",
      "15200/15200 [==============================] - 9s 619us/sample - loss: 0.1695 - accuracy: 0.9672 - val_loss: 0.1577 - val_accuracy: 0.9708\n"
     ]
    }
   ],
   "source": [
    "history = phoneme2label.fit(pred_id, \n",
    "                            labels, \n",
    "                            epochs=5, \n",
    "                            validation_split=0.2, \n",
    "                            shuffle=True)"
   ]
  },
  {
   "cell_type": "code",
   "execution_count": 55,
   "metadata": {},
   "outputs": [],
   "source": [
    "def AccLossPlot(TrainHistory):    \n",
    "    acc = TrainHistory.history['accuracy']\n",
    "    val_acc = TrainHistory.history['val_accuracy']\n",
    "\n",
    "    loss = TrainHistory.history['loss']\n",
    "    val_loss = TrainHistory.history['val_loss']\n",
    "\n",
    "    epochs_range = range(len(acc))\n",
    "\n",
    "    plt.figure(figsize=(12, 4))\n",
    "    plt.subplot(1, 2, 1)\n",
    "    plt.plot(epochs_range, acc, label='Training Accuracy')\n",
    "    plt.plot(epochs_range, val_acc, label='Validation Accuracy')\n",
    "    plt.legend(loc='lower right')\n",
    "    plt.title('Training and Validation Accuracy')\n",
    "\n",
    "    plt.subplot(1, 2, 2)\n",
    "    plt.plot(epochs_range, loss, label='Training Loss')\n",
    "    plt.plot(epochs_range, val_loss, label='Validation Loss')\n",
    "    plt.legend(loc='upper right')\n",
    "    plt.title('Training and Validation Loss')\n",
    "    plt.show()"
   ]
  },
  {
   "cell_type": "code",
   "execution_count": 56,
   "metadata": {
    "scrolled": false
   },
   "outputs": [
    {
     "data": {
      "image/png": "[encoded data removed]",
      "text/plain": [
       "<Figure size 864x288 with 2 Axes>"
      ]
     },
     "metadata": {
      "needs_background": "light"
     },
     "output_type": "display_data"
    }
   ],
   "source": [
    "AccLossPlot(history)"
   ]
  },
  {
   "cell_type": "code",
   "execution_count": 57,
   "metadata": {},
   "outputs": [],
   "source": [
    "# predict the labels\n",
    "pred_label = np.argmax(phoneme2label.predict(pred_id_val), 1)\n",
    "\n",
    "# plot the confusion\n",
    "pred_label = le.inverse_transform(pred_label)\n",
    "label_tensor_val = label_tensor_val.reshape(label_tensor_val.shape[0], )"
   ]
  },
  {
   "cell_type": "code",
   "execution_count": 58,
   "metadata": {},
   "outputs": [
    {
     "data": {
      "text/plain": [
       "<matplotlib.axes._subplots.AxesSubplot at 0x218a0d41f28>"
      ]
     },
     "execution_count": 58,
     "metadata": {},
     "output_type": "execute_result"
    },
    {
     "data": {
      "image/png": "[encoded data removed]",
      "text/plain": [
       "<Figure size 720x720 with 2 Axes>"
      ]
     },
     "metadata": {
      "needs_background": "light"
     },
     "output_type": "display_data"
    }
   ],
   "source": [
    "from scikitplot.metrics import plot_confusion_matrix\n",
    "\n",
    "plot_confusion_matrix(y_true=label_tensor_val, \n",
    "                      y_pred=pred_label, \n",
    "                      labels=None, \n",
    "                      true_labels=None, \n",
    "                      pred_labels=None, \n",
    "                      title=\"Linear Discriminant Analysis Confusion Matrix\", \n",
    "                      normalize=False, \n",
    "                      hide_zeros=False, \n",
    "                      hide_counts=False, \n",
    "                      x_tick_rotation=0, \n",
    "                      ax=None, \n",
    "                      figsize=(10, 10), \n",
    "                      cmap='Blues', \n",
    "                      title_fontsize='large', \n",
    "                      text_fontsize='medium')"
   ]
  },
  {
   "cell_type": "markdown",
   "metadata": {},
   "source": [
    "## Testing data collected from classmates"
   ]
  },
  {
   "cell_type": "code",
   "execution_count": 97,
   "metadata": {},
   "outputs": [
    {
     "name": "stdout",
     "output_type": "stream",
     "text": [
      "LABEL\tTOTAL\tREAD\tSAVED\t<1s COUNT\n",
      "-----\t-----\t----\t-----\t---------\n",
      "zero\t15\t15\t15\t0\n",
      "one\t15\t15\t15\t0\n",
      "two\t15\t15\t15\t0\n",
      "three\t15\t15\t15\t0\n",
      "four\t15\t15\t15\t0\n",
      "five\t15\t15\t15\t0\n",
      "six\t15\t15\t15\t0\n",
      "seven\t15\t15\t15\t0\n",
      "eight\t15\t15\t15\t0\n",
      "nine\t15\t15\t15\t0\n",
      "\n",
      "MISSION COMPELTE!!!\n"
     ]
    }
   ],
   "source": [
    "SAMPLE_RATE = 16000\n",
    "\n",
    "test_audio_path = \"testing\"\n",
    "phoneme_path = os.path.join(os.getcwd(), \"Phonemes\")\n",
    "phoneme_dataframe = pd.read_csv(os.path.join(phoneme_path, \"phonemes.csv\"))\n",
    "\n",
    "test_reader = WaveReader(path=test_audio_path, \n",
    "                         sample_rate=SAMPLE_RATE, \n",
    "                         padding_type=None, \n",
    "                         read_size=None)\n",
    "\n",
    "wav_array_test, label_array_test, total_test, loss_test = test_reader.read(labels=phoneme_dataframe.words)"
   ]
  },
  {
   "cell_type": "code",
   "execution_count": 102,
   "metadata": {},
   "outputs": [
    {
     "name": "stdout",
     "output_type": "stream",
     "text": [
      "Wave Data Simulation ... Done\n",
      "Label Simulation ... Done\n",
      "Phoneme Simulation... Done\n",
      "\n",
      "Example Label Display: ['six']\n",
      "Example Phoneme Display: <start> S IH K S <end>\n"
     ]
    }
   ],
   "source": [
    "MIN_BINDING_SIZE = 1\n",
    "MAX_BINDING_SIZE = 1\n",
    "\n",
    "preprocesser = Preprocesser(min_sz=MIN_BINDING_SIZE, \n",
    "                            max_sz=MAX_BINDING_SIZE, \n",
    "                            padding_type=\"white_noise\")\n",
    "\n",
    "test_wave = preprocesser.simulate_wave(wav_array_test)\n",
    "test_label = preprocesser.simulate_label(label_array_test)\n",
    "test_phoneme = preprocesser.simulate_phoneme(labels=test_label, \n",
    "                                             label_dict=phoneme_dataframe.words.values, \n",
    "                                             phoneme_dict=phoneme_dataframe.phonemes.values)\n",
    "\n",
    "print(f\"\\nExample Label Display: {test_label[0]}\")\n",
    "print(f\"Example Phoneme Display: {test_phoneme[0]}\")"
   ]
  },
  {
   "cell_type": "code",
   "execution_count": 103,
   "metadata": {},
   "outputs": [
    {
     "name": "stdout",
     "output_type": "stream",
     "text": [
      "Applying MFCC to 150th case\n",
      "Simulated MFCC wave: (input size, time steps, MFCC dimension) (150, 99, 39)\n"
     ]
    }
   ],
   "source": [
    "mfcced_test_wave = mfcc_applier.apply(test_wave, sample_rate=SAMPLE_RATE)\n",
    "print(\"Simulated MFCC wave: (input size, time steps, MFCC dimension) {}\".format(mfcced_test_wave.shape))"
   ]
  },
  {
   "cell_type": "code",
   "execution_count": 104,
   "metadata": {},
   "outputs": [
    {
     "name": "stdout",
     "output_type": "stream",
     "text": [
      "Input Shape: (150, 99, 39)\n",
      "Output Shape: (150, 7)\n",
      "\n",
      "TOKEN\t--->\tWORDS\n",
      "=======================\n",
      "1\t--->\t<start>\n",
      "4\t--->\ts\n",
      "12\t--->\tih\n",
      "13\t--->\tk\n",
      "4\t--->\ts\n",
      "2\t--->\t<end>\n",
      "\n"
     ]
    }
   ],
   "source": [
    "wav_tensor_test = tf.convert_to_tensor(mfcced_test_wave, dtype=tf.float32)\n",
    "\n",
    "# must use the same tokenizer\n",
    "phoneme_tensor_test = phoneme_tokenizer.texts_to_sequences(test_phoneme)\n",
    "phoneme_tensor_test = tf.keras.preprocessing.sequence.pad_sequences(phoneme_tensor_test, padding='post')\n",
    "\n",
    "print(\"Input Shape: {}\".format(wav_tensor_test.shape))\n",
    "print(\"Output Shape: {}\".format(phoneme_tensor_test.shape))\n",
    "\n",
    "for tensor in phoneme_tensor_test[:1]:\n",
    "    preprocesser.show_convert(tensor, phoneme_tokenizer)\n",
    "    print()"
   ]
  },
  {
   "cell_type": "code",
   "execution_count": 105,
   "metadata": {},
   "outputs": [
    {
     "name": "stdout",
     "output_type": "stream",
     "text": [
      "Index: [14]\n",
      "Predicted translation: th r iy <end> \n"
     ]
    },
    {
     "data": {
      "image/png": "[encoded data removed]",
      "text/plain": [
       "<Figure size 720x720 with 1 Axes>"
      ]
     },
     "metadata": {
      "needs_background": "light"
     },
     "output_type": "display_data"
    },
    {
     "name": "stdout",
     "output_type": "stream",
     "text": [
      "\n",
      "TOKEN\t--->\tWORDS\n",
      "=======================\n",
      "1\t--->\t<start>\n",
      "14\t--->\tth\n",
      "5\t--->\tr\n",
      "11\t--->\tiy\n",
      "2\t--->\t<end>\n"
     ]
    }
   ],
   "source": [
    "# testing with test wave data\n",
    "# index = [i for i in np.random.randint(len(wav_tensor_test), size=1)]\n",
    "index = [14]\n",
    "print(f\"Index: {index}\")\n",
    "test_wave = wav_tensor_test[index]\n",
    "test_phoneme = phoneme_tensor_test[index, :]\n",
    "\n",
    "max_input_length = sample_output.shape[1]\n",
    "max_output_length = test_phoneme.shape[1] - 1 # minus the '<start>' since it won't show up in prediction\n",
    "\n",
    "translate(test_wave, max_input_length, max_output_length, phoneme_tokenizer)\n",
    "for tensor in test_phoneme:\n",
    "    preprocesser.show_convert(tensor, phoneme_tokenizer)\n",
    "    \n",
    "# ipd.Audio(test_wave.numpy(), rate=SAMPLE_RATE)"
   ]
  },
  {
   "cell_type": "code",
   "execution_count": 106,
   "metadata": {},
   "outputs": [
    {
     "name": "stdout",
     "output_type": "stream",
     "text": [
      "predicting 150th wave tensor - time 0.17 min\r"
     ]
    }
   ],
   "source": [
    "start = time.time()\n",
    "\n",
    "total_iter = len(wav_tensor_test)\n",
    "pred_id_test = np.zeros((total_iter, max_output_length))\n",
    "for i in range(total_iter):\n",
    "    _, IDs, _ = predict(wav_tensor_test[i], max_input_length, max_output_length, phoneme_tokenizer)\n",
    "    pred_id_test[i] = IDs.astype(np.int32)\n",
    "    \n",
    "    time_consumed = (time.time() - start) / 60\n",
    "    print(\"predicting {}th wave tensor - time {:.2f} min\".format(i+1, time_consumed), end=\"\\r\")\n",
    "\n",
    "# time_consumed = (time.time() - start) / 60\n",
    "# print(\"\\nTime Consumed: {:.2f} min\".format(time_consumed))"
   ]
  },
  {
   "cell_type": "code",
   "execution_count": 107,
   "metadata": {},
   "outputs": [],
   "source": [
    "# predict label from phonemes\n",
    "pred_label_test = np.argmax(phoneme2label.predict(pred_id_test), 1)\n",
    "pred_label_test = le.inverse_transform(pred_label_test)\n",
    "\n",
    "# true test label\n",
    "test_label = np.array([label for label in test_label])\n",
    "test_label = test_label.reshape(test_label.shape[0], )"
   ]
  },
  {
   "cell_type": "code",
   "execution_count": 108,
   "metadata": {},
   "outputs": [
    {
     "name": "stdout",
     "output_type": "stream",
     "text": [
      "Testing Accuracy: 0.8933\n"
     ]
    }
   ],
   "source": [
    "count = 0\n",
    "for i in range(len(pred_label_test)):\n",
    "    if pred_label_test[i] == test_label[i]:\n",
    "        count += 1\n",
    "        \n",
    "count /= len(pred_label_test)\n",
    "print(\"Testing Accuracy: {:.4f}\".format(count))"
   ]
  },
  {
   "cell_type": "code",
   "execution_count": 109,
   "metadata": {
    "scrolled": false
   },
   "outputs": [
    {
     "data": {
      "text/plain": [
       "<matplotlib.axes._subplots.AxesSubplot at 0x218a5f50ba8>"
      ]
     },
     "execution_count": 109,
     "metadata": {},
     "output_type": "execute_result"
    },
    {
     "data": {
      "image/png": "[encoded data removed]",
      "text/plain": [
       "<Figure size 720x720 with 2 Axes>"
      ]
     },
     "metadata": {
      "needs_background": "light"
     },
     "output_type": "display_data"
    }
   ],
   "source": [
    "# plot the confusion\n",
    "plot_confusion_matrix(y_true=test_label, \n",
    "                      y_pred=pred_label_test, \n",
    "                      labels=None, \n",
    "                      true_labels=None, \n",
    "                      pred_labels=None, \n",
    "                      title=\"Linear Discriminant Analysis Confusion Matrix\", \n",
    "                      normalize=False, \n",
    "                      hide_zeros=False, \n",
    "                      hide_counts=False, \n",
    "                      x_tick_rotation=0, \n",
    "                      ax=None, \n",
    "                      figsize=(10, 10), \n",
    "                      cmap='Blues', \n",
    "                      title_fontsize='large', \n",
    "                      text_fontsize='medium')"
   ]
  },
  {
   "cell_type": "markdown",
   "metadata": {},
   "source": [
    "### figure out single speech"
   ]
  },
  {
   "cell_type": "code",
   "execution_count": 152,
   "metadata": {},
   "outputs": [
    {
     "name": "stdout",
     "output_type": "stream",
     "text": [
      "Applying MFCC to 1th case\r\n"
     ]
    }
   ],
   "source": [
    "index = 13\n",
    "\n",
    "test_wave = wav_array_test[index]\n",
    "test_label = label_array_test[index]\n",
    "test_phoneme = \"<start> \" + preprocesser.phoneme_translator(test_label) + \" <end>\"\n",
    "\n",
    "mfcced_test_wave = mfcc_applier.apply(test_wave[np.newaxis, :], sample_rate=SAMPLE_RATE)\n",
    "wav_tensor_test = tf.convert_to_tensor(mfcced_test_wave, dtype=tf.float32)\n",
    "\n",
    "phoneme_tensor_test = phoneme_tokenizer.texts_to_sequences(test_phoneme)\n",
    "phoneme_tensor_test = tf.keras.preprocessing.sequence.pad_sequences(phoneme_tensor_test, padding='post')"
   ]
  },
  {
   "cell_type": "code",
   "execution_count": 153,
   "metadata": {},
   "outputs": [
    {
     "data": {
      "text/plain": [
       "<tf.Tensor: id=416574833, shape=(1, 99, 39), dtype=float32, numpy=\n",
       "array([[[ 1.31951141e+01, -2.05618118e+02, -2.04195984e+02, ...,\n",
       "         -1.67930096e-01,  7.56730258e-01,  7.64826596e-01],\n",
       "        [ 1.26274939e+01, -1.58610016e+02, -1.52282349e+02, ...,\n",
       "         -7.02654362e-01,  1.70560956e-01,  5.31843781e-01],\n",
       "        [ 1.24120016e+01, -1.35087296e+02, -1.38739914e+02, ...,\n",
       "         -5.11089206e-01,  2.69188643e-01,  5.34974813e-01],\n",
       "        ...,\n",
       "        [ 1.22546463e+01, -1.27924065e+02, -1.28485931e+02, ...,\n",
       "          7.07885623e-01,  1.40520811e+00,  1.21580827e+00],\n",
       "        [ 1.22611217e+01, -1.24437607e+02, -1.27122849e+02, ...,\n",
       "          2.80011296e-01,  6.29503489e-01,  5.67885280e-01],\n",
       "        [ 1.22590218e+01, -1.21330475e+02, -1.27756569e+02, ...,\n",
       "         -6.34014308e-01,  4.77583617e-01,  7.64358580e-01]]],\n",
       "      dtype=float32)>"
      ]
     },
     "execution_count": 153,
     "metadata": {},
     "output_type": "execute_result"
    }
   ],
   "source": [
    "wav_tensor_test"
   ]
  },
  {
   "cell_type": "code",
   "execution_count": 165,
   "metadata": {},
   "outputs": [],
   "source": [
    "def plot_wave(samples, sample_rate=16000):\n",
    "    fig = plt.figure(figsize=(10, 6))\n",
    "    ax1 = fig.add_subplot(211)\n",
    "    ax1.set_title('Raw wave of ' + '../input/train/audio/yes/0a7c2a8d_nohash_0.wav')\n",
    "    ax1.set_xlabel('time')\n",
    "    ax1.set_ylabel('Amplitude')\n",
    "    ax1.plot(np.linspace(0, sample_rate/len(samples), sample_rate), samples)"
   ]
  },
  {
   "cell_type": "code",
   "execution_count": 170,
   "metadata": {},
   "outputs": [
    {
     "name": "stdout",
     "output_type": "stream",
     "text": [
      "Real Phonemes: <start> Z IY R OW <end>\n",
      "Predicted translation: z iy r ow <end> \n"
     ]
    },
    {
     "data": {
      "image/png": "[encoded data removed]",
      "text/plain": [
       "<Figure size 720x432 with 1 Axes>"
      ]
     },
     "metadata": {
      "needs_background": "light"
     },
     "output_type": "display_data"
    },
    {
     "data": {
      "image/png": "[encoded data removed]",
      "text/plain": [
       "<Figure size 720x720 with 1 Axes>"
      ]
     },
     "metadata": {
      "needs_background": "light"
     },
     "output_type": "display_data"
    },
    {
     "data": {
      "text/html": [
       "\n",
       "                <audio  controls=\"controls\" >\n",
       "                    <source src=\"data:audio/wav;base64,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\" type=\"audio/wav\" />\n",
       "                    Your browser does not support the audio element.\n",
       "                </audio>\n",
       "              "
      ],
      "text/plain": [
       "<IPython.lib.display.Audio object>"
      ]
     },
     "execution_count": 170,
     "metadata": {},
     "output_type": "execute_result"
    }
   ],
   "source": [
    "max_input_length = sample_output.shape[1]\n",
    "max_output_length = 7 - 1 # minus the '<start>' since it won't show up in prediction\n",
    "\n",
    "print(\"Real Phonemes: {}\".format(test_phoneme))\n",
    "plot_wave(test_wave)\n",
    "translate(wav_tensor_test[0], max_input_length, max_output_length, phoneme_tokenizer)\n",
    "\n",
    "ipd.Audio(test_wave, rate=SAMPLE_RATE)"
   ]
  },
  {
   "cell_type": "code",
   "execution_count": null,
   "metadata": {},
   "outputs": [],
   "source": []
  }
 ],
 "metadata": {
  "kernelspec": {
   "display_name": "Python 3",
   "language": "python",
   "name": "python3"
  },
  "language_info": {
   "codemirror_mode": {
    "name": "ipython",
    "version": 3
   },
   "file_extension": ".py",
   "mimetype": "text/x-python",
   "name": "python",
   "nbconvert_exporter": "python",
   "pygments_lexer": "ipython3",
   "version": "3.6.10"
  }
 },
 "nbformat": 4,
 "nbformat_minor": 2
}
