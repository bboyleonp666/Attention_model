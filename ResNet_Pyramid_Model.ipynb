{
 "cells": [
  {
   "cell_type": "code",
   "execution_count": 1,
   "metadata": {},
   "outputs": [
    {
     "name": "stdout",
     "output_type": "stream",
     "text": [
      "Tensorflow Version: 2.0.0\n",
      "\n",
      "GPU available: True\n",
      "CUDA enabled: True\n"
     ]
    }
   ],
   "source": [
    "'''\n",
    "reference: \n",
    "    https://arxiv.org/abs/1508.01211\n",
    "    https://www.tensorflow.org/tutorials/text/nmt_with_attention\n",
    "    https://github.com/jameslyons/python_speech_features\n",
    "    https://www.tensorflow.org/tutorials/customization/custom_layers\n",
    "    \n",
    "data source: \n",
    "    https://www.kaggle.com/c/tensorflow-speech-recognition-challenge\n",
    "'''\n",
    "\n",
    "import tensorflow as tf\n",
    "\n",
    "import matplotlib.pyplot as plt\n",
    "import matplotlib.ticker as ticker\n",
    "# from sklearn.model_selection import train_test_split\n",
    "\n",
    "import io\n",
    "import time\n",
    "\n",
    "print(f\"Tensorflow Version: {tf.__version__}\")\n",
    "print()\n",
    "print(f\"GPU available: {tf.test.is_gpu_available()}\")\n",
    "print(f\"CUDA enabled: {tf.test.is_built_with_cuda()}\")"
   ]
  },
  {
   "cell_type": "code",
   "execution_count": 2,
   "metadata": {},
   "outputs": [],
   "source": [
    "import os\n",
    "import librosa # for audio processing\n",
    "import IPython.display as ipd\n",
    "import matplotlib.pyplot as plt\n",
    "import numpy as np\n",
    "import pandas as pd\n",
    "from scipy.io import wavfile # for audio processing\n",
    "import warnings\n",
    "warnings.filterwarnings(\"ignore\")"
   ]
  },
  {
   "cell_type": "code",
   "execution_count": 3,
   "metadata": {},
   "outputs": [],
   "source": [
    "class WaveReader:\n",
    "    def __init__(self, path, sample_rate, padding_type, read_size):\n",
    "        '''\n",
    "        Args:\n",
    "            path: train path containing directory which one would like to load\n",
    "            sample_rate: sample rate for reading .wav file\n",
    "            padding_type: padding for .wav data length less than 1 second\n",
    "            read_size: size that one would like to read\n",
    "        '''\n",
    "        \n",
    "        self.path = path\n",
    "        self.sample_rate = sample_rate\n",
    "        self.padding_type = padding_type\n",
    "        self.read_size = read_size\n",
    "\n",
    "    def read(self, labels=None):\n",
    "        '''\n",
    "        read all the data under the labels(directories) one select\n",
    "        \n",
    "        Args:\n",
    "            labels: labels(directories) one would like to load\n",
    "                    None means read all the directories under that directory\n",
    "        '''\n",
    "        print(\"LABEL\\tTOTAL\\tREAD\\tSAVED\\t<1s COUNT\")\n",
    "        print(\"-----\\t-----\\t----\\t-----\\t---------\")\n",
    "        \n",
    "        if labels is None:\n",
    "            labels = [f for f in os.listdir(path) if os.path.isdir(path + \"\\\\\" + f)]\n",
    "            \n",
    "        elif type(labels) == str:\n",
    "            samples, total_wave_count, total_wave_read, total_loss_count = self.read_dir(dir_name=labels)\n",
    "            sample_labels = np.repeat(labels, total_wave_read)\n",
    "            \n",
    "            print(\"\\nMISSION COMPELTE!!!\")\n",
    "            return samples, sample_labels, total_wave_count, total_loss_count\n",
    "                    \n",
    "        label_len = len(labels)\n",
    "        total_wave_count = np.zeros(label_len, dtype=np.int32)\n",
    "        total_wave_read = np.zeros(label_len, dtype=np.int32)\n",
    "        total_loss_count = np.zeros(label_len, dtype=np.int32)\n",
    "\n",
    "        \n",
    "        for i, lab in enumerate(labels):\n",
    "            samp, total_wave_count[i], total_wave_read[i], total_loss_count[i] = self.read_dir(dir_name=lab)\n",
    "            \n",
    "            if i == 0:\n",
    "                samples = samp\n",
    "                sample_labels = np.repeat(lab, total_wave_read[i])\n",
    "            else:\n",
    "                samples = np.concatenate((samples, samp), axis=0)\n",
    "                sample_labels = np.concatenate((sample_labels, np.repeat(lab, total_wave_read[i])), axis=None)\n",
    "        \n",
    "        print(\"\\nMISSION COMPELTE!!!\")\n",
    "        return samples, sample_labels, total_wave_count, total_loss_count\n",
    "    \n",
    "    def read_dir(self, dir_name):\n",
    "        '''\n",
    "        read one directory of given directory name\n",
    "        \n",
    "        Args:\n",
    "            dir_name: directory name\n",
    "        '''\n",
    "        dir_path = os.path.join(self.path, dir_name)\n",
    "        wave_files = [f for f in os.listdir(dir_path) if f.endswith('.wav')]\n",
    "        total_wave_files = len(wave_files)\n",
    "\n",
    "        if self.read_size is not None:\n",
    "            wave_files_read = self.read_size\n",
    "        else:\n",
    "            wave_files_read = total_wave_files\n",
    "\n",
    "        samples = np.zeros((wave_files_read, self.sample_rate))\n",
    "        less_than_1s_count = 0\n",
    "        num_of_file_read = 0\n",
    "        for i, wav_file in enumerate(wave_files):\n",
    "            wave_file_path = os.path.join(dir_path, wav_file)\n",
    "            samp, _ = librosa.load(wave_file_path, sr=self.sample_rate)\n",
    "\n",
    "            pad_size = self.sample_rate - len(samp)\n",
    "            if pad_size > 0:\n",
    "                less_than_1s_count += 1\n",
    "                if self.padding_type is None:\n",
    "                    # None: than skip this wave file\n",
    "                    continue\n",
    "\n",
    "                elif self.padding_type == \"white_noise\":\n",
    "                    # white_noise: pad white noise data behind\n",
    "                    padding = np.random.normal(0, 0.02, pad_size)\n",
    "                    samples[num_of_file_read, :] = np.concatenate((samp, padding), axis=None)\n",
    "                    num_of_file_read += 1\n",
    "\n",
    "\n",
    "                elif self.padding_type == \"zero\":\n",
    "                    # zero: pad zeros behind\n",
    "                    padding = np.zeros(pad_size)\n",
    "                    samples[num_of_file_read, :] = np.concatenate((samp, padding), axis=None)\n",
    "                    num_of_file_read += 1\n",
    "            else:\n",
    "                samples[num_of_file_read, :] = samp\n",
    "                num_of_file_read += 1\n",
    "\n",
    "            print(\"{}\\t{}\\t{}\\t{}\\t{}\".format(dir_name, \n",
    "                                              total_wave_files, \n",
    "                                              i+1, \n",
    "                                              num_of_file_read, \n",
    "                                              less_than_1s_count), end=\"\\r\")\n",
    "            \n",
    "            if num_of_file_read == wave_files_read:\n",
    "                break\n",
    "                \n",
    "        print()\n",
    "\n",
    "        return samples, total_wave_files, wave_files_read, less_than_1s_count"
   ]
  },
  {
   "cell_type": "code",
   "execution_count": 4,
   "metadata": {
    "scrolled": false
   },
   "outputs": [
    {
     "name": "stdout",
     "output_type": "stream",
     "text": [
      "LABEL\tTOTAL\tREAD\tSAVED\t<1s COUNT\n",
      "-----\t-----\t----\t-----\t---------\n",
      "zero\t2376\t2160\t2000\t160\n",
      "one\t2370\t2262\t2000\t262\n",
      "two\t2373\t2222\t2000\t222\n",
      "three\t2356\t2207\t2000\t207\n",
      "four\t2372\t2201\t2000\t201\n",
      "five\t2357\t2185\t2000\t185\n",
      "six\t2369\t2164\t2000\t164\n",
      "seven\t2377\t2194\t2000\t194\n",
      "eight\t2352\t2232\t2000\t232\n",
      "nine\t2364\t2178\t2000\t178\n",
      "\n",
      "MISSION COMPELTE!!!\n"
     ]
    }
   ],
   "source": [
    "SAMPLE_RATE = 16000\n",
    "\n",
    "train_audio_path = os.path.join(os.path.dirname(os.getcwd()), \"data\", \"train\", \"audio\")\n",
    "phoneme_path = os.path.join(os.getcwd(), \"Phonemes\")\n",
    "phoneme_dataframe = pd.read_csv(os.path.join(phoneme_path, \"phonemes.csv\"))\n",
    "\n",
    "reader = WaveReader(path=train_audio_path, \n",
    "                    sample_rate=SAMPLE_RATE, \n",
    "                    padding_type=None, \n",
    "                    read_size=2000)\n",
    "\n",
    "wav_array, label_array, total, loss = reader.read(labels=phoneme_dataframe.words)\n",
    "# wav_array, label_array, total, loss = reader.read(labels=phoneme_dataframe.words[0])\n",
    "\n",
    "# print(\"\\nCheck the existence of NaN and Inf\")\n",
    "# print(f\"NaN Number: {np.sum(np.isnan(wav_array))}\")\n",
    "# print(f\"Inf Number: {np.sum(np.isinf(wav_array))}\")"
   ]
  },
  {
   "cell_type": "code",
   "execution_count": 5,
   "metadata": {},
   "outputs": [],
   "source": [
    "class Preprocesser:\n",
    "    def __init__(self, create_size, min_sz=6, max_sz=8, padding_type=\"zero\"):\n",
    "        '''\n",
    "        Args:\n",
    "            create_size: size of binding wave one would like to create\n",
    "            min_sz: minimum size of wave data\n",
    "            max_sz: maximum size of wave data\n",
    "            padding_type: padding for .wav data length less than 1 second\n",
    "        '''\n",
    "        self.create_size = create_size\n",
    "        self.min_sz = min_sz\n",
    "        self.max_sz = max_sz\n",
    "        self.padding_type = padding_type\n",
    "\n",
    "    def simulate_wave(self, waves):\n",
    "        '''\n",
    "        method for simulating wave inputs\n",
    "        which will concatenate audio inputs for building longer audio dataset\n",
    "        \n",
    "        Args:\n",
    "            waves: input wave data\n",
    "        '''\n",
    "        # get picker for combining waves and labels(phonemes)\n",
    "        self.wave_shape = waves.shape\n",
    "        self.pickers = self.get_picker()\n",
    "        \n",
    "        print(\"Wave Data Simulation ... \", end=\"\")\n",
    "        \n",
    "        binded_length = self.wave_shape[1]*self.max_sz\n",
    "        simu_wave = np.zeros((self.create_size, binded_length))\n",
    "        \n",
    "        \n",
    "        for i, picker in enumerate(self.pickers):        \n",
    "            tmp_simu_wave = np.array([waves[p] for p in picker]).flatten()\n",
    "            \n",
    "            pad_size = binded_length - len(tmp_simu_wave)\n",
    "            if pad_size > 0:\n",
    "                if self.padding_type == \"white_noise\":\n",
    "                    # padding white noise\n",
    "                    padding = np.random.normal(0, 0.02, size=pad_size)\n",
    "\n",
    "                elif self.padding_type == \"zero\":\n",
    "                    # padding zeros\n",
    "                    padding = np.zeros(pad_size)\n",
    "\n",
    "                simu_wave[i] = np.concatenate((tmp_simu_wave, padding), axis=None)\n",
    "                \n",
    "            else:\n",
    "                simu_wave[i] = tmp_simu_wave\n",
    "            \n",
    "        print(\"Done\")\n",
    "        return simu_wave\n",
    "    \n",
    "    def get_picker(self):\n",
    "        '''\n",
    "        picker stands for index pick\n",
    "        this is for combining audio data with decided minimum and maximum size\n",
    "        '''\n",
    "        size = np.random.randint(low=self.min_sz, \n",
    "                                 high=self.max_sz+1, \n",
    "                                 size=self.create_size)\n",
    "\n",
    "        picker = np.zeros(self.create_size, dtype=np.object)\n",
    "        for i, s in enumerate(size):\n",
    "            picker[i] = np.random.choice(self.wave_shape[0]-1, size=self.max_sz, replace=False)[:s]\n",
    "            \n",
    "        return picker\n",
    "\n",
    "    def simulate_label(self, labels):\n",
    "        '''\n",
    "        method for simulating label inputs which will concatenate labels following simulated waves\n",
    "        \n",
    "        Args:\n",
    "            labels: input labels following with audio dataset\n",
    "        '''\n",
    "        print(\"Label Simulation ... \", end=\"\")\n",
    "        \n",
    "        simu_label = np.zeros(self.create_size, dtype=np.object)\n",
    "        for i, picker in enumerate(self.pickers):\n",
    "            simu_label[i] = np.array([labels[p] for p in picker])\n",
    "            \n",
    "        print(\"Done\")\n",
    "        return simu_label\n",
    "\n",
    "    def simulate_phoneme(self, labels, label_dict, phoneme_dict):\n",
    "        '''\n",
    "        method for sumulating phoneme inputs\n",
    "        which will concatenate audio phonemes with labels we concated by simulate_label()\n",
    "        \n",
    "        Args:\n",
    "            labels: labels that one would like to transfer\n",
    "            label_dict: label dictionary\n",
    "            phoneme_dict: phoneme dictionary\n",
    "        '''\n",
    "        print(\"Phoneme Simulation... \", end=\"\")\n",
    "        \n",
    "        self.label_dict = label_dict\n",
    "        self.phoneme_dict = phoneme_dict\n",
    "\n",
    "        simu_phoneme = np.empty(self.create_size, dtype=np.object)\n",
    "        for i, label in enumerate(labels):\n",
    "            simu_phoneme[i] = \" \".join([self.phoneme_translator(lab) for lab in label])\n",
    "            simu_phoneme[i] = \"<start> \" + simu_phoneme[i] + \" <end>\"\n",
    "            \n",
    "        print(\"Done\")\n",
    "        return simu_phoneme\n",
    "\n",
    "    def phoneme_translator(self, input_label):\n",
    "        '''\n",
    "        translate labels to phoneme if simulate_phoneme is called\n",
    "        \n",
    "        Args:\n",
    "            input_label: label that one would like to transfer into phonemes\n",
    "        '''\n",
    "        for i, label in enumerate(self.label_dict):\n",
    "            if input_label == label:\n",
    "                return self.phoneme_dict[i]\n",
    "            \n",
    "    def tokenize(self, phoneme):\n",
    "        '''\n",
    "        with tensorflow we can simply apply Tokenizer for text(in our case, phoneme)\n",
    "        to generate phoneme outputs\n",
    "        \n",
    "        Args:\n",
    "            phoneme: phoneme string with '<start>' and '<end>'\n",
    "        '''\n",
    "        tokenizer = tf.keras.preprocessing.text.Tokenizer(filters='')\n",
    "        tokenizer.fit_on_texts(phoneme)\n",
    "        tensor = tokenizer.texts_to_sequences(phoneme)\n",
    "        tensor = tf.keras.preprocessing.sequence.pad_sequences(tensor, padding='post')\n",
    "\n",
    "        return tensor, tokenizer\n",
    "\n",
    "    def show_convert(self, tensor, tokenizer):\n",
    "        '''\n",
    "        showing case of tokenized word according to its index\n",
    "        \n",
    "        Args:\n",
    "            tensor: phoneme tensor\n",
    "            tokenizer: phoneme tokenizer\n",
    "        '''\n",
    "        print(\"\\nTOKEN\\t--->\\tWORDS\")\n",
    "        print(\"=======================\")\n",
    "        for t in tensor:\n",
    "            if t != 0:\n",
    "                print(\"{}\\t--->\\t{}\".format(t, tokenizer.index_word[t]))"
   ]
  },
  {
   "cell_type": "code",
   "execution_count": 6,
   "metadata": {
    "scrolled": true
   },
   "outputs": [
    {
     "name": "stdout",
     "output_type": "stream",
     "text": [
      "Wave Data Simulation ... Done\n",
      "Label Simulation ... Done\n",
      "Phoneme Simulation... Done\n",
      "\n",
      "Example Label Display: ['two']\n",
      "Example Phoneme Display: <start> T UW <end>\n"
     ]
    }
   ],
   "source": [
    "CREATE_SIZE = 20000\n",
    "MIN_BINDING_SIZE = 1\n",
    "MAX_BINDING_SIZE = 1\n",
    "\n",
    "preprocesser = Preprocesser(create_size=CREATE_SIZE, \n",
    "                            min_sz=MIN_BINDING_SIZE, \n",
    "                            max_sz=MAX_BINDING_SIZE, \n",
    "                            padding_type=\"white_noise\")\n",
    "\n",
    "simu_wave = preprocesser.simulate_wave(wav_array)\n",
    "simu_label = preprocesser.simulate_label(label_array)\n",
    "simu_phoneme = preprocesser.simulate_phoneme(labels=simu_label, \n",
    "                                             label_dict=phoneme_dataframe.words.values, \n",
    "                                             phoneme_dict=phoneme_dataframe.phonemes.values)\n",
    "\n",
    "print(f\"\\nExample Label Display: {simu_label[0]}\")\n",
    "print(f\"Example Phoneme Display: {simu_phoneme[0]}\")"
   ]
  },
  {
   "cell_type": "code",
   "execution_count": 7,
   "metadata": {},
   "outputs": [
    {
     "name": "stdout",
     "output_type": "stream",
     "text": [
      "Index: [10273]\n",
      "[array(['zero'], dtype='<U4')]\n",
      "['<start> Z IY R OW <end>']\n"
     ]
    },
    {
     "data": {
      "text/html": [
       "\n",
       "                <audio  controls=\"controls\" >\n",
       "                    <source src=\"data:audio/wav;base64,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\" type=\"audio/wav\" />\n",
       "                    Your browser does not support the audio element.\n",
       "                </audio>\n",
       "              "
      ],
      "text/plain": [
       "<IPython.lib.display.Audio object>"
      ]
     },
     "execution_count": 7,
     "metadata": {},
     "output_type": "execute_result"
    }
   ],
   "source": [
    "import IPython.display as ipd\n",
    "\n",
    "index = np.random.randint(len(simu_wave), size=1)\n",
    "print(f\"Index: {index}\")\n",
    "print(simu_label[index])\n",
    "print(simu_phoneme[index])\n",
    "ipd.Audio(simu_wave[index], rate=SAMPLE_RATE)"
   ]
  },
  {
   "cell_type": "code",
   "execution_count": 8,
   "metadata": {},
   "outputs": [],
   "source": [
    "class MFCC:\n",
    "    '''\n",
    "    This is the Mel-Frequency Cepstral Coefficients, MFCCs Transformation\n",
    "    including\n",
    "        1. Pre-emphasis\n",
    "        2. Framing\n",
    "        3. Hamming window\n",
    "        4. Short-time Fourier Transform\n",
    "        5. Mel triangular bandpass filters\n",
    "        6. Log energy\n",
    "        \n",
    "    not including\n",
    "        7. Discrete cosine transform\n",
    "        8. Delta cepstrum\n",
    "    '''\n",
    "    def __init__(self, alpha, frame_size, frame_stride, n_fft, n_filter, apply_delta=False):\n",
    "        '''\n",
    "        Args:\n",
    "            alpha: coefficient applied when applying pre-emphasis, usually between (0.95, 0.98)\n",
    "            frame_size: duration of one frame in second\n",
    "            frame_stride: stride duration of one frame in second\n",
    "            n_fft: decided number while applying Fast Fourier Transformation\n",
    "        '''\n",
    "        self.alpha = alpha\n",
    "        self.frame_size = frame_size\n",
    "        self.frame_stride = frame_stride\n",
    "        self.n_fft = n_fft\n",
    "        self.n_filter = n_filter\n",
    "        self.apply_delta = apply_delta\n",
    "        \n",
    "    def mfcc(self, samples, sample_rate):\n",
    "        samples_emphasized = self.pre_emphasis(samples)\n",
    "        frames, total_samples_in_frame = self.framing(samples_emphasized, sample_rate)\n",
    "        frames = self.hamming_window(frames, total_samples_in_frame)\n",
    "        power_spectrum = self.stft(frames)\n",
    "        fbank = self.filter_bank(power_spectrum, sample_rate)\n",
    "        energy = self.log_energy(fbank)\n",
    "        mfcc_features = np.column_stack((energy, fbank))\n",
    "        \n",
    "        if self.apply_delta:\n",
    "            mfcc_feat = mfcc_features.T\n",
    "            \n",
    "            d_mfcc_feat = self.delta(mfcc_feat, 2)\n",
    "            mfcc_features = np.concatenate((mfcc_feat.T, d_mfcc_feat.T), axis=1)\n",
    "\n",
    "            dd_mfcc_feat = self.delta(d_mfcc_feat, 2)\n",
    "            mfcc_features = np.concatenate((mfcc_features, dd_mfcc_feat.T), axis=1)\n",
    "\n",
    "        return mfcc_features\n",
    "    \n",
    "    def pre_emphasis(self, samples):\n",
    "        return np.append(samples[0], samples[1:] - self.alpha*samples[:-1])\n",
    "    \n",
    "    def framing(self, samples, sample_rate):\n",
    "        samples_in_frame = int(np.ceil(self.frame_size*sample_rate))                           # number of samples in one frame\n",
    "        sample_stride = int(np.ceil(self.frame_stride*sample_rate))                            # sample stride in each iteration\n",
    "        frame_num = int(np.ceil(\n",
    "            (len(samples) - samples_in_frame)/sample_stride) + 1)                              # number of iterations\n",
    "\n",
    "        padding_num = (frame_num-1)*sample_stride + samples_in_frame - len(samples)            # length for padding\n",
    "        padding = np.zeros(padding_num)                                                        # prepare the padding array\n",
    "        samples_padded = np.append(samples, padding)                                           # padded sample array\n",
    "\n",
    "        # index to pick all the overlapping samples\n",
    "        index_each_frame = np.arange(samples_in_frame)\n",
    "        index_each_stride = np.linspace(0, len(samples_padded) - samples_in_frame, frame_num).astype(np.int32)\n",
    "        index = np.tile(index_each_frame, reps=(frame_num, 1)) + np.tile(index_each_stride, reps=(samples_in_frame, 1)).T\n",
    "\n",
    "        return np.array([samples_padded[[i]] for i in index]), samples_in_frame                # frames is a 2D array\n",
    "    \n",
    "        \n",
    "    def hamming_window(self, frames, samples_in_frame):\n",
    "        # self.frames *= 0.54 - 0.46 * numpy.cos((2 * numpy.pi * n) / (self.total_samples_in_one_frame - 1))\n",
    "        frames *= np.hamming(samples_in_frame)\n",
    "        return frames\n",
    "        \n",
    "    def stft(self, frames):\n",
    "        magnitude = np.abs(np.fft.rfft(frames, n=self.n_fft))                                  # magnitude of the FFT\n",
    "        return (1.0/self.n_fft) * magnitude**2                                                 # power spectrum\n",
    "    \n",
    "    def filter_bank(self, frames, sample_rate):\n",
    "        low_freq_mel = 0\n",
    "        high_freq_mel = self.hz2mel(sample_rate/2)                                             # highest frequency of the Mel\n",
    "        mel_points = np.linspace(low_freq_mel, high_freq_mel, self.n_filter+2)                 # Equally spaced in Mel scale\n",
    "        bins = np.floor((self.n_fft+1) * self.mel2hz(mel_points) / sample_rate)                # bins for FFT\n",
    "        \n",
    "        fbank = np.zeros((self.n_filter, self.n_fft//2 + 1))\n",
    "        for j in range(self.n_filter):\n",
    "            for i in range(int(bins[j]), int(bins[j+1])):\n",
    "                fbank[j, i] = (i - bins[j]) / (bins[j+1] - bins[j])\n",
    "            for i in range(int(bins[j+1]), int(bins[j+2])):\n",
    "                fbank[j, i] = (bins[j+2] - i) / (bins[j+2] - bins[j+1])\n",
    "        \n",
    "        mel_fbanks = np.dot(frames, fbank.T)\n",
    "        mel_fbanks = np.where(mel_fbanks == 0, np.finfo(float).eps, mel_fbanks)\n",
    "        mel_fbanks = 20 * np.log10(mel_fbanks)                                                 # dB\n",
    "        \n",
    "        return mel_fbanks\n",
    "        \n",
    "    def log_energy(self, mel_fbanks):\n",
    "        return np.log(np.sum(mel_fbanks**2, axis=1))\n",
    "\n",
    "    def hz2mel(self, hz):\n",
    "        return 2595 * np.log10(1 + hz/700)  # Convert Hz to Mel\n",
    "    \n",
    "    def mel2hz(self, mel):\n",
    "        return 700 * (10**(mel/2595.0) - 1) # Convert Mel to Hz\n",
    "    \n",
    "    def delta(self, mfcc_features, neighbor_len=2):\n",
    "        denominator = 2 * sum([i**2 for i in np.arange(1, neighbor_len+1)])\n",
    "        delta_feat = np.empty_like(mfcc_features)\n",
    "        padded = np.pad(mfcc_features, ((neighbor_len, neighbor_len), (0, 0)), mode='edge') # padded version of feat\n",
    "        for t in range(len(mfcc_features)):\n",
    "            delta_feat[t] = np.dot(np.arange(-neighbor_len, neighbor_len+1), \n",
    "                                      padded[t : t+2*neighbor_len+1]) / denominator\n",
    "        return delta_feat"
   ]
  },
  {
   "cell_type": "code",
   "execution_count": 9,
   "metadata": {},
   "outputs": [],
   "source": [
    "class MFCCApplier:\n",
    "    '''\n",
    "    This is the MFCC applier for applying MFCC \n",
    "    and pad zeros for fitting the data into Encoder-Decoder Model with Attention\n",
    "    which we will build later\n",
    "    '''\n",
    "    def __init__(self, alpha, frame_size, frame_stride, n_fft, n_filter, apply_delta=False):\n",
    "        '''\n",
    "        Arg:\n",
    "            mfcc: build by MFCC class for transform inputs\n",
    "            decide_size: a 2^k number which will make the inputs reshape into X*decide_size\n",
    "                         which will help us build the pyramidal RNN encoder\n",
    "        '''\n",
    "        self.mfcc = MFCC(alpha=alpha, \n",
    "                         frame_size=frame_size, \n",
    "                         frame_stride=frame_stride, \n",
    "                         n_fft=n_fft, \n",
    "                         n_filter=n_filter, \n",
    "                         apply_delta=apply_delta)\n",
    "        \n",
    "        \n",
    "    def apply(self, inputs, sample_rate):\n",
    "        '''\n",
    "        Args:\n",
    "            inputs: wave data that one would like to process\n",
    "        '''\n",
    "        input_shape = inputs.shape\n",
    "        \n",
    "        sample = self.mfcc.mfcc(inputs[0, :], sample_rate)\n",
    "        sample_shape = sample.shape\n",
    "        \n",
    "        outputs = np.zeros(((input_shape[0], sample_shape[0], sample_shape[1])))\n",
    "        \n",
    "        for i in np.arange(input_shape[0]):\n",
    "            outputs[i, :, :] = self.mfcc.mfcc(inputs[i, :], sample_rate)\n",
    "            print(f\"Applying MFCC to {i+1}th case\", end=\"\\r\")\n",
    "            \n",
    "        print()\n",
    "        return outputs"
   ]
  },
  {
   "cell_type": "code",
   "execution_count": 10,
   "metadata": {},
   "outputs": [
    {
     "name": "stdout",
     "output_type": "stream",
     "text": [
      "Applying MFCC to 20000th case\n",
      "Simulated MFCC wave: (input size, time steps, MFCC dimension) (20000, 99, 39)\n"
     ]
    }
   ],
   "source": [
    "ALPHA = 0.95\n",
    "FRAME_SIZE = 0.025\n",
    "FRAME_STRIDE = 0.01\n",
    "N_FFT = 512\n",
    "N_FILTER = 12\n",
    "\n",
    "mfcc_applier = MFCCApplier(alpha=ALPHA, \n",
    "                           frame_size=FRAME_SIZE, \n",
    "                           frame_stride=FRAME_STRIDE, \n",
    "                           n_fft=N_FFT, \n",
    "                           n_filter=N_FILTER, \n",
    "                           apply_delta=True)\n",
    "\n",
    "mfcced_simu_wave = mfcc_applier.apply(simu_wave, sample_rate=SAMPLE_RATE)\n",
    "print(\"Simulated MFCC wave: (input size, time steps, MFCC dimension) {}\".format(mfcced_simu_wave.shape))"
   ]
  },
  {
   "cell_type": "code",
   "execution_count": 11,
   "metadata": {},
   "outputs": [],
   "source": [
    "def train_test_split(waves, labels, phonemes, train_size, random_seed=None):\n",
    "    total_wave_count = len(waves)\n",
    "    \n",
    "    # decide the training and validation size\n",
    "    if train_size < 1:\n",
    "        train_size = int(total_wave_count * train_size)\n",
    "    test_size = total_wave_count - train_size\n",
    "    \n",
    "    print(f\"Train Size: {train_size} Test Size: {test_size}\")\n",
    "    \n",
    "    # create a shuffled index for split training and validation\n",
    "    idx = np.arange(total_wave_count)\n",
    "    np.random.seed(seed=random_seed)\n",
    "    np.random.shuffle(idx)\n",
    "    \n",
    "    # assign memory to train dataset\n",
    "    train_wav = np.zeros(((train_size, waves.shape[1], waves.shape[2])))\n",
    "    train_lab = np.zeros(train_size, dtype=np.object)\n",
    "    train_pho = np.zeros((train_size, phonemes.shape[1]), dtype=np.int32)\n",
    "    \n",
    "    # assign memory to test dataset\n",
    "    test_wav = np.zeros(((test_size, waves.shape[1], waves.shape[2])))\n",
    "    test_lab = np.zeros(test_size, dtype=np.object)\n",
    "    test_pho = np.zeros((test_size, phonemes.shape[1]), dtype=np.int32)\n",
    "\n",
    "    # create dataset\n",
    "    train_count = 0\n",
    "    test_count = 0\n",
    "    IsTrain = True\n",
    "    print(\"Spliting Train-Test ... \", end=\"\")\n",
    "    for i in idx:\n",
    "        if IsTrain:\n",
    "            train_wav[train_count] = waves[i]\n",
    "            train_lab[train_count] = labels[i]\n",
    "            train_pho[train_count] = phonemes[i]\n",
    "        \n",
    "            train_count += 1            \n",
    "            if train_count == train_size:\n",
    "                IsTrain = False\n",
    "            continue\n",
    "        \n",
    "        test_wav[test_count] = waves[i]\n",
    "        test_lab[test_count] = labels[i]\n",
    "        test_pho[test_count] = phonemes[i]\n",
    "        \n",
    "        test_count += 1\n",
    "    \n",
    "    print(\"Done\")\n",
    "    \n",
    "    train_lab = np.array([lab for lab in train_lab])\n",
    "    test_lab = np.array([lab for lab in test_lab])\n",
    "    return (train_wav, train_lab, train_pho), (test_wav, test_lab, test_pho)"
   ]
  },
  {
   "cell_type": "code",
   "execution_count": 12,
   "metadata": {
    "scrolled": false
   },
   "outputs": [
    {
     "name": "stdout",
     "output_type": "stream",
     "text": [
      "Input Shape: (20000, 99, 39)\n",
      "Output Shape: (20000, 7)\n",
      "\n",
      "TOKEN\t--->\tWORDS\n",
      "=======================\n",
      "1\t--->\t<start>\n",
      "8\t--->\tt\n",
      "14\t--->\tuw\n",
      "2\t--->\t<end>\n",
      "\n"
     ]
    }
   ],
   "source": [
    "phoneme_tensor, phoneme_tokenizer = preprocesser.tokenize(simu_phoneme)\n",
    "\n",
    "print(\"Input Shape: {}\".format(mfcced_simu_wave.shape))\n",
    "print(\"Output Shape: {}\".format(phoneme_tensor.shape))\n",
    "\n",
    "\n",
    "for tensor in phoneme_tensor[:1]:\n",
    "    preprocesser.show_convert(tensor, phoneme_tokenizer)\n",
    "    print()"
   ]
  },
  {
   "cell_type": "code",
   "execution_count": 13,
   "metadata": {},
   "outputs": [
    {
     "name": "stdout",
     "output_type": "stream",
     "text": [
      "Train Size: 19000 Test Size: 1000\n",
      "Spliting Train-Test ... Done\n",
      "\n",
      "Train Wave Tensor Shape: (19000, 99, 39)\n",
      "Train Label Tensor Shape: (19000, 1)\n",
      "Train Phoneme Tensor Shape: (19000, 7)\n"
     ]
    }
   ],
   "source": [
    "# Split the data into size (training set, testing set) (18000, 2000)\n",
    "TRAIN_SIZE = 0.95\n",
    "\n",
    "(wav_tensor, label_tensor, phoneme_tensor), (wav_tensor_val, label_tensor_val, phoneme_tensor_val) = train_test_split(\n",
    "    mfcced_simu_wave, simu_label, phoneme_tensor, train_size=TRAIN_SIZE, random_seed=777)\n",
    "\n",
    "print()\n",
    "print(f\"Train Wave Tensor Shape: {wav_tensor.shape}\")\n",
    "print(f\"Train Label Tensor Shape: {label_tensor.shape}\")\n",
    "print(f\"Train Phoneme Tensor Shape: {phoneme_tensor.shape}\")"
   ]
  },
  {
   "cell_type": "code",
   "execution_count": 14,
   "metadata": {},
   "outputs": [],
   "source": [
    "BATCH_SIZE = 4\n",
    "LSTM_UNITS = 256\n",
    "EMBEDDING_DIM = 128\n",
    "WAV_SIZE = len(wav_tensor)\n",
    "VAL_WAV_SIZE = len(wav_tensor_val)\n",
    "PHONEME_SIZE = len(phoneme_tokenizer.word_index) + 1\n",
    "STEP_PER_EPOCH = WAV_SIZE // BATCH_SIZE\n",
    "\n",
    "wav_tensor = tf.convert_to_tensor(wav_tensor, dtype=tf.float32)\n",
    "dataset = tf.data.Dataset.from_tensor_slices((wav_tensor, phoneme_tensor)).shuffle(WAV_SIZE)\n",
    "dataset = dataset.batch(BATCH_SIZE, drop_remainder=True)\n",
    "\n",
    "wav_tensor_val = tf.convert_to_tensor(wav_tensor_val, dtype=tf.float32)\n",
    "dataset_val = tf.data.Dataset.from_tensor_slices((wav_tensor_val, phoneme_tensor_val)).shuffle(VAL_WAV_SIZE)\n",
    "\n",
    "# avoid running out of memory\n",
    "simu_wave = None\n",
    "mfcced_simu_wave = None"
   ]
  },
  {
   "cell_type": "code",
   "execution_count": 15,
   "metadata": {
    "scrolled": true
   },
   "outputs": [
    {
     "name": "stdout",
     "output_type": "stream",
     "text": [
      "Example Input Shape: (4, 99, 39)\n",
      "Example Output Shape: (4, 7)\n"
     ]
    }
   ],
   "source": [
    "example_input_batch, example_target_batch = next(iter(dataset))\n",
    "print(f\"Example Input Shape: {example_input_batch.shape}\")\n",
    "print(f\"Example Output Shape: {example_target_batch.shape}\")"
   ]
  },
  {
   "cell_type": "code",
   "execution_count": 16,
   "metadata": {},
   "outputs": [],
   "source": [
    "class ResnetIdentityBlock(tf.keras.layers.Layer):\n",
    "    def __init__(self, kernel_size, filters):\n",
    "        super(ResnetIdentityBlock, self).__init__()\n",
    "        self.filters1, self.filters2, self.filters3 = filters\n",
    "\n",
    "        self.conv1 = tf.keras.layers.Conv1D(self.filters1, 1, padding='valid')\n",
    "        self.bn1 = tf.keras.layers.BatchNormalization()\n",
    "\n",
    "        self.conv2 = tf.keras.layers.Conv1D(self.filters2, kernel_size, padding='same')\n",
    "        self.bn2 = tf.keras.layers.BatchNormalization()\n",
    "\n",
    "        self.conv3 = tf.keras.layers.Conv1D(self.filters3, 1, padding='valid')\n",
    "        self.bn3 = tf.keras.layers.BatchNormalization()\n",
    "\n",
    "    def call(self, input_tensor, training=False):\n",
    "        x = self.conv1(input_tensor)\n",
    "        x = self.bn1(x, training=training)\n",
    "        x = tf.nn.relu(x)\n",
    "\n",
    "        x = self.conv2(x)\n",
    "        x = self.bn2(x, training=training)\n",
    "        x = tf.nn.relu(x)\n",
    "\n",
    "        x = self.conv3(x)\n",
    "        x = self.bn3(x, training=training)\n",
    "\n",
    "        x += input_tensor\n",
    "        return tf.nn.relu(x)"
   ]
  },
  {
   "cell_type": "code",
   "execution_count": 17,
   "metadata": {},
   "outputs": [
    {
     "name": "stdout",
     "output_type": "stream",
     "text": [
      "Attention result shape: (batch size, units) (4, 99, 39)\n"
     ]
    }
   ],
   "source": [
    "resnet_block = ResnetIdentityBlock(32, [1, 2, example_input_batch.shape[-1]])\n",
    "resnet_output = resnet_block(example_input_batch)\n",
    "\n",
    "print(\"Attention result shape: (batch size, units) {}\".format(resnet_output.shape))"
   ]
  },
  {
   "cell_type": "code",
   "execution_count": 19,
   "metadata": {},
   "outputs": [],
   "source": [
    "# resnet_block.summary()"
   ]
  },
  {
   "cell_type": "code",
   "execution_count": 20,
   "metadata": {},
   "outputs": [],
   "source": [
    "class Encoder(tf.keras.Model):\n",
    "    '''\n",
    "    Encoder for MFCC transformed wave data\n",
    "    '''\n",
    "    def __init__(self, \n",
    "                 lstm_units, \n",
    "                 batch_sz, \n",
    "                 dropout_rate, \n",
    "                 units,\n",
    "                 squeeze_time):\n",
    "        '''\n",
    "        Args:\n",
    "            lstm_units: LSTM units number\n",
    "            batch_sz: batch size            \n",
    "            dropout_rate: layer dropout ratio\n",
    "            rnn_initial_weight: type of weight initialization\n",
    "        '''\n",
    "        super(Encoder, self).__init__()\n",
    "        self.lstm_units = lstm_units    \n",
    "        self.squeeze_time = squeeze_time\n",
    "        \n",
    "        # conv1d\n",
    "        self.feat_extract = tf.keras.layers.Dense(units=units, activation=\"relu\")\n",
    "        self.feat_dropout = tf.keras.layers.Dropout(dropout_rate)\n",
    "        \n",
    "        # ResNet\n",
    "        self.resnet1 = ResnetIdentityBlock(kernel_size=11, filters=[units, units, units])\n",
    "        \n",
    "        units *= squeeze_time\n",
    "        self.resnet2 = ResnetIdentityBlock(kernel_size=7, filters=[units, units, units])\n",
    "        \n",
    "        units *= squeeze_time\n",
    "        self.resnet3 = ResnetIdentityBlock(kernel_size=3, filters=[units, units, units])\n",
    "        \n",
    "        # Encoder lstm\n",
    "        self.enc_lstm = tf.keras.layers.LSTM(units=lstm_units, \n",
    "                                             return_sequences=True, \n",
    "                                             return_state=True, \n",
    "                                             kernel_initializer=\"lecun_normal\",\n",
    "                                             activation='tanh', \n",
    "                                             recurrent_activation='sigmoid', \n",
    "                                             recurrent_initializer='orthogonal', \n",
    "                                             dropout=dropout_rate)\n",
    "\n",
    "    def call(self, inputs):\n",
    "        '''\n",
    "        call pyramidal LSTM neural network encoder\n",
    "        \n",
    "        Args:\n",
    "            inputs: wave input\n",
    "        '''\n",
    "        x = self.feat_extract(inputs)\n",
    "        x = self.feat_dropout(x)\n",
    "\n",
    "        # ResNet\n",
    "        x = self.resnet1(x)\n",
    "        x = self.reshape_pyramidal(x)\n",
    "        \n",
    "        x = self.resnet2(x)\n",
    "        x = self.reshape_pyramidal(x)\n",
    "        \n",
    "        x = self.resnet3(x)\n",
    "        \n",
    "        # encoder output layer\n",
    "        fw_outputs, fw_state_h, fw_state_c = self.enc_lstm(x)\n",
    "            \n",
    "        return fw_outputs, fw_state_h, fw_state_c\n",
    "    \n",
    "    def reshape_pyramidal(self, outputs):\n",
    "        '''\n",
    "        After concatenating forward and backward outputs\n",
    "        return the reshaped output\n",
    "        \n",
    "        Args:\n",
    "            outputs: outputs from LSTM\n",
    "            squeeze_time: time step one would like to squeeze in pyramidal LSTM\n",
    "        '''\n",
    "        batch_size, time_steps, num_units = outputs.shape\n",
    "\n",
    "        return tf.reshape(outputs, (batch_size, -1, num_units * self.squeeze_time))    "
   ]
  },
  {
   "cell_type": "code",
   "execution_count": 21,
   "metadata": {},
   "outputs": [
    {
     "name": "stdout",
     "output_type": "stream",
     "text": [
      "Encoder output shape: (batch size, sequence length, units) (4, 11, 256)\n",
      "Encoder forward state h shape: (batch size, units) (4, 256)\n"
     ]
    }
   ],
   "source": [
    "ENCODER_DROPOUT_RATE = 0.2\n",
    "encoder = Encoder(lstm_units=LSTM_UNITS, \n",
    "                  batch_sz=BATCH_SIZE, \n",
    "                  dropout_rate=ENCODER_DROPOUT_RATE, \n",
    "                  squeeze_time=3, \n",
    "                  units=64)\n",
    "\n",
    "# If set the batch size greater than 4, memory of GPU will run out\n",
    "sample_output, fw_sample_state_h, fw_sample_state_c = encoder(example_input_batch)\n",
    "# sample_output, sample_state = encoder(example_input_batch)\n",
    "\n",
    "print ('Encoder output shape: (batch size, sequence length, units) {}'.format(sample_output.shape))\n",
    "print ('Encoder forward state h shape: (batch size, units) {}'.format(fw_sample_state_h.shape))"
   ]
  },
  {
   "cell_type": "code",
   "execution_count": 22,
   "metadata": {},
   "outputs": [
    {
     "name": "stdout",
     "output_type": "stream",
     "text": [
      "Model: \"encoder\"\n",
      "_________________________________________________________________\n",
      "Layer (type)                 Output Shape              Param #   \n",
      "=================================================================\n",
      "dense (Dense)                multiple                  2560      \n",
      "_________________________________________________________________\n",
      "dropout (Dropout)            multiple                  0         \n",
      "_________________________________________________________________\n",
      "resnet_identity_block_1 (Res multiple                  54208     \n",
      "_________________________________________________________________\n",
      "resnet_identity_block_2 (Res multiple                  334656    \n",
      "_________________________________________________________________\n",
      "resnet_identity_block_3 (Res multiple                  1667520   \n",
      "_________________________________________________________________\n",
      "lstm (LSTM)                  multiple                  852992    \n",
      "=================================================================\n",
      "Total params: 2,911,936\n",
      "Trainable params: 2,906,944\n",
      "Non-trainable params: 4,992\n",
      "_________________________________________________________________\n"
     ]
    }
   ],
   "source": [
    "encoder.summary()"
   ]
  },
  {
   "cell_type": "code",
   "execution_count": 23,
   "metadata": {},
   "outputs": [],
   "source": [
    "class LuongAttention(tf.keras.layers.Layer):\n",
    "    def __init__(self, units):\n",
    "        super(LuongAttention, self).__init__()\n",
    "        self.W1 = tf.keras.layers.Dense(units, activation=\"relu\")\n",
    "        self.W2 = tf.keras.layers.Dense(units, activation=\"relu\")\n",
    "        self.V = tf.keras.layers.Dense(1, activation=\"relu\")\n",
    "\n",
    "    def call(self, query, values):\n",
    "        # query hidden state shape == (batch_size, hidden size)\n",
    "        # query_with_time_axis shape == (batch_size, 1, hidden size)\n",
    "        # values shape == (batch_size, max_len, hidden size)\n",
    "        # we are doing this to broadcast addition along the time axis to calculate the score\n",
    "        query_with_time_axis = tf.expand_dims(query, 1)\n",
    "\n",
    "        # score shape == (batch_size, max_length, 1)\n",
    "        # we get 1 at the last axis because we are applying score to self.V\n",
    "        # the shape of the tensor before applying self.V is (batch_size, max_length, units)\n",
    "        score = self.V(tf.nn.tanh(\n",
    "            self.W1(query_with_time_axis) + self.W2(values)))\n",
    "\n",
    "        # attention_weights shape == (batch_size, max_length, 1)\n",
    "        attention_weights = tf.nn.softmax(score, axis=1)\n",
    "\n",
    "        # context_vector shape after sum == (batch_size, hidden_size)\n",
    "        context_vector = attention_weights * values\n",
    "        context_vector = tf.reduce_sum(context_vector, axis=1)\n",
    "\n",
    "        return context_vector, attention_weights"
   ]
  },
  {
   "cell_type": "code",
   "execution_count": 24,
   "metadata": {},
   "outputs": [
    {
     "name": "stdout",
     "output_type": "stream",
     "text": [
      "Attention result shape: (batch size, units) (4, 256)\n",
      "Attention weights shape: (batch_size, sequence_length, 1) (4, 11, 1)\n"
     ]
    }
   ],
   "source": [
    "attention_layer = LuongAttention(10)\n",
    "attention_result, attention_weights = attention_layer(fw_sample_state_h, sample_output)\n",
    "\n",
    "print(\"Attention result shape: (batch size, units) {}\".format(attention_result.shape))\n",
    "print(\"Attention weights shape: (batch_size, sequence_length, 1) {}\".format(attention_weights.shape))"
   ]
  },
  {
   "cell_type": "code",
   "execution_count": 25,
   "metadata": {},
   "outputs": [],
   "source": [
    "class Decoder(tf.keras.Model):\n",
    "    '''\n",
    "    Decoder for output phonemes\n",
    "    '''\n",
    "    def __init__(self, \n",
    "                 target_sz, \n",
    "                 embedding_dim, \n",
    "                 lstm_units, \n",
    "                 batch_sz, \n",
    "                 dropout_rate):\n",
    "        '''\n",
    "        Args:\n",
    "            target_sz: target size, total phoneme size in this case\n",
    "            embedding_dim: embedding dimension\n",
    "            lstm_units: LSTM units number\n",
    "            batch_sz: batch size\n",
    "            dropout_rate: dropout ratio\n",
    "            rnn_initial_weight: type of weight initialization\n",
    "        '''\n",
    "        super(Decoder, self).__init__()\n",
    "        self.batch_sz = batch_sz\n",
    "        self.target_sz = target_sz\n",
    "        self.lstm_units = lstm_units\n",
    "        self.embedding = tf.keras.layers.Embedding(target_sz, embedding_dim)\n",
    "        \n",
    "        # attention model\n",
    "        self.attention = LuongAttention(lstm_units)\n",
    "        \n",
    "        # decoder rnn            \n",
    "        self.lstm1 = tf.keras.layers.LSTM(units=lstm_units, \n",
    "                                          return_sequences=True, \n",
    "                                          return_state=True, \n",
    "                                          kernel_initializer=\"lecun_normal\",\n",
    "                                          activation='tanh',\n",
    "                                          recurrent_activation='sigmoid', \n",
    "                                          recurrent_initializer='orthogonal', \n",
    "                                          dropout=dropout_rate)\n",
    "    \n",
    "        # Fully-connected\n",
    "        self.fc1 = tf.keras.layers.Dense(64, activation=\"relu\")\n",
    "        self.fc1_dropout = tf.keras.layers.Dropout(dropout_rate)\n",
    "        \n",
    "        self.fc2 = tf.keras.layers.Dense(target_sz, activation=\"softmax\")\n",
    "        \n",
    "        # build layer info dictionary\n",
    "        self.layer_info = dict()\n",
    "\n",
    "\n",
    "    def call(self, inputs, enc_hidden_h, enc_hidden_c, enc_output):\n",
    "        '''\n",
    "        call LSTM decoder\n",
    "        \n",
    "        Args:\n",
    "            inputs: target output, following phoneme for wave data input in this case\n",
    "            enc_hidden_h: encoder hidden state h\n",
    "            enc_hidden_c: encoder hidden state c\n",
    "            enc_output: encoder outputs\n",
    "        '''\n",
    "        # x shape after passing through embedding == (batch_size, 1, embedding_dim)\n",
    "        x = self.embedding(inputs)\n",
    "\n",
    "        # enc_output shape == (batch_size, max_length, hidden_size)\n",
    "        context_vector, attention_weights = self.attention(enc_hidden_h, enc_output)\n",
    "        \n",
    "        # x shape after concatenation == (batch_size, 1, embedding_dim + hidden_size)\n",
    "        x = tf.concat([tf.expand_dims(context_vector, 1), x], axis=-1)\n",
    "\n",
    "        # passing the concatenated vector to the 2-layer LSTM (Decoder)\n",
    "        x, state_h, state_c = self.lstm1(x)\n",
    "\n",
    "        # dense layer before final predict output dense layer\n",
    "        x = tf.reshape(x, (-1, x.shape[-1]))\n",
    "        x = self.fc1(x)\n",
    "        x = self.fc1_dropout(x)\n",
    "        \n",
    "        # output shape == (batch_size, phoneme size)\n",
    "        x = self.fc2(x)\n",
    "\n",
    "        return x, (state_h, state_c), attention_weights"
   ]
  },
  {
   "cell_type": "code",
   "execution_count": 26,
   "metadata": {
    "scrolled": false
   },
   "outputs": [
    {
     "name": "stdout",
     "output_type": "stream",
     "text": [
      "Decoder output shape: (batch_size, phoneme size) (4, 22)\n"
     ]
    }
   ],
   "source": [
    "DECODER_DROPOUT_RATE = 0.2\n",
    "decoder = Decoder(target_sz=PHONEME_SIZE, \n",
    "                  embedding_dim=EMBEDDING_DIM, \n",
    "                  lstm_units=LSTM_UNITS, \n",
    "                  batch_sz=BATCH_SIZE, \n",
    "                  dropout_rate=DECODER_DROPOUT_RATE)\n",
    "\n",
    "sample_target_size = tf.random.uniform((BATCH_SIZE, 1))\n",
    "sample_decoder_output, sample_decoder_hidden, attention_weights = decoder(\n",
    "    inputs=sample_target_size, \n",
    "    enc_hidden_h=fw_sample_state_h, \n",
    "    enc_hidden_c=fw_sample_state_c, \n",
    "    enc_output=sample_output)\n",
    "\n",
    "print ('Decoder output shape: (batch_size, phoneme size) {}'.format(sample_decoder_output.shape))"
   ]
  },
  {
   "cell_type": "code",
   "execution_count": 27,
   "metadata": {},
   "outputs": [
    {
     "name": "stdout",
     "output_type": "stream",
     "text": [
      "Model: \"decoder\"\n",
      "_________________________________________________________________\n",
      "Layer (type)                 Output Shape              Param #   \n",
      "=================================================================\n",
      "embedding (Embedding)        multiple                  2816      \n",
      "_________________________________________________________________\n",
      "luong_attention_1 (LuongAtte multiple                  131841    \n",
      "_________________________________________________________________\n",
      "lstm_1 (LSTM)                multiple                  656384    \n",
      "_________________________________________________________________\n",
      "dense_7 (Dense)              multiple                  16448     \n",
      "_________________________________________________________________\n",
      "dropout_1 (Dropout)          multiple                  0         \n",
      "_________________________________________________________________\n",
      "dense_8 (Dense)              multiple                  1430      \n",
      "=================================================================\n",
      "Total params: 808,919\n",
      "Trainable params: 808,919\n",
      "Non-trainable params: 0\n",
      "_________________________________________________________________\n"
     ]
    }
   ],
   "source": [
    "decoder.summary()"
   ]
  },
  {
   "cell_type": "code",
   "execution_count": 28,
   "metadata": {},
   "outputs": [],
   "source": [
    "# adjust learning rate\n",
    "LEARNING_RATE = 0.0001\n",
    "\n",
    "'''\n",
    "Candidate optimizer:\n",
    "    1. Adam\n",
    "    2. Nadam\n",
    "    \n",
    "    the preformence of other optimizers are not good\n",
    "'''\n",
    "optimizer = tf.keras.optimizers.Adam(learning_rate=LEARNING_RATE)\n",
    "loss_object = tf.keras.losses.SparseCategoricalCrossentropy(from_logits=False, \n",
    "                                                            reduction='none')\n",
    "\n",
    "def loss_function(real, pred):\n",
    "    mask = tf.math.logical_not(tf.math.equal(real, 0))\n",
    "    loss_ = loss_object(real, pred)\n",
    "\n",
    "    mask = tf.cast(mask, dtype=loss_.dtype)\n",
    "    loss_ *= mask\n",
    "\n",
    "    return tf.math.reduce_mean(loss_)\n",
    "\n",
    "def accuracy_function(real, pred):\n",
    "    if tf.is_tensor(real):\n",
    "        real = real.numpy()\n",
    "        \n",
    "    if tf.is_tensor(pred):\n",
    "        pred = pred.numpy()\n",
    "        \n",
    "    if np.isscalar(real):\n",
    "        if real == pred:\n",
    "            return 1\n",
    "        else:\n",
    "            return 0\n",
    "    \n",
    "    length = len(real)\n",
    "    count_ = 0\n",
    "    for i in range(length):\n",
    "        if real[i] == pred[i]:\n",
    "            count_ += 1\n",
    "\n",
    "    return tf.math.reduce_sum(count_) / length"
   ]
  },
  {
   "cell_type": "code",
   "execution_count": 29,
   "metadata": {},
   "outputs": [],
   "source": [
    "# encoder = Encoder(lstm_units=LSTM_UNITS, \n",
    "#                   batch_sz=BATCH_SIZE, \n",
    "#                   dropout_rate=ENCODER_DROPOUT_RATE, \n",
    "#                   squeeze_time=3, \n",
    "#                   units=64)\n",
    "\n",
    "# decoder = Decoder(target_sz=PHONEME_SIZE, \n",
    "#                   embedding_dim=EMBEDDING_DIM, \n",
    "#                   lstm_units=LSTM_UNITS, \n",
    "#                   batch_sz=BATCH_SIZE, \n",
    "#                   dropout_rate=DECODER_DROPOUT_RATE)"
   ]
  },
  {
   "cell_type": "code",
   "execution_count": 30,
   "metadata": {},
   "outputs": [],
   "source": [
    "checkpoint_dir = './training_checkpoints/ResNet_LSTM'\n",
    "checkpoint_prefix = os.path.join(checkpoint_dir, \"ckpt\")\n",
    "checkpoint = tf.train.Checkpoint(optimizer=optimizer,\n",
    "                                 encoder=encoder,\n",
    "                                 decoder=decoder)"
   ]
  },
  {
   "cell_type": "code",
   "execution_count": 31,
   "metadata": {},
   "outputs": [],
   "source": [
    "@tf.function\n",
    "def train_step(inp, targ, targ_tokenizer):\n",
    "    loss = 0\n",
    "    acc = 0\n",
    "    \n",
    "    with tf.GradientTape() as tape:\n",
    "        # forward algorithm\n",
    "        enc_output, enc_hidden_h, enc_hidden_c = encoder(inp)\n",
    "        dec_hidden_h, dec_hidden_c = enc_hidden_h, enc_hidden_c\n",
    "        dec_input = tf.expand_dims([targ_tokenizer.word_index['<start>']] * BATCH_SIZE, 1)\n",
    "\n",
    "        # Teacher forcing - feeding the target as the next input\n",
    "        for t in range(1, targ.shape[1]):\n",
    "            # passing enc_output to the decoder\n",
    "            predictions, (dec_hidden_h, dec_hidden_c), _ = decoder(dec_input, dec_hidden_h, dec_hidden_c, enc_output)\n",
    "            \n",
    "            target_id = targ[:, t]\n",
    "            loss += loss_function(target_id, predictions)\n",
    "            \n",
    "            predicted_id = tf.math.argmax(predictions, axis=1)\n",
    "            acc += accuracy_function(target_id, predicted_id)\n",
    "\n",
    "            # using teacher forcing\n",
    "            dec_input = tf.expand_dims(targ[:, t], 1)\n",
    "    \n",
    "    # backward algorithm\n",
    "    variables = encoder.trainable_variables + decoder.trainable_variables\n",
    "    gradients = tape.gradient(loss, variables)\n",
    "    optimizer.apply_gradients(zip(gradients, variables))\n",
    "#     clipped_gradients, _ = tf.clip_by_global_norm(gradients, 5)  # clipping for avoiding gradient explosion\n",
    "#     optimizer.apply_gradients(zip(clipped_gradients, variables))\n",
    "\n",
    "    batch_loss = (loss / int(targ.shape[1]))\n",
    "    batch_accuracy = (acc / int(targ.shape[1]))\n",
    "\n",
    "    return batch_loss, batch_accuracy"
   ]
  },
  {
   "cell_type": "code",
   "execution_count": 32,
   "metadata": {},
   "outputs": [],
   "source": [
    "def validate_step(inp, targ, targ_tokenizer):\n",
    "    loss = 0\n",
    "    acc = 0\n",
    "\n",
    "    inp = tf.expand_dims(inp, 0)\n",
    "    enc_output, enc_hidden_h, enc_hidden_c = encoder(inp)\n",
    "    dec_hidden_h, dec_hidden_c = enc_hidden_h, enc_hidden_c\n",
    "    dec_input = tf.expand_dims([targ_tokenizer.word_index['<start>']], 1)\n",
    "\n",
    "    for t in range(1, targ.shape[0]):\n",
    "        predictions, (dec_hidden_h, dec_hidden_c), _ = decoder(dec_input, dec_hidden_h, dec_hidden_c, enc_output)\n",
    "        \n",
    "        target_id = targ[t]\n",
    "        loss += loss_function(target_id, predictions)\n",
    "\n",
    "        predicted_id = tf.argmax(predictions[0]).numpy()\n",
    "        acc += accuracy_function(target_id, predicted_id)\n",
    "        \n",
    "        if targ_tokenizer.index_word[predicted_id] == '<end>':\n",
    "            return loss / int(targ.shape[0]), acc / int(targ.shape[0])\n",
    "        \n",
    "        dec_input = tf.expand_dims([predicted_id], 0)\n",
    "        \n",
    "    return loss / int(targ.shape[0]), acc / int(targ.shape[0])"
   ]
  },
  {
   "cell_type": "code",
   "execution_count": 33,
   "metadata": {
    "scrolled": false
   },
   "outputs": [
    {
     "name": "stdout",
     "output_type": "stream",
     "text": [
      "Epoch: 1/20  Batch: 1000  Loss: 0.5134  Accuracy: 0.4286  Time: 209s\n",
      "Epoch: 1/20  Batch: 2000  Loss: 0.3456  Accuracy: 0.5357  Time: 382s\n",
      "Epoch: 1/20  Batch: 3000  Loss: 0.3074  Accuracy: 0.5357  Time: 556s\n",
      "Epoch: 1/20  Batch: 4000  Loss: 0.2739  Accuracy: 0.5357  Time: 728s\n",
      "Epoch: 1/20  Batch: 4750  Loss: 0.2660  Accuracy: 0.5000  Time: 858s\n",
      "\n",
      "================================\n",
      "Epoch 1/20\n",
      "Accuracy: 0.4395  Loss: 0.4772  val_acc: 0.2649  val_loss: 2.3399\n",
      "Time taken for epoch 1: 15.61 min\n",
      "Total Time taken: 15.61 min\n",
      "================================\n",
      "\n",
      "Epoch: 2/20  Batch: 1000  Loss: 0.3197  Accuracy: 0.3214  Time: 187s\n",
      "Epoch: 2/20  Batch: 2000  Loss: 0.2585  Accuracy: 0.4643  Time: 362s\n",
      "Epoch: 2/20  Batch: 3000  Loss: 0.2471  Accuracy: 0.4286  Time: 537s\n",
      "Epoch: 2/20  Batch: 4000  Loss: 0.1508  Accuracy: 0.5000  Time: 712s\n",
      "Epoch: 2/20  Batch: 4750  Loss: 0.2085  Accuracy: 0.5000  Time: 842s\n",
      "\n",
      "================================\n",
      "Epoch 2/20\n",
      "Accuracy: 0.5003  Loss: 0.2411  val_acc: 0.3260  val_loss: 2.1192\n",
      "Time taken for epoch 2: 15.31 min\n",
      "Total Time taken: 30.92 min\n",
      "================================\n",
      "\n",
      "Epoch: 3/20  Batch: 1000  Loss: 0.1412  Accuracy: 0.5714  Time: 175s\n",
      "Epoch: 3/20  Batch: 2000  Loss: 0.1602  Accuracy: 0.5714  Time: 349s\n",
      "Epoch: 3/20  Batch: 3000  Loss: 0.2609  Accuracy: 0.4286  Time: 525s\n",
      "Epoch: 3/20  Batch: 4000  Loss: 0.1249  Accuracy: 0.5714  Time: 698s\n",
      "Epoch: 3/20  Batch: 4750  Loss: 0.2037  Accuracy: 0.3929  Time: 828s\n",
      "\n",
      "================================\n",
      "Epoch 3/20\n",
      "Accuracy: 0.5232  Loss: 0.1904  val_acc: 0.4276  val_loss: 1.4304\n",
      "Time taken for epoch 3: 15.07 min\n",
      "Total Time taken: 45.99 min\n",
      "================================\n",
      "\n",
      "Epoch: 4/20  Batch: 1000  Loss: 0.0894  Accuracy: 0.6071  Time: 175s\n",
      "Epoch: 4/20  Batch: 2000  Loss: 0.0643  Accuracy: 0.5714  Time: 350s\n",
      "Epoch: 4/20  Batch: 3000  Loss: 0.0893  Accuracy: 0.5714  Time: 523s\n",
      "Epoch: 4/20  Batch: 4000  Loss: 0.0551  Accuracy: 0.5357  Time: 700s\n",
      "Epoch: 4/20  Batch: 4750  Loss: 0.1193  Accuracy: 0.5357  Time: 831s\n",
      "\n",
      "================================\n",
      "Epoch 4/20\n",
      "Accuracy: 0.5577  Loss: 0.1171  val_acc: 0.5164  val_loss: 0.7195\n",
      "Time taken for epoch 4: 15.12 min\n",
      "Total Time taken: 61.11 min\n",
      "================================\n",
      "\n",
      "Epoch: 5/20  Batch: 1000  Loss: 0.0256  Accuracy: 0.6071  Time: 178s\n",
      "Epoch: 5/20  Batch: 2000  Loss: 0.0059  Accuracy: 0.7143  Time: 356s\n",
      "Epoch: 5/20  Batch: 3000  Loss: 0.0685  Accuracy: 0.5714  Time: 530s\n",
      "Epoch: 5/20  Batch: 4000  Loss: 0.0224  Accuracy: 0.5000  Time: 706s\n",
      "Epoch: 5/20  Batch: 4750  Loss: 0.3183  Accuracy: 0.5357  Time: 837s\n",
      "\n",
      "================================\n",
      "Epoch 5/20\n",
      "Accuracy: 0.5761  Loss: 0.0740  val_acc: 0.5353  val_loss: 0.5622\n",
      "Time taken for epoch 5: 15.22 min\n",
      "Total Time taken: 76.32 min\n",
      "================================\n",
      "\n",
      "Epoch: 6/20  Batch: 1000  Loss: 0.0355  Accuracy: 0.5000  Time: 176s\n",
      "Epoch: 6/20  Batch: 2000  Loss: 0.0998  Accuracy: 0.5357  Time: 353s\n",
      "Epoch: 6/20  Batch: 3000  Loss: 0.0221  Accuracy: 0.6071  Time: 528s\n",
      "Epoch: 6/20  Batch: 4000  Loss: 0.0087  Accuracy: 0.5000  Time: 703s\n",
      "Epoch: 6/20  Batch: 4750  Loss: 0.0118  Accuracy: 0.6071  Time: 834s\n",
      "\n",
      "================================\n",
      "Epoch 6/20\n",
      "Accuracy: 0.5832  Loss: 0.0538  val_acc: 0.5350  val_loss: 0.5140\n",
      "Time taken for epoch 6: 15.15 min\n",
      "Total Time taken: 91.47 min\n",
      "================================\n",
      "\n",
      "Epoch: 7/20  Batch: 1000  Loss: 0.0038  Accuracy: 0.6429  Time: 176s\n",
      "Epoch: 7/20  Batch: 2000  Loss: 0.0103  Accuracy: 0.6429  Time: 351s\n",
      "Epoch: 7/20  Batch: 3000  Loss: 0.0393  Accuracy: 0.5357  Time: 528s\n",
      "Epoch: 7/20  Batch: 4000  Loss: 0.0526  Accuracy: 0.5357  Time: 704s\n",
      "Epoch: 7/20  Batch: 4750  Loss: 0.0146  Accuracy: 0.6786  Time: 838s\n",
      "\n",
      "================================\n",
      "Epoch 7/20\n",
      "Accuracy: 0.5854  Loss: 0.0459  val_acc: 0.5440  val_loss: 0.5114\n",
      "Time taken for epoch 7: 15.25 min\n",
      "Total Time taken: 106.72 min\n",
      "================================\n",
      "\n",
      "Epoch: 8/20  Batch: 1000  Loss: 0.0049  Accuracy: 0.5714  Time: 178s\n",
      "Epoch: 8/20  Batch: 2000  Loss: 0.1336  Accuracy: 0.6071  Time: 354s\n",
      "Epoch: 8/20  Batch: 3000  Loss: 0.0012  Accuracy: 0.6071  Time: 530s\n",
      "Epoch: 8/20  Batch: 4000  Loss: 0.0066  Accuracy: 0.6786  Time: 706s\n",
      "Epoch: 8/20  Batch: 4750  Loss: 0.0079  Accuracy: 0.5714  Time: 837s\n",
      "\n",
      "================================\n",
      "Epoch 8/20\n",
      "Accuracy: 0.5878  Loss: 0.0388  val_acc: 0.5613  val_loss: 0.3167\n",
      "Time taken for epoch 8: 15.22 min\n",
      "Total Time taken: 121.94 min\n",
      "================================\n",
      "\n",
      "Epoch: 9/20  Batch: 1000  Loss: 0.0437  Accuracy: 0.5357  Time: 175s\n",
      "Epoch: 9/20  Batch: 2000  Loss: 0.0022  Accuracy: 0.6429  Time: 351s\n",
      "Epoch: 9/20  Batch: 3000  Loss: 0.0019  Accuracy: 0.6071  Time: 526s\n",
      "Epoch: 9/20  Batch: 4000  Loss: 0.0591  Accuracy: 0.5357  Time: 700s\n",
      "Epoch: 9/20  Batch: 4750  Loss: 0.0741  Accuracy: 0.5000  Time: 831s\n",
      "\n",
      "================================\n",
      "Epoch 9/20\n",
      "Accuracy: 0.5887  Loss: 0.0353  val_acc: 0.5563  val_loss: 0.3738\n",
      "Time taken for epoch 9: 15.12 min\n",
      "Total Time taken: 137.06 min\n",
      "================================\n",
      "\n",
      "Epoch: 10/20  Batch: 1000  Loss: 0.0514  Accuracy: 0.5357  Time: 177s\n",
      "Epoch: 10/20  Batch: 2000  Loss: 0.1318  Accuracy: 0.5000  Time: 353s\n",
      "Epoch: 10/20  Batch: 3000  Loss: 0.0059  Accuracy: 0.5714  Time: 528s\n",
      "Epoch: 10/20  Batch: 4000  Loss: 0.0019  Accuracy: 0.6071  Time: 703s\n",
      "Epoch: 10/20  Batch: 4750  Loss: 0.0491  Accuracy: 0.6071  Time: 834s\n",
      "\n",
      "================================\n",
      "Epoch 10/20\n",
      "Accuracy: 0.5899  Loss: 0.0318  val_acc: 0.5539  val_loss: 0.3812\n",
      "Time taken for epoch 10: 15.16 min\n",
      "Total Time taken: 152.22 min\n",
      "================================\n",
      "\n",
      "Epoch: 11/20  Batch: 1000  Loss: 0.0380  Accuracy: 0.5714  Time: 176s\n",
      "Epoch: 11/20  Batch: 2000  Loss: 0.0187  Accuracy: 0.6071  Time: 352s\n",
      "Epoch: 11/20  Batch: 3000  Loss: 0.0076  Accuracy: 0.5714  Time: 526s\n",
      "Epoch: 11/20  Batch: 4000  Loss: 0.1384  Accuracy: 0.4643  Time: 701s\n",
      "Epoch: 11/20  Batch: 4750  Loss: 0.0070  Accuracy: 0.5357  Time: 833s\n",
      "\n",
      "================================\n",
      "Epoch 11/20\n",
      "Accuracy: 0.5906  Loss: 0.0295  val_acc: 0.5439  val_loss: 0.5180\n",
      "Time taken for epoch 11: 15.16 min\n",
      "Total Time taken: 167.39 min\n",
      "================================\n",
      "\n",
      "Epoch: 12/20  Batch: 1000  Loss: 0.0029  Accuracy: 0.5714  Time: 176s\n",
      "Epoch: 12/20  Batch: 2000  Loss: 0.0160  Accuracy: 0.6429  Time: 351s\n",
      "Epoch: 12/20  Batch: 3000  Loss: 0.1535  Accuracy: 0.4286  Time: 526s\n",
      "Epoch: 12/20  Batch: 4000  Loss: 0.0022  Accuracy: 0.5714  Time: 701s\n",
      "Epoch: 12/20  Batch: 4750  Loss: 0.0022  Accuracy: 0.6786  Time: 833s\n",
      "\n",
      "================================\n",
      "Epoch 12/20\n",
      "Accuracy: 0.5911  Loss: 0.0276  val_acc: 0.5501  val_loss: 0.4606\n",
      "Time taken for epoch 12: 15.16 min\n",
      "Total Time taken: 182.55 min\n",
      "================================\n",
      "\n",
      "Epoch: 13/20  Batch: 1000  Loss: 0.0041  Accuracy: 0.5714  Time: 176s\n",
      "Epoch: 13/20  Batch: 2000  Loss: 0.0546  Accuracy: 0.4643  Time: 352s\n",
      "Epoch: 13/20  Batch: 3000  Loss: 0.0747  Accuracy: 0.6429  Time: 528s\n",
      "Epoch: 13/20  Batch: 4000  Loss: 0.0129  Accuracy: 0.6071  Time: 704s\n",
      "Epoch: 13/20  Batch: 4750  Loss: 0.0005  Accuracy: 0.6429  Time: 836s\n",
      "\n",
      "================================\n",
      "Epoch 13/20\n",
      "Accuracy: 0.5915  Loss: 0.0262  val_acc: 0.5643  val_loss: 0.3005\n",
      "Time taken for epoch 13: 15.27 min\n",
      "Total Time taken: 197.82 min\n",
      "================================\n",
      "\n",
      "Epoch: 14/20  Batch: 1000  Loss: 0.0012  Accuracy: 0.6429  Time: 177s\n",
      "Epoch: 14/20  Batch: 2000  Loss: 0.0008  Accuracy: 0.6429  Time: 353s\n",
      "Epoch: 14/20  Batch: 3000  Loss: 0.0057  Accuracy: 0.6071  Time: 529s\n",
      "Epoch: 14/20  Batch: 4000  Loss: 0.0002  Accuracy: 0.5714  Time: 705s\n",
      "Epoch: 14/20  Batch: 4750  Loss: 0.0208  Accuracy: 0.6071  Time: 837s\n",
      "\n",
      "================================\n",
      "Epoch 14/20\n",
      "Accuracy: 0.5926  Loss: 0.0230  val_acc: 0.5620  val_loss: 0.3044\n",
      "Time taken for epoch 14: 15.20 min\n",
      "Total Time taken: 213.02 min\n",
      "================================\n",
      "\n",
      "Epoch: 15/20  Batch: 1000  Loss: 0.0084  Accuracy: 0.7143  Time: 177s\n",
      "Epoch: 15/20  Batch: 2000  Loss: 0.0001  Accuracy: 0.7143  Time: 353s\n",
      "Epoch: 15/20  Batch: 3000  Loss: 0.0005  Accuracy: 0.4286  Time: 529s\n",
      "Epoch: 15/20  Batch: 4000  Loss: 0.0035  Accuracy: 0.5714  Time: 706s\n",
      "Epoch: 15/20  Batch: 4750  Loss: 0.0009  Accuracy: 0.5357  Time: 862s\n",
      "\n",
      "================================\n",
      "Epoch 15/20\n",
      "Accuracy: 0.5924  Loss: 0.0231  val_acc: 0.5640  val_loss: 0.2870\n",
      "Time taken for epoch 15: 15.71 min\n",
      "Total Time taken: 228.74 min\n",
      "================================\n",
      "\n"
     ]
    },
    {
     "name": "stdout",
     "output_type": "stream",
     "text": [
      "Epoch: 16/20  Batch: 1000  Loss: 0.0928  Accuracy: 0.5000  Time: 177s\n",
      "Epoch: 16/20  Batch: 2000  Loss: 0.0004  Accuracy: 0.4643  Time: 353s\n",
      "Epoch: 16/20  Batch: 3000  Loss: 0.0011  Accuracy: 0.6071  Time: 528s\n",
      "Epoch: 16/20  Batch: 4000  Loss: 0.1766  Accuracy: 0.5000  Time: 704s\n",
      "Epoch: 16/20  Batch: 4750  Loss: 0.0027  Accuracy: 0.6071  Time: 837s\n",
      "\n",
      "================================\n",
      "Epoch 16/20\n",
      "Accuracy: 0.5930  Loss: 0.0216  val_acc: 0.5704  val_loss: 0.2458\n",
      "Time taken for epoch 16: 15.20 min\n",
      "Total Time taken: 243.94 min\n",
      "================================\n",
      "\n",
      "Epoch: 17/20  Batch: 1000  Loss: 0.1267  Accuracy: 0.5000  Time: 177s\n",
      "Epoch: 17/20  Batch: 2000  Loss: 0.0023  Accuracy: 0.5000  Time: 355s\n",
      "Epoch: 17/20  Batch: 3000  Loss: 0.0019  Accuracy: 0.7500  Time: 533s\n",
      "Epoch: 17/20  Batch: 4000  Loss: 0.0002  Accuracy: 0.7500  Time: 712s\n",
      "Epoch: 17/20  Batch: 4750  Loss: 0.1109  Accuracy: 0.5357  Time: 845s\n",
      "\n",
      "================================\n",
      "Epoch 17/20\n",
      "Accuracy: 0.5933  Loss: 0.0206  val_acc: 0.5671  val_loss: 0.2818\n",
      "Time taken for epoch 17: 15.36 min\n",
      "Total Time taken: 259.30 min\n",
      "================================\n",
      "\n",
      "Epoch: 18/20  Batch: 1000  Loss: 0.0058  Accuracy: 0.5357  Time: 178s\n",
      "Epoch: 18/20  Batch: 2000  Loss: 0.0016  Accuracy: 0.5714  Time: 354s\n",
      "Epoch: 18/20  Batch: 3000  Loss: 0.0003  Accuracy: 0.6071  Time: 532s\n",
      "Epoch: 18/20  Batch: 4000  Loss: 0.0004  Accuracy: 0.5000  Time: 708s\n",
      "Epoch: 18/20  Batch: 4750  Loss: 0.0036  Accuracy: 0.5357  Time: 840s\n",
      "\n",
      "================================\n",
      "Epoch 18/20\n",
      "Accuracy: 0.5930  Loss: 0.0218  val_acc: 0.5714  val_loss: 0.2441\n",
      "Time taken for epoch 18: 15.26 min\n",
      "Total Time taken: 274.57 min\n",
      "================================\n",
      "\n",
      "Epoch: 19/20  Batch: 1000  Loss: 0.0001  Accuracy: 0.6071  Time: 178s\n",
      "Epoch: 19/20  Batch: 2000  Loss: 0.0040  Accuracy: 0.6429  Time: 356s\n",
      "Epoch: 19/20  Batch: 3000  Loss: 0.0029  Accuracy: 0.6429  Time: 532s\n",
      "Epoch: 19/20  Batch: 4000  Loss: 0.0699  Accuracy: 0.6429  Time: 708s\n",
      "Epoch: 19/20  Batch: 4750  Loss: 0.0001  Accuracy: 0.5357  Time: 840s\n",
      "\n",
      "================================\n",
      "Epoch 19/20\n",
      "Accuracy: 0.5932  Loss: 0.0208  val_acc: 0.5666  val_loss: 0.2726\n",
      "Time taken for epoch 19: 15.28 min\n",
      "Total Time taken: 289.84 min\n",
      "================================\n",
      "\n",
      "Epoch: 20/20  Batch: 1000  Loss: 0.0009  Accuracy: 0.5357  Time: 178s\n",
      "Epoch: 20/20  Batch: 2000  Loss: 0.0002  Accuracy: 0.5714  Time: 354s\n",
      "Epoch: 20/20  Batch: 3000  Loss: 0.0005  Accuracy: 0.5357  Time: 531s\n",
      "Epoch: 20/20  Batch: 4000  Loss: 0.0005  Accuracy: 0.6786  Time: 707s\n",
      "Epoch: 20/20  Batch: 4750  Loss: 0.0007  Accuracy: 0.6429  Time: 840s\n",
      "\n",
      "================================\n",
      "Epoch 20/20\n",
      "Accuracy: 0.5934  Loss: 0.0197  val_acc: 0.5680  val_loss: 0.2765\n",
      "Time taken for epoch 20: 15.27 min\n",
      "Total Time taken: 305.11 min\n",
      "================================\n",
      "\n"
     ]
    }
   ],
   "source": [
    "# run eagerly will make tensorflow run step by step or else it will raise\n",
    "# ValueError: tf.function-decorated function tried to create variables on non-first call.\n",
    "# similar to Pytorch, which is a dynamic graph for deep learning\n",
    "tf.config.experimental_run_functions_eagerly(True)\n",
    "\n",
    "EPOCHS = 20\n",
    "TOLERANCE = 0.02\n",
    "\n",
    "start = time.time()\n",
    "for epoch in range(1, EPOCHS+1):\n",
    "    epoch_start = time.time()\n",
    "    \n",
    "    # train the encoder-decoder model\n",
    "    batch = 0\n",
    "    total_loss = 0\n",
    "    total_accuracy = 0\n",
    "    for inp, targ in dataset.take(STEP_PER_EPOCH):\n",
    "        batch += 1\n",
    "        \n",
    "        batch_loss, batch_accuracy = train_step(inp, targ, phoneme_tokenizer)\n",
    "        total_loss += batch_loss\n",
    "        total_accuracy += batch_accuracy\n",
    "            \n",
    "        print(\"Epoch: {}/{}  Batch: {}  Loss: {:.4f}  Accuracy: {:.4f}  Time: {:.0f}s\".\n",
    "              format(epoch, EPOCHS, batch, batch_loss.numpy(), batch_accuracy.numpy(), time.time()-epoch_start), \n",
    "              end=\"\\r\")\n",
    "        \n",
    "        if batch % 1000 == 0:\n",
    "            print()\n",
    "    print()\n",
    "    # saving (checkpoint) the model when total loss is less than 0.9\n",
    "    checkpoint.save(file_prefix=checkpoint_prefix)\n",
    "    \n",
    "    # validation process\n",
    "    total_val_loss = 0\n",
    "    total_val_acc = 0\n",
    "    for val_inp, val_targ in dataset_val.take(VAL_WAV_SIZE):\n",
    "        val_loss, val_acc = validate_step(val_inp, val_targ, phoneme_tokenizer)\n",
    "        total_val_loss += val_loss\n",
    "        total_val_acc += val_acc\n",
    "\n",
    "    # print out the epoch results\n",
    "    mean_total_acc = total_accuracy / STEP_PER_EPOCH\n",
    "    mean_total_loss = total_loss / STEP_PER_EPOCH\n",
    "    \n",
    "    mean_val_acc = total_val_acc / VAL_WAV_SIZE\n",
    "    mean_val_loss = total_val_loss / VAL_WAV_SIZE\n",
    "    \n",
    "    print(\"\\n================================\")\n",
    "    print(\"Epoch {}/{}\".format(epoch, EPOCHS))\n",
    "    print('Accuracy: {:.4f}  Loss: {:.4f}  val_acc: {:.4f}  val_loss: {:.4f}'.format(\n",
    "        mean_total_acc, \n",
    "        mean_total_loss, \n",
    "        mean_val_acc,\n",
    "        mean_val_loss))\n",
    "    print('Time taken for epoch {}: {:.2f} min'.format(epoch, (time.time() - epoch_start)/60))\n",
    "    print('Total Time taken: {:.2f} min'.format((time.time() - start)/60))\n",
    "    print(\"================================\\n\")\n",
    "    \n",
    "    if mean_total_loss < TOLERANCE and mean_val_acc > 0.5:\n",
    "        break"
   ]
  },
  {
   "cell_type": "code",
   "execution_count": 34,
   "metadata": {},
   "outputs": [],
   "source": [
    "def predict(inputs, max_input_len, max_output_len, tokenizer):\n",
    "    inputs = tf.expand_dims(inputs, 0)\n",
    "    inputs = tf.convert_to_tensor(inputs)\n",
    "    result = ''\n",
    "    \n",
    "    \n",
    "    enc_out, enc_hidden_h, enc_hidden_c = encoder(inputs)\n",
    "    dec_hidden_h, dec_hidden_c = enc_hidden_h, enc_hidden_c\n",
    "    dec_input = tf.expand_dims([tokenizer.word_index['<start>']], 0)\n",
    "\n",
    "    attention_plot = np.zeros((max_output_len, max_input_len))\n",
    "    predicted_ids = np.zeros(max_output_len, dtype=np.int32)\n",
    "    for t in np.arange(max_output_len):\n",
    "        predictions, dec_hidden, attention_weights = decoder(\n",
    "            inputs=dec_input, \n",
    "            enc_hidden_h=dec_hidden_h, \n",
    "            enc_hidden_c=dec_hidden_c, \n",
    "            enc_output=enc_out)\n",
    "\n",
    "        # storing the attention weights to plot later on\n",
    "        attention_weights = tf.reshape(attention_weights, (-1, ))\n",
    "        attention_plot[t] = attention_weights.numpy()\n",
    "\n",
    "        pred_id = tf.argmax(predictions[0]).numpy()\n",
    "        predicted_ids[t] = pred_id\n",
    "\n",
    "        result += tokenizer.index_word[pred_id] + ' '\n",
    "\n",
    "        if tokenizer.index_word[pred_id] == '<end>':\n",
    "            return result, predicted_ids, attention_plot\n",
    "\n",
    "        # the predicted ID is fed back into the model\n",
    "        dec_input = tf.expand_dims([pred_id], 0)\n",
    "\n",
    "    return result, predicted_ids, attention_plot"
   ]
  },
  {
   "cell_type": "code",
   "execution_count": 35,
   "metadata": {},
   "outputs": [],
   "source": [
    "# function for plotting the attention weights\n",
    "def plot_attention(attention, input_wav, output_phoneme):\n",
    "    fig = plt.figure(figsize=(10, 10))\n",
    "    ax = fig.add_subplot(1, 1, 1)\n",
    "    ax.matshow(attention, cmap='viridis')\n",
    "\n",
    "    fontdict = {'fontsize': 14}\n",
    "#     ax.set_yticklabels([''] + output_phoneme, fontdict=fontdict)\n",
    "    ax.set_yticklabels(\"\", fontdict=fontdict)\n",
    "    \n",
    "#     ax.xaxis.set_major_locator(ticker.MultipleLocator(1))\n",
    "    ax.yaxis.set_major_locator(ticker.MultipleLocator(1))\n",
    "\n",
    "    plt.show()"
   ]
  },
  {
   "cell_type": "code",
   "execution_count": 36,
   "metadata": {},
   "outputs": [],
   "source": [
    "def translate(wave, max_in, max_out, tokenizer):\n",
    "    result, _, attention_plot = predict(wave, max_in, max_out, tokenizer)\n",
    "    print(f'Predicted translation: {result}')\n",
    "\n",
    "#     attention_plot = attention_plot[:len(result.split(' ')), :50]\n",
    "#     plot_attention(attention_plot, np.arange(len(wave)), result.split(' '))\n",
    "    \n",
    "    attention_plot = attention_plot[:1, :50]\n",
    "    plot_attention(attention_plot, np.arange(len(wave)), result.split(' '))"
   ]
  },
  {
   "cell_type": "code",
   "execution_count": 37,
   "metadata": {},
   "outputs": [
    {
     "data": {
      "text/plain": [
       "<tensorflow.python.training.tracking.util.CheckpointLoadStatus at 0x222ef2fd828>"
      ]
     },
     "execution_count": 37,
     "metadata": {},
     "output_type": "execute_result"
    }
   ],
   "source": [
    "# restoring the latest checkpoint in checkpoint_dir\n",
    "checkpoint.restore(tf.train.latest_checkpoint(checkpoint_dir))"
   ]
  },
  {
   "cell_type": "code",
   "execution_count": 38,
   "metadata": {
    "scrolled": false
   },
   "outputs": [
    {
     "name": "stdout",
     "output_type": "stream",
     "text": [
      "Index: [972]\n",
      "Predicted translation: f ao r iy r iy \n"
     ]
    },
    {
     "data": {
      "image/png": "[encoded data removed]",
      "text/plain": [
       "<Figure size 720x720 with 1 Axes>"
      ]
     },
     "metadata": {
      "needs_background": "light"
     },
     "output_type": "display_data"
    },
    {
     "name": "stdout",
     "output_type": "stream",
     "text": [
      "\n",
      "TOKEN\t--->\tWORDS\n",
      "=======================\n",
      "1\t--->\t<start>\n",
      "6\t--->\tf\n",
      "15\t--->\tao\n",
      "4\t--->\tr\n",
      "2\t--->\t<end>\n"
     ]
    }
   ],
   "source": [
    "# testing with test wave data\n",
    "index = [i for i in np.random.randint(len(wav_tensor_val), size=1)]\n",
    "print(f\"Index: {index}\")\n",
    "test_wave = wav_tensor_val[index]\n",
    "test_phoneme = phoneme_tensor_val[index, :]\n",
    "\n",
    "max_input_length = sample_output.shape[1]\n",
    "max_output_length = test_phoneme.shape[1] - 1 # minus the '<start>' since it won't show up in prediction\n",
    "\n",
    "translate(test_wave, max_input_length, max_output_length, phoneme_tokenizer)\n",
    "for tensor in test_phoneme:\n",
    "    preprocesser.show_convert(tensor, phoneme_tokenizer)"
   ]
  },
  {
   "cell_type": "code",
   "execution_count": 39,
   "metadata": {},
   "outputs": [
    {
     "name": "stdout",
     "output_type": "stream",
     "text": [
      "Classes: ['eight' 'five' 'four' 'nine' 'one' 'seven' 'six' 'three' 'two' 'zero']\n",
      "Classes integer: [0 1 2 3 4 5 6 7 8 9]\n"
     ]
    }
   ],
   "source": [
    "from sklearn.preprocessing import LabelEncoder\n",
    "\n",
    "label_tensor = np.array([label for label in label_tensor])\n",
    "label_tensor_val = np.array([label for label in label_tensor_val])\n",
    "le = LabelEncoder().fit(label_tensor)\n",
    "print(f\"Classes: {le.classes_}\")\n",
    "print(f\"Classes integer: {le.transform(le.classes_)}\")\n",
    "\n",
    "labels = le.transform(label_tensor)\n",
    "# labels_val = le.transform(label_tensor_val)"
   ]
  },
  {
   "cell_type": "code",
   "execution_count": 41,
   "metadata": {
    "scrolled": true
   },
   "outputs": [
    {
     "name": "stdout",
     "output_type": "stream",
     "text": [
      "predicting 19000th wave tensor - time 42.42 min\r"
     ]
    }
   ],
   "source": [
    "start = time.time()\n",
    "\n",
    "total_iter = len(wav_tensor)\n",
    "pred_id = np.zeros((total_iter, max_output_length))\n",
    "for i in range(total_iter):\n",
    "    _, IDs, _ = predict(wav_tensor[i], max_input_length, max_output_length, phoneme_tokenizer)\n",
    "    pred_id[i] = IDs.astype(np.int32)\n",
    "    \n",
    "    time_consumed = (time.time() - start) / 60\n",
    "    print(\"predicting {}th wave tensor - time {:.2f} min\".format(i+1, time_consumed), end=\"\\r\")"
   ]
  },
  {
   "cell_type": "code",
   "execution_count": 42,
   "metadata": {},
   "outputs": [
    {
     "name": "stdout",
     "output_type": "stream",
     "text": [
      "predicting 1000th wave tensor - time 1.35 min\r"
     ]
    }
   ],
   "source": [
    "start = time.time()\n",
    "\n",
    "total_iter_val = len(wav_tensor_val)\n",
    "pred_id_val = np.zeros((total_iter_val, max_output_length))\n",
    "for i in range(total_iter_val):\n",
    "    _, IDs, _ = predict(wav_tensor_val[i], max_input_length, max_output_length, phoneme_tokenizer)\n",
    "    pred_id_val[i] = IDs.astype(np.int32)\n",
    "    \n",
    "    time_consumed = (time.time() - start) / 60\n",
    "    print(\"predicting {}th wave tensor - time {:.2f} min\".format(i+1, time_consumed), end=\"\\r\")"
   ]
  },
  {
   "cell_type": "code",
   "execution_count": 43,
   "metadata": {},
   "outputs": [
    {
     "name": "stdout",
     "output_type": "stream",
     "text": [
      "Model: \"sequential\"\n",
      "_________________________________________________________________\n",
      "Layer (type)                 Output Shape              Param #   \n",
      "=================================================================\n",
      "embedding_1 (Embedding)      (None, None, 256)         5632      \n",
      "_________________________________________________________________\n",
      "global_average_pooling1d (Gl (None, 256)               0         \n",
      "_________________________________________________________________\n",
      "dense_9 (Dense)              (None, 10)                2570      \n",
      "=================================================================\n",
      "Total params: 8,202\n",
      "Trainable params: 8,202\n",
      "Non-trainable params: 0\n",
      "_________________________________________________________________\n"
     ]
    }
   ],
   "source": [
    "# max_output_length = 6\n",
    "phoneme2label = tf.keras.Sequential([\n",
    "    tf.keras.layers.Embedding(len(phoneme_tokenizer.word_index)+1, 256), \n",
    "    tf.keras.layers.GlobalAveragePooling1D(),\n",
    "    tf.keras.layers.Dense(10, activation=\"softmax\"),\n",
    "])\n",
    "\n",
    "phoneme2label.compile(loss='sparse_categorical_crossentropy', \n",
    "                      optimizer='adam', \n",
    "                      metrics=['accuracy'])\n",
    "\n",
    "phoneme2label.summary()"
   ]
  },
  {
   "cell_type": "code",
   "execution_count": 44,
   "metadata": {},
   "outputs": [
    {
     "name": "stdout",
     "output_type": "stream",
     "text": [
      "Input:\n",
      " [[21.  4.  7.  4.  7.  4.]\n",
      " [ 6.  9. 10. 11.  3.  9.]\n",
      " [20. 11.  7.  7.  7.  7.]\n",
      " ...\n",
      " [16.  8. 14.  9. 10. 11.]\n",
      " [12.  7.  4.  7.  4.  7.]\n",
      " [ 3.  9. 10. 11.  3.  9.]]\n",
      "\n",
      "Target:\n",
      " [7 1 4 ... 0 9 3]\n"
     ]
    }
   ],
   "source": [
    "print(f\"Input:\\n {pred_id}\")\n",
    "print()\n",
    "print(f\"Target:\\n {labels}\")"
   ]
  },
  {
   "cell_type": "code",
   "execution_count": 45,
   "metadata": {
    "scrolled": false
   },
   "outputs": [
    {
     "name": "stdout",
     "output_type": "stream",
     "text": [
      "Train on 15200 samples, validate on 3800 samples\n",
      "Epoch 1/5\n",
      "15200/15200 [==============================] - 9s 568us/sample - loss: 0.6466 - accuracy: 0.9273 - val_loss: 0.1848 - val_accuracy: 0.9734\n",
      "Epoch 2/5\n",
      "15200/15200 [==============================] - 8s 556us/sample - loss: 0.2127 - accuracy: 0.9644 - val_loss: 0.1555 - val_accuracy: 0.9734\n",
      "Epoch 3/5\n",
      "15200/15200 [==============================] - 8s 554us/sample - loss: 0.2005 - accuracy: 0.9643 - val_loss: 0.1484 - val_accuracy: 0.9737\n",
      "Epoch 4/5\n",
      "15200/15200 [==============================] - 8s 554us/sample - loss: 0.1958 - accuracy: 0.9643 - val_loss: 0.1458 - val_accuracy: 0.9737\n",
      "Epoch 5/5\n",
      "15200/15200 [==============================] - 9s 604us/sample - loss: 0.1925 - accuracy: 0.9644 - val_loss: 0.1447 - val_accuracy: 0.9737\n"
     ]
    }
   ],
   "source": [
    "history = phoneme2label.fit(pred_id, \n",
    "                            labels, \n",
    "                            epochs=5, \n",
    "                            validation_split=0.2, \n",
    "                            shuffle=True)"
   ]
  },
  {
   "cell_type": "code",
   "execution_count": 46,
   "metadata": {},
   "outputs": [],
   "source": [
    "def AccLossPlot(TrainHistory):    \n",
    "    acc = TrainHistory.history['accuracy']\n",
    "    val_acc = TrainHistory.history['val_accuracy']\n",
    "\n",
    "    loss = TrainHistory.history['loss']\n",
    "    val_loss = TrainHistory.history['val_loss']\n",
    "\n",
    "    epochs_range = range(len(acc))\n",
    "\n",
    "    plt.figure(figsize=(12, 4))\n",
    "    plt.subplot(1, 2, 1)\n",
    "    plt.plot(epochs_range, acc, label='Training Accuracy')\n",
    "    plt.plot(epochs_range, val_acc, label='Validation Accuracy')\n",
    "    plt.legend(loc='lower right')\n",
    "    plt.title('Training and Validation Accuracy')\n",
    "\n",
    "    plt.subplot(1, 2, 2)\n",
    "    plt.plot(epochs_range, loss, label='Training Loss')\n",
    "    plt.plot(epochs_range, val_loss, label='Validation Loss')\n",
    "    plt.legend(loc='upper right')\n",
    "    plt.title('Training and Validation Loss')\n",
    "    plt.show()"
   ]
  },
  {
   "cell_type": "code",
   "execution_count": 47,
   "metadata": {
    "scrolled": false
   },
   "outputs": [
    {
     "data": {
      "image/png": "[encoded data removed]",
      "text/plain": [
       "<Figure size 864x288 with 2 Axes>"
      ]
     },
     "metadata": {
      "needs_background": "light"
     },
     "output_type": "display_data"
    }
   ],
   "source": [
    "AccLossPlot(history)"
   ]
  },
  {
   "cell_type": "code",
   "execution_count": 48,
   "metadata": {},
   "outputs": [],
   "source": [
    "# predict the labels\n",
    "pred_label = np.argmax(phoneme2label.predict(pred_id_val), 1)\n",
    "\n",
    "# plot the confusion\n",
    "pred_label = le.inverse_transform(pred_label)\n",
    "label_tensor_val = label_tensor_val.reshape(label_tensor_val.shape[0], )"
   ]
  },
  {
   "cell_type": "code",
   "execution_count": 49,
   "metadata": {},
   "outputs": [
    {
     "data": {
      "text/plain": [
       "<matplotlib.axes._subplots.AxesSubplot at 0x224a4c400f0>"
      ]
     },
     "execution_count": 49,
     "metadata": {},
     "output_type": "execute_result"
    },
    {
     "data": {
      "image/png": "[encoded data removed]",
      "text/plain": [
       "<Figure size 720x720 with 2 Axes>"
      ]
     },
     "metadata": {
      "needs_background": "light"
     },
     "output_type": "display_data"
    }
   ],
   "source": [
    "from scikitplot.metrics import plot_confusion_matrix\n",
    "\n",
    "plot_confusion_matrix(y_true=label_tensor_val, \n",
    "                      y_pred=pred_label, \n",
    "                      labels=None, \n",
    "                      true_labels=None, \n",
    "                      pred_labels=None, \n",
    "                      title=\"Linear Discriminant Analysis Confusion Matrix\", \n",
    "                      normalize=False, \n",
    "                      hide_zeros=False, \n",
    "                      hide_counts=False, \n",
    "                      x_tick_rotation=0, \n",
    "                      ax=None, \n",
    "                      figsize=(10, 10), \n",
    "                      cmap='Blues', \n",
    "                      title_fontsize='large', \n",
    "                      text_fontsize='medium')"
   ]
  },
  {
   "cell_type": "markdown",
   "metadata": {},
   "source": [
    "## Testing data collected from classmates"
   ]
  },
  {
   "cell_type": "code",
   "execution_count": 50,
   "metadata": {},
   "outputs": [
    {
     "name": "stdout",
     "output_type": "stream",
     "text": [
      "LABEL\tTOTAL\tREAD\tSAVED\t<1s COUNT\n",
      "-----\t-----\t----\t-----\t---------\n",
      "zero\t15\t15\t15\t0\n",
      "one\t15\t15\t15\t0\n",
      "two\t15\t15\t15\t0\n",
      "three\t15\t15\t15\t0\n",
      "four\t15\t15\t15\t0\n",
      "five\t15\t15\t15\t0\n",
      "six\t15\t15\t15\t0\n",
      "seven\t15\t15\t15\t0\n",
      "eight\t15\t15\t15\t0\n",
      "nine\t15\t15\t15\t0\n",
      "\n",
      "MISSION COMPELTE!!!\n"
     ]
    }
   ],
   "source": [
    "SAMPLE_RATE = 16000\n",
    "\n",
    "test_audio_path = \"testing\"\n",
    "phoneme_path = os.path.join(os.getcwd(), \"Phonemes\")\n",
    "phoneme_dataframe = pd.read_csv(os.path.join(phoneme_path, \"phonemes.csv\"))\n",
    "\n",
    "test_reader = WaveReader(path=test_audio_path, \n",
    "                         sample_rate=SAMPLE_RATE, \n",
    "                         padding_type=None, \n",
    "                         read_size=None)\n",
    "\n",
    "wav_array_test, label_array_test, total_test, loss_test = test_reader.read(labels=phoneme_dataframe.words)"
   ]
  },
  {
   "cell_type": "code",
   "execution_count": 51,
   "metadata": {},
   "outputs": [
    {
     "name": "stdout",
     "output_type": "stream",
     "text": [
      "Wave Data Simulation ... Done\n",
      "Label Simulation ... Done\n",
      "Phoneme Simulation... Done\n",
      "\n",
      "Example Label Display: ['zero']\n",
      "Example Phoneme Display: <start> Z IY R OW <end>\n"
     ]
    }
   ],
   "source": [
    "CREATE_SIZE = len(wav_array_test)\n",
    "MIN_BINDING_SIZE = 1\n",
    "MAX_BINDING_SIZE = 1\n",
    "\n",
    "preprocesser = Preprocesser(create_size=CREATE_SIZE, \n",
    "                            min_sz=MIN_BINDING_SIZE, \n",
    "                            max_sz=MAX_BINDING_SIZE, \n",
    "                            padding_type=\"white_noise\")\n",
    "\n",
    "test_wave = preprocesser.simulate_wave(wav_array)\n",
    "test_label = preprocesser.simulate_label(label_array)\n",
    "test_phoneme = preprocesser.simulate_phoneme(labels=test_label, \n",
    "                                             label_dict=phoneme_dataframe.words.values, \n",
    "                                             phoneme_dict=phoneme_dataframe.phonemes.values)\n",
    "\n",
    "print(f\"\\nExample Label Display: {test_label[0]}\")\n",
    "print(f\"Example Phoneme Display: {test_phoneme[0]}\")"
   ]
  },
  {
   "cell_type": "code",
   "execution_count": 52,
   "metadata": {},
   "outputs": [
    {
     "name": "stdout",
     "output_type": "stream",
     "text": [
      "Applying MFCC to 150th case\n",
      "Simulated MFCC wave: (input size, time steps, MFCC dimension) (150, 99, 39)\n"
     ]
    }
   ],
   "source": [
    "mfcced_test_wave = mfcc_applier.apply(test_wave, sample_rate=SAMPLE_RATE)\n",
    "print(\"Simulated MFCC wave: (input size, time steps, MFCC dimension) {}\".format(mfcced_test_wave.shape))"
   ]
  },
  {
   "cell_type": "code",
   "execution_count": 53,
   "metadata": {},
   "outputs": [
    {
     "name": "stdout",
     "output_type": "stream",
     "text": [
      "Input Shape: (150, 99, 39)\n",
      "Output Shape: (150, 7)\n",
      "\n",
      "TOKEN\t--->\tWORDS\n",
      "=======================\n",
      "1\t--->\t<start>\n",
      "12\t--->\tz\n",
      "7\t--->\tiy\n",
      "4\t--->\tr\n",
      "13\t--->\tow\n",
      "2\t--->\t<end>\n",
      "\n"
     ]
    }
   ],
   "source": [
    "wav_tensor_test = tf.convert_to_tensor(mfcced_test_wave, dtype=tf.float32)\n",
    "\n",
    "# must use the same tokenizer\n",
    "phoneme_tensor_test = phoneme_tokenizer.texts_to_sequences(test_phoneme)\n",
    "phoneme_tensor_test = tf.keras.preprocessing.sequence.pad_sequences(phoneme_tensor_test, padding='post')\n",
    "\n",
    "print(\"Input Shape: {}\".format(wav_tensor_test.shape))\n",
    "print(\"Output Shape: {}\".format(phoneme_tensor_test.shape))\n",
    "\n",
    "for tensor in phoneme_tensor_test[:1]:\n",
    "    preprocesser.show_convert(tensor, phoneme_tokenizer)\n",
    "    print()"
   ]
  },
  {
   "cell_type": "code",
   "execution_count": 54,
   "metadata": {},
   "outputs": [
    {
     "name": "stdout",
     "output_type": "stream",
     "text": [
      "Index: [14]\n",
      "Predicted translation: f ao r iy f ao \n"
     ]
    },
    {
     "data": {
      "image/png": "[encoded data removed]",
      "text/plain": [
       "<Figure size 720x720 with 1 Axes>"
      ]
     },
     "metadata": {
      "needs_background": "light"
     },
     "output_type": "display_data"
    },
    {
     "name": "stdout",
     "output_type": "stream",
     "text": [
      "\n",
      "TOKEN\t--->\tWORDS\n",
      "=======================\n",
      "1\t--->\t<start>\n",
      "6\t--->\tf\n",
      "15\t--->\tao\n",
      "4\t--->\tr\n",
      "2\t--->\t<end>\n"
     ]
    },
    {
     "data": {
      "text/html": [
       "\n",
       "                <audio  controls=\"controls\" >\n",
       "                    <source src=\"data:audio/wav;base64,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\" type=\"audio/wav\" />\n",
       "                    Your browser does not support the audio element.\n",
       "                </audio>\n",
       "              "
      ],
      "text/plain": [
       "<IPython.lib.display.Audio object>"
      ]
     },
     "execution_count": 54,
     "metadata": {},
     "output_type": "execute_result"
    }
   ],
   "source": [
    "# testing with test wave data\n",
    "# index = [i for i in np.random.randint(len(wav_tensor_test), size=1)]\n",
    "index = [14]\n",
    "print(f\"Index: {index}\")\n",
    "test_wave = wav_tensor_test[index]\n",
    "test_phoneme = phoneme_tensor_test[index, :]\n",
    "\n",
    "max_input_length = sample_output.shape[1]\n",
    "max_output_length = test_phoneme.shape[1] - 1 # minus the '<start>' since it won't show up in prediction\n",
    "\n",
    "translate(test_wave, max_input_length, max_output_length, phoneme_tokenizer)\n",
    "for tensor in test_phoneme:\n",
    "    preprocesser.show_convert(tensor, phoneme_tokenizer)\n",
    "    \n",
    "ipd.Audio(test_wave, rate=SAMPLE_RATE)"
   ]
  },
  {
   "cell_type": "code",
   "execution_count": 55,
   "metadata": {},
   "outputs": [
    {
     "name": "stdout",
     "output_type": "stream",
     "text": [
      "predicting 150th wave tensor - time 0.21 min\r"
     ]
    }
   ],
   "source": [
    "start = time.time()\n",
    "\n",
    "total_iter = len(wav_tensor_test)\n",
    "pred_id_test = np.zeros((total_iter, max_output_length))\n",
    "for i in range(total_iter):\n",
    "    _, IDs, _ = predict(wav_tensor_test[i], max_input_length, max_output_length, phoneme_tokenizer)\n",
    "    pred_id_test[i] = IDs.astype(np.int32)\n",
    "    \n",
    "    time_consumed = (time.time() - start) / 60\n",
    "    print(\"predicting {}th wave tensor - time {:.2f} min\".format(i+1, time_consumed), end=\"\\r\")\n",
    "\n",
    "# time_consumed = (time.time() - start) / 60\n",
    "# print(\"\\nTime Consumed: {:.2f} min\".format(time_consumed))"
   ]
  },
  {
   "cell_type": "code",
   "execution_count": 56,
   "metadata": {},
   "outputs": [],
   "source": [
    "# predict label from phonemes\n",
    "pred_label_test = np.argmax(phoneme2label.predict(pred_id_test), 1)\n",
    "pred_label_test = le.inverse_transform(pred_label_test)\n",
    "\n",
    "# true test label\n",
    "test_label = np.array([label for label in test_label])\n",
    "test_label = test_label.reshape(test_label.shape[0], )"
   ]
  },
  {
   "cell_type": "code",
   "execution_count": 57,
   "metadata": {},
   "outputs": [
    {
     "name": "stdout",
     "output_type": "stream",
     "text": [
      "Testing Accuracy: 0.9600\n"
     ]
    }
   ],
   "source": [
    "count = 0\n",
    "for i in range(len(pred_label_test)):\n",
    "    if pred_label_test[i] == test_label[i]:\n",
    "        count += 1\n",
    "        \n",
    "count /= len(pred_label_test)\n",
    "print(\"Testing Accuracy: {:.4f}\".format(count))"
   ]
  },
  {
   "cell_type": "code",
   "execution_count": 58,
   "metadata": {},
   "outputs": [
    {
     "data": {
      "text/plain": [
       "<matplotlib.axes._subplots.AxesSubplot at 0x22280ff04e0>"
      ]
     },
     "execution_count": 58,
     "metadata": {},
     "output_type": "execute_result"
    },
    {
     "data": {
      "image/png": "[encoded data removed]",
      "text/plain": [
       "<Figure size 720x720 with 2 Axes>"
      ]
     },
     "metadata": {
      "needs_background": "light"
     },
     "output_type": "display_data"
    }
   ],
   "source": [
    "# plot the confusion\n",
    "plot_confusion_matrix(y_true=test_label, \n",
    "                      y_pred=pred_label_test, \n",
    "                      labels=None, \n",
    "                      true_labels=None, \n",
    "                      pred_labels=None, \n",
    "                      title=\"Linear Discriminant Analysis Confusion Matrix\", \n",
    "                      normalize=False, \n",
    "                      hide_zeros=False, \n",
    "                      hide_counts=False, \n",
    "                      x_tick_rotation=0, \n",
    "                      ax=None, \n",
    "                      figsize=(10, 10), \n",
    "                      cmap='Blues', \n",
    "                      title_fontsize='large', \n",
    "                      text_fontsize='medium')"
   ]
  }
 ],
 "metadata": {
  "kernelspec": {
   "display_name": "Python 3",
   "language": "python",
   "name": "python3"
  },
  "language_info": {
   "codemirror_mode": {
    "name": "ipython",
    "version": 3
   },
   "file_extension": ".py",
   "mimetype": "text/x-python",
   "name": "python",
   "nbconvert_exporter": "python",
   "pygments_lexer": "ipython3",
   "version": "3.6.10"
  }
 },
 "nbformat": 4,
 "nbformat_minor": 2
}
